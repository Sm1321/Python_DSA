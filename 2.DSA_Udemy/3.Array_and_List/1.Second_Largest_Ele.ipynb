{
 "cells": [
  {
   "cell_type": "code",
   "execution_count": null,
   "metadata": {},
   "outputs": [],
   "source": []
  },
  {
   "cell_type": "markdown",
   "metadata": {},
   "source": [
    "#### Find the Second Largest Element in the List\n",
    "- Given a list of element"
   ]
  },
  {
   "cell_type": "code",
   "execution_count": 25,
   "metadata": {},
   "outputs": [
    {
     "name": "stdout",
     "output_type": "stream",
     "text": [
      "47\n"
     ]
    }
   ],
   "source": [
    "def SecondLargest_ele(lst):\n",
    "    f_lar = lst[0]\n",
    "    s_lar = float('-inf')\n",
    "    n = len(lst)\n",
    "    if (len(lst)==1):\n",
    "        return None #If the list has one element\n",
    "    for i in range(0,n):\n",
    "        if (lst[i] > f_lar):   \n",
    "            s_lar = f_lar #update the s_lar \n",
    "            f_lar = lst[i] #update the f_lar\n",
    "        elif(lst[i]> s_lar and lst[i] != f_lar):\n",
    "            s_lar = lst[i]\n",
    "    return s_lar\n",
    "\n",
    "\n",
    "##Call the function\n",
    "print(SecondLargest_ele([1,2,3,4,5,6,7,8,25,47,36,12,96]))\n"
   ]
  },
  {
   "cell_type": "code",
   "execution_count": 24,
   "metadata": {},
   "outputs": [
    {
     "name": "stdout",
     "output_type": "stream",
     "text": [
      "-inf -------------- -inf\n"
     ]
    }
   ],
   "source": [
    "f_lar = float('-inf')\n",
    "s_lar = float('-inf')\n",
    "print(f_lar,\"--------------\",s_lar)"
   ]
  },
  {
   "cell_type": "code",
   "execution_count": null,
   "metadata": {},
   "outputs": [],
   "source": []
  }
 ],
 "metadata": {
  "kernelspec": {
   "display_name": "Python 3",
   "language": "python",
   "name": "python3"
  },
  "language_info": {
   "codemirror_mode": {
    "name": "ipython",
    "version": 3
   },
   "file_extension": ".py",
   "mimetype": "text/x-python",
   "name": "python",
   "nbconvert_exporter": "python",
   "pygments_lexer": "ipython3",
   "version": "3.12.5"
  }
 },
 "nbformat": 4,
 "nbformat_minor": 2
}
