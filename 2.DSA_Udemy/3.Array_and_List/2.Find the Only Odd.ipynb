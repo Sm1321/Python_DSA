{
 "cells": [
  {
   "cell_type": "code",
   "execution_count": null,
   "metadata": {},
   "outputs": [],
   "source": []
  },
  {
   "cell_type": "markdown",
   "metadata": {},
   "source": [
    "#### Find the only odd\n",
    "\n",
    "Find the Number Occurring Odd Number of Times\n",
    "\n",
    "Given an array of positive integers. All numbers occur an even number of times except one number which occurs an odd number of times.\n",
    "\n",
    "\n",
    "\n",
    "Find the number in O(n) time & constant space.\n",
    "\n",
    "- - -- - --- -- -- ---- ---- -----\n",
    "Examples : \n",
    "\n",
    "Input : arr = {1, 2, 3, 2, 3, 1, 3}\n",
    "\n",
    "Output : 3\n",
    "\n",
    "Input : arr = {5, 7, 2, 7, 5, 2, 5}\n",
    "\n",
    "Output : 5"
   ]
  },
  {
   "cell_type": "code",
   "execution_count": 1,
   "metadata": {},
   "outputs": [
    {
     "name": "stdout",
     "output_type": "stream",
     "text": [
      "30\n"
     ]
    }
   ],
   "source": [
    "###Simple Method\n",
    "def Count_Odd_SimpleMethod(lst):\n",
    "    res = None\n",
    "    for x in lst:\n",
    "        cnt_ele = lst.count(x)\n",
    "        if (cnt_ele %2 !=0):\n",
    "            res =  x\n",
    "            break\n",
    "    return res    \n",
    "         \n",
    "\n",
    "print(Count_Odd_SimpleMethod([10,20,20,30,10]))         "
   ]
  },
  {
   "cell_type": "markdown",
   "metadata": {},
   "source": [
    "- With XOR Operator ,\n",
    "- It will make the Same numbers as 0 \n",
    "- Ex:- 10^10 = 0"
   ]
  },
  {
   "cell_type": "code",
   "execution_count": 3,
   "metadata": {},
   "outputs": [
    {
     "name": "stdout",
     "output_type": "stream",
     "text": [
      "5\n"
     ]
    }
   ],
   "source": [
    "####Best Method\n",
    "##With the XOR Operation\n",
    "def Count_Odd_Numbers(lst):\n",
    "    res = 0\n",
    "    for x in lst:\n",
    "        res = res ^ x\n",
    "    return res\n",
    "\n",
    "\n",
    "\n",
    "print(Count_Odd_Numbers([5, 7, 2, 7, 5, 2, 5]))"
   ]
  }
 ],
 "metadata": {
  "kernelspec": {
   "display_name": "Python 3",
   "language": "python",
   "name": "python3"
  },
  "language_info": {
   "codemirror_mode": {
    "name": "ipython",
    "version": 3
   },
   "file_extension": ".py",
   "mimetype": "text/x-python",
   "name": "python",
   "nbconvert_exporter": "python",
   "pygments_lexer": "ipython3",
   "version": "3.12.5"
  }
 },
 "nbformat": 4,
 "nbformat_minor": 2
}
