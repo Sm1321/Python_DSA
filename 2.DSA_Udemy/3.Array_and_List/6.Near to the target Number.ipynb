{
 "cells": [
  {
   "cell_type": "code",
   "execution_count": null,
   "metadata": {},
   "outputs": [],
   "source": []
  },
  {
   "cell_type": "markdown",
   "metadata": {},
   "source": [
    "Given an array arr[] of size N containing positive integers and an integer X.\n",
    "You need to find the value in the array which is greater than X and closest to it. \n",
    "( if no such value exists the answer should be -1)\n",
    "\n",
    "Example 1:\n",
    "\n",
    "Input:\n",
    "N = 5\n",
    "\n",
    "arr[] = {4 67 13 12 15}\n",
    "\n",
    "X = 16\n",
    "\n",
    "Output: 67\n",
    "\n",
    "\n",
    "Explanation:\n",
    "- For a given value 16, there\n",
    "is only one value 67 that greater than\n",
    "it and so it is the answer.\n",
    "Example 2:\n",
    "\n",
    "Input:\n",
    "N = 5\n",
    "\n",
    "arr[] = {1 2 3 4 5}\n",
    "\n",
    "X = 1\n",
    "\n",
    "Output: 2\n",
    "\n",
    "\n",
    "Explanation:\n",
    "- For a given value 1, there\n",
    "are 4 values greater than it 2 3 4 5.\n",
    "But 2 is closest to 1 so it is the answer"
   ]
  },
  {
   "cell_type": "code",
   "execution_count": 8,
   "metadata": {},
   "outputs": [
    {
     "name": "stdout",
     "output_type": "stream",
     "text": [
      "17\n"
     ]
    }
   ],
   "source": [
    "\n",
    "def immediateGreater(arr, x):\n",
    "    a = None\n",
    "    \n",
    "    for i in arr:\n",
    "        if i > x:  # Find element greater than x\n",
    "            if a is None or i < a:  # Update with the smallest greater element\n",
    "                a = i\n",
    "    \n",
    "    # If no greater element found, return -1\n",
    "    return a if a is not None else -1  \n",
    "\n",
    "\n",
    "print(immediateGreater([4 ,67 ,13 ,12, 17],16))\n"
   ]
  },
  {
   "cell_type": "code",
   "execution_count": null,
   "metadata": {},
   "outputs": [],
   "source": []
  },
  {
   "cell_type": "code",
   "execution_count": null,
   "metadata": {},
   "outputs": [],
   "source": []
  }
 ],
 "metadata": {
  "kernelspec": {
   "display_name": "Python 3",
   "language": "python",
   "name": "python3"
  },
  "language_info": {
   "codemirror_mode": {
    "name": "ipython",
    "version": 3
   },
   "file_extension": ".py",
   "mimetype": "text/x-python",
   "name": "python",
   "nbconvert_exporter": "python",
   "pygments_lexer": "ipython3",
   "version": "3.12.5"
  }
 },
 "nbformat": 4,
 "nbformat_minor": 2
}
