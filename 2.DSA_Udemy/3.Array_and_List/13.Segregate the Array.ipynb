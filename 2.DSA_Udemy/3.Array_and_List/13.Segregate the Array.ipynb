{
 "cells": [
  {
   "cell_type": "code",
   "execution_count": null,
   "metadata": {},
   "outputs": [],
   "source": []
  },
  {
   "cell_type": "markdown",
   "metadata": {},
   "source": [
    "### problem in which you need to segregate an array of elements containing two types of elements\n",
    "- Positive\n",
    "- Negative"
   ]
  },
  {
   "cell_type": "code",
   "execution_count": 6,
   "metadata": {},
   "outputs": [
    {
     "name": "stdout",
     "output_type": "stream",
     "text": [
      "[-12, -10, 18, 15]\n",
      "[-3, -2, 15, 18]\n"
     ]
    }
   ],
   "source": [
    "def segregate_array(lst):\n",
    "    n = len(lst)\n",
    "    count = -1  # start count at -1, which will track the position for negatives\n",
    "    \n",
    "    for i in range(0,n):\n",
    "        if lst[i] < 0:\n",
    "            count += 1\n",
    "            # Swap the current element with the element at count position\n",
    "            lst[i], lst[count] = lst[count], lst[i]\n",
    "    \n",
    "    return lst\n",
    "\n",
    "# Test cases\n",
    "print(segregate_array([-12, 18, -10, 15]))  # [-12, -10, 18, 15] (negatives on the left)\n",
    "print(segregate_array([15, -3, -2, 18]))    # [-3, -2, 15, 18] (negatives on the left)\n"
   ]
  },
  {
   "cell_type": "code",
   "execution_count": 7,
   "metadata": {},
   "outputs": [
    {
     "name": "stdout",
     "output_type": "stream",
     "text": [
      "[18, 15, -10, -12]\n",
      "[15, 18, -2, -3]\n"
     ]
    }
   ],
   "source": [
    "\n",
    "##Make the postive index on left\n",
    "def segregate_array(lst):\n",
    "    n = len(lst)\n",
    "    count = -1  \n",
    "    \n",
    "    for i in range(0,n):\n",
    "        if lst[i] > 0:\n",
    "            count += 1\n",
    "            # Swap the current element with the element at count position\n",
    "            lst[i], lst[count] = lst[count], lst[i]\n",
    "    \n",
    "    return lst\n",
    "\n",
    "# Test cases\n",
    "print(segregate_array([-12, 18, -10, 15]))  \n",
    "print(segregate_array([15, -3, -2, 18]))    \n"
   ]
  },
  {
   "cell_type": "code",
   "execution_count": null,
   "metadata": {},
   "outputs": [],
   "source": []
  },
  {
   "cell_type": "code",
   "execution_count": null,
   "metadata": {},
   "outputs": [],
   "source": []
  },
  {
   "cell_type": "code",
   "execution_count": null,
   "metadata": {},
   "outputs": [],
   "source": []
  },
  {
   "cell_type": "code",
   "execution_count": null,
   "metadata": {},
   "outputs": [],
   "source": []
  }
 ],
 "metadata": {
  "kernelspec": {
   "display_name": "Python 3",
   "language": "python",
   "name": "python3"
  },
  "language_info": {
   "codemirror_mode": {
    "name": "ipython",
    "version": 3
   },
   "file_extension": ".py",
   "mimetype": "text/x-python",
   "name": "python",
   "nbconvert_exporter": "python",
   "pygments_lexer": "ipython3",
   "version": "3.12.5"
  }
 },
 "nbformat": 4,
 "nbformat_minor": 2
}
