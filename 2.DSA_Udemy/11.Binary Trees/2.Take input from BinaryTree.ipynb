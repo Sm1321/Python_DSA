{
 "cells": [
  {
   "cell_type": "markdown",
   "metadata": {},
   "source": [
    "### Take input of Binaty Tree"
   ]
  },
  {
   "cell_type": "code",
   "execution_count": 2,
   "metadata": {},
   "outputs": [],
   "source": [
    "### Binary Tree Node Creation\n",
    "\n",
    "class BinaryTreeNode:\n",
    "    def __init__(self,data):\n",
    "        self.data = data\n",
    "        self.left = None \n",
    "        self.right = None \n",
    "\n",
    "#Add the nodes \n"
   ]
  },
  {
   "cell_type": "code",
   "execution_count": 3,
   "metadata": {},
   "outputs": [
    {
     "name": "stdout",
     "output_type": "stream",
     "text": [
      "Enter the Binary Tree Node (-1 for no node):\n",
      "Enter the left child of 1:\n",
      "Enter the left child of 2:\n",
      "Enter the left child of 3:\n",
      "Enter the right child of 3:\n",
      "Enter the right child of 2:\n",
      "Enter the left child of 5:\n",
      "Enter the right child of 5:\n",
      "Enter the right child of 1:\n"
     ]
    }
   ],
   "source": [
    "\n",
    "#Take the input \n",
    "def take_input_binary_tree():\n",
    "    data = int(input(\"Enter the Data for the Node (-1 for no node): \"))\n",
    "    if data == -1:\n",
    "        return None\n",
    "    \n",
    "    node = BinaryTreeNode(data)  # For the Root Node \n",
    "    \n",
    "    # Left node input\n",
    "    print(f\"Enter the left child of {data}:\")\n",
    "    node.left = take_input_binary_tree()\n",
    "    \n",
    "    # Right node input \n",
    "    print(f\"Enter the right child of {data}:\")\n",
    "    node.right = take_input_binary_tree()\n",
    "    \n",
    "    return node \n",
    "\n",
    "print(\"Enter the Binary Tree Node (-1 for no node):\")\n",
    "root = take_input_binary_tree()\n"
   ]
  },
  {
   "cell_type": "code",
   "execution_count": 4,
   "metadata": {},
   "outputs": [
    {
     "name": "stdout",
     "output_type": "stream",
     "text": [
      "1:L->2, R->None, \n",
      "2:L->3, R->5, \n",
      "3:L->None, R->None, \n",
      "5:L->None, R->None, \n"
     ]
    }
   ],
   "source": [
    "def print_binary_tree(root):\n",
    "    if root == None:\n",
    "        return \n",
    "    print(root.data,end = \":\")\n",
    "\n",
    "    if(root.left is not None):\n",
    "        print(f\"L->{root.left.data}\",end = \", \")\n",
    "    else:\n",
    "        print(\"L->None\",end = \", \")\n",
    "\n",
    "    if(root.right is not None):\n",
    "        print(f\"R->{root.right.data}\",end = \", \")\n",
    "    else:\n",
    "        print(\"R->None\",end = \", \")    \n",
    "    \n",
    "    print()\n",
    "    print_binary_tree(root.left)\n",
    "    print_binary_tree(root.right)\n",
    "\n",
    "#call the print function \n",
    "print_binary_tree(root)    "
   ]
  },
  {
   "cell_type": "code",
   "execution_count": 5,
   "metadata": {},
   "outputs": [],
   "source": [
    "##"
   ]
  },
  {
   "cell_type": "markdown",
   "metadata": {},
   "source": [
    "## Take input Level Wise"
   ]
  },
  {
   "cell_type": "code",
   "execution_count": 7,
   "metadata": {},
   "outputs": [
    {
     "name": "stdout",
     "output_type": "stream",
     "text": [
      "Enter the Binary Tree Data(-1 for No Node)\n",
      "1:L->2, R->3, \n",
      "2:L->None, R->None, \n",
      "3:L->5, R->None, \n",
      "5:L->None, R->None, \n"
     ]
    }
   ],
   "source": [
    "from collections import deque\n",
    "\n",
    "#Function call for the \n",
    "def take_input_level_wise():\n",
    "    data = int(input(\"Enter the Data for the Node (-1 for no node): \"))\n",
    "    if data == -1:\n",
    "        return None\n",
    "    root = BinaryTreeNode(data) #\n",
    "    queue = deque([root])\n",
    "\n",
    "    while len(queue)!=0:\n",
    "        current_node = queue.popleft()\n",
    "\n",
    "        left_child_data = int(input(f\"Enter the left child for{current_node.data}\"))\n",
    "        if(left_child_data!=-1):\n",
    "            left_node = BinaryTreeNode(left_child_data)\n",
    "            current_node.left = left_node\n",
    "            queue.append(left_node)\n",
    "    \n",
    "        right_child_data = int(input(f\"Enter the right child for{current_node.data}\"))\n",
    "        if(right_child_data!=-1):\n",
    "            right_node = BinaryTreeNode(right_child_data)\n",
    "            current_node.right = right_node\n",
    "            queue.append(right_node)\n",
    "    return root \n",
    "\n",
    "\n",
    "########################3\n",
    "print(\"Enter the Binary Tree Data(-1 for No Node)\")\n",
    "root = take_input_level_wise()\n",
    "print_binary_tree(root)\n",
    "\n",
    "\n",
    "\n",
    "\n",
    "\n",
    "\n"
   ]
  },
  {
   "cell_type": "code",
   "execution_count": null,
   "metadata": {},
   "outputs": [],
   "source": []
  }
 ],
 "metadata": {
  "kernelspec": {
   "display_name": "base",
   "language": "python",
   "name": "python3"
  },
  "language_info": {
   "codemirror_mode": {
    "name": "ipython",
    "version": 3
   },
   "file_extension": ".py",
   "mimetype": "text/x-python",
   "name": "python",
   "nbconvert_exporter": "python",
   "pygments_lexer": "ipython3",
   "version": "3.12.3"
  }
 },
 "nbformat": 4,
 "nbformat_minor": 2
}
