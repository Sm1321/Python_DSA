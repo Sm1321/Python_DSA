{
 "cells": [
  {
   "cell_type": "markdown",
   "metadata": {},
   "source": [
    "### Diamter  of tree"
   ]
  },
  {
   "cell_type": "code",
   "execution_count": 8,
   "metadata": {},
   "outputs": [],
   "source": [
    "class TreeNode:\n",
    "    def __init__(self, value=0, left=None, right=None):\n",
    "        self.value = value\n",
    "        self.left = left\n",
    "        self.right = right\n",
    "\n",
    "# Function to create a larger binary tree\n",
    "def create_large_binary_tree():\n",
    "    # Creating the binary tree structure\n",
    "    root = TreeNode(1)\n",
    "    root.left = TreeNode(2)\n",
    "    root.right = TreeNode(3)\n",
    "    root.left.left = TreeNode(4)\n",
    "    root.left.right = TreeNode(5)\n",
    "    root.right.left = TreeNode(6)\n",
    "    root.right.right = TreeNode(7)\n",
    "    root.left.left.left = TreeNode(8)\n",
    "    root.left.left.right = TreeNode(9)\n",
    "    root.left.left.right.left = TreeNode(11)\n",
    "    root.right.left.right = TreeNode(10)\n",
    "    \n",
    "    return root\n",
    "\n",
    "# Create the large binary tree\n",
    "large_root = create_large_binary_tree()\n",
    "\n",
    "#              1\n",
    "#           /     \\\n",
    "#           2       3\n",
    "#          / \\     / \\\n",
    "#         4   5   6   7\n",
    "#        / \\       \\\n",
    "#       8   9       10\n",
    "#          /\n",
    "#         11\n"
   ]
  },
  {
   "cell_type": "code",
   "execution_count": 12,
   "metadata": {},
   "outputs": [
    {
     "name": "stdout",
     "output_type": "stream",
     "text": [
      "Diameter of the binary tree: 5\n"
     ]
    }
   ],
   "source": [
    "# Function to calculate the diameter of the binary tree\n",
    "def diameter_of_binary_tree(root,maxi = 0):  \n",
    "    if root is None:\n",
    "        return 0\n",
    "\n",
    "    # Recursively get the height of the left and right subtrees\n",
    "    left_height = diameter_of_binary_tree(root.left,maxi)\n",
    "    right_height = diameter_of_binary_tree(root.right,maxi)\n",
    "\n",
    "    # Update the diameter if the path through the current node is larger\n",
    "    maxi = max(maxi, left_height + right_height)\n",
    "\n",
    "    # Return the height of the current subtree\n",
    "    return max(left_height, right_height) + 1\n",
    "\n",
    "\n",
    "# Find and print the diameter of the tree\n",
    "print(\"Diameter of the binary tree:\", diameter_of_binary_tree(large_root,0))"
   ]
  },
  {
   "cell_type": "code",
   "execution_count": null,
   "metadata": {},
   "outputs": [
    {
     "name": "stdout",
     "output_type": "stream",
     "text": [
      "Diameter of the binary tree: 7\n"
     ]
    }
   ],
   "source": [
    "# Function to calculate the diameter of the binary tree\n",
    "def diameter_of_binary_tree(root):\n",
    "    diameter = 0\n",
    "    ###############################################################\n",
    "    # Helper function to calculate height and update the diameter\n",
    "    def height_and_diameter(node):\n",
    "        nonlocal diameter\n",
    "        if node is None:\n",
    "            return 0\n",
    "\n",
    "        # Recursively get the height of the left and right subtrees\n",
    "        left_height = height_and_diameter(node.left)\n",
    "        right_height = height_and_diameter(node.right)\n",
    "\n",
    "        # Update the diameter if the path through the current node is larger\n",
    "        diameter = max(diameter, left_height + right_height)\n",
    "\n",
    "        # Return the height of the current subtree\n",
    "        return max(left_height, right_height) + 1\n",
    "\n",
    "    \n",
    "    height_and_diameter(root)\n",
    "    return diameter\n",
    "\n",
    "################################################################################\n",
    "# Find and print the diameter of the tree\n",
    "print(\"Diameter of the binary tree:\", diameter_of_binary_tree(large_root))\n",
    "\n"
   ]
  }
 ],
 "metadata": {
  "kernelspec": {
   "display_name": "base",
   "language": "python",
   "name": "python3"
  },
  "language_info": {
   "codemirror_mode": {
    "name": "ipython",
    "version": 3
   },
   "file_extension": ".py",
   "mimetype": "text/x-python",
   "name": "python",
   "nbconvert_exporter": "python",
   "pygments_lexer": "ipython3",
   "version": "3.12.3"
  }
 },
 "nbformat": 4,
 "nbformat_minor": 2
}
