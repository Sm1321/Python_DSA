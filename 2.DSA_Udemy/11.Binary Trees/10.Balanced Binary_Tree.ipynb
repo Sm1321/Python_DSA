{
 "cells": [
  {
   "cell_type": "markdown",
   "metadata": {},
   "source": [
    "### **Balanced Binary Tree**"
   ]
  },
  {
   "cell_type": "code",
   "execution_count": 3,
   "metadata": {},
   "outputs": [],
   "source": [
    "class TreeNode:\n",
    "    def __init__(self, value=0, left=None, right=None):\n",
    "        self.value = value\n",
    "        self.left = left\n",
    "        self.right = right\n",
    "\n",
    "# Function to create a sample binary tree\n",
    "def create_sample_binary_tree():\n",
    "    # Example: Creating the following binary tree\n",
    "    #         1\n",
    "    #        / \\\n",
    "    #       2   3\n",
    "    #      / \\  / \\\n",
    "    #     4   5 6  7\n",
    "    \n",
    "    root = TreeNode(1)\n",
    "    root.left = TreeNode(2)\n",
    "    root.right = TreeNode(3)\n",
    "    root.left.left = TreeNode(4)\n",
    "    root.left.right = TreeNode(5)\n",
    "    root.right.right = TreeNode(7)\n",
    "    root.right.left = TreeNode(6)\n",
    "    return root\n",
    "\n",
    "# Create the binary tree\n",
    "root = create_sample_binary_tree()\n",
    "\n"
   ]
  },
  {
   "cell_type": "code",
   "execution_count": 1,
   "metadata": {},
   "outputs": [],
   "source": [
    "## Tp find the height\n",
    "#finf the MAximum of the Depth of Binary Tree \n",
    "def height_of_Tree(root):\n",
    "    if(root is None):\n",
    "        return 0\n",
    "    \n",
    "    #find the Depth \n",
    "    left_h = height_of_Tree(root.left)\n",
    "    right_h = height_of_Tree(root.right)\n",
    "    #find the ,max of left and right and add 1 to it.\n",
    "    return 1 + max(left_h,right_h)\n",
    "\n",
    "\n",
    "#Find the MAximum of Depeth of Tree\n",
    "#height_of_Tree(root)\n"
   ]
  },
  {
   "cell_type": "markdown",
   "metadata": {},
   "source": [
    "- This is O(N^2) solution"
   ]
  },
  {
   "cell_type": "code",
   "execution_count": 6,
   "metadata": {},
   "outputs": [
    {
     "data": {
      "text/plain": [
       "True"
      ]
     },
     "execution_count": 6,
     "metadata": {},
     "output_type": "execute_result"
    }
   ],
   "source": [
    "def Check_BalancedBinaryTree(root):\n",
    "    if root is None:\n",
    "        return True \n",
    "    \n",
    "    #find the height of the Tree\n",
    "    lh = height_of_Tree(root.left)\n",
    "    rh = height_of_Tree(root.right)\n",
    "    #Check the Balanced or Not \n",
    "    if(abs(rh - lh)>1):\n",
    "        return False \n",
    "    #Go to the left and right sub-trees\n",
    "    left = Check_BalancedBinaryTree(root.left)\n",
    "    right = Check_BalancedBinaryTree(root.right)\n",
    "     # Return True only if both subtrees are balanced\n",
    "    return left and right\n",
    "\n",
    "\n",
    "#call the function\n",
    "Check_BalancedBinaryTree(root)\n"
   ]
  },
  {
   "cell_type": "markdown",
   "metadata": {},
   "source": [
    "### Optimized code"
   ]
  },
  {
   "cell_type": "markdown",
   "metadata": {},
   "source": [
    "- To find the Balanced Binary Tree"
   ]
  },
  {
   "cell_type": "code",
   "execution_count": 8,
   "metadata": {},
   "outputs": [
    {
     "name": "stdout",
     "output_type": "stream",
     "text": [
      "Tree is Balanced \n"
     ]
    }
   ],
   "source": [
    "def find_Bal_Tree(root):\n",
    "    if(root is None):\n",
    "        return 0 \n",
    "    lh = find_Bal_Tree(root.left)\n",
    "    \n",
    "    rh = find_Bal_Tree(root.right)\n",
    "    #If the prev values may got -1,To chekc it.\n",
    "    if(lh==-1 or rh==-1):\n",
    "        return -1\n",
    "    #This comdition check for Balanced Tree\n",
    "    if(abs(lh - rh) > 1):\n",
    "        return -1 \n",
    "    return max(lh,rh) + 1\n",
    "    \n",
    "#Call the Function\n",
    "ans = find_Bal_Tree(root)\n",
    "if(ans !=-1):\n",
    "    print(\"Tree is Balanced \")\n",
    "else:\n",
    "    print(\"Not Balanced Tree.\")    \n"
   ]
  },
  {
   "cell_type": "code",
   "execution_count": 13,
   "metadata": {},
   "outputs": [
    {
     "name": "stdout",
     "output_type": "stream",
     "text": [
      "Not Balanced Tree\n"
     ]
    }
   ],
   "source": [
    "# Function to create an unbalanced binary tree\n",
    "def create_unbalanced_binary_tree():\n",
    "    # Creating the following unbalanced tree:\n",
    "    #         1\n",
    "    #        /\n",
    "    #       2\n",
    "    #      /\n",
    "    #     3\n",
    "    #    /\n",
    "    #   4\n",
    "    root = TreeNode(1)\n",
    "    root.left = TreeNode(2)\n",
    "    root.left.left = TreeNode(3)\n",
    "    root.left.left.left = TreeNode(4)\n",
    "    return root\n",
    "\n",
    "# Create the unbalanced binary tree\n",
    "unbalanced_root = create_unbalanced_binary_tree()\n",
    "\n",
    "# Call the function and check if the tree is balanced\n",
    "ans = find_Bal_Tree(unbalanced_root)\n",
    "if ans != -1:\n",
    "    print(\"Tree is Balanced\")\n",
    "else:\n",
    "    print(\"Not Balanced Tree\")"
   ]
  },
  {
   "cell_type": "code",
   "execution_count": null,
   "metadata": {},
   "outputs": [],
   "source": []
  },
  {
   "cell_type": "code",
   "execution_count": null,
   "metadata": {},
   "outputs": [],
   "source": []
  }
 ],
 "metadata": {
  "kernelspec": {
   "display_name": "base",
   "language": "python",
   "name": "python3"
  },
  "language_info": {
   "codemirror_mode": {
    "name": "ipython",
    "version": 3
   },
   "file_extension": ".py",
   "mimetype": "text/x-python",
   "name": "python",
   "nbconvert_exporter": "python",
   "pygments_lexer": "ipython3",
   "version": "3.12.3"
  }
 },
 "nbformat": 4,
 "nbformat_minor": 2
}
