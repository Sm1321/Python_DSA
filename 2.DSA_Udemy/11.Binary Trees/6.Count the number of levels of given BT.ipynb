{
 "cells": [
  {
   "cell_type": "markdown",
   "metadata": {},
   "source": [
    "### Count the total number of binary tree levels"
   ]
  },
  {
   "cell_type": "code",
   "execution_count": 4,
   "metadata": {},
   "outputs": [],
   "source": [
    "## Count the number of Non-Leaf Node\n",
    "class TreeNode:\n",
    "    def __init__(self, value=0, left=None, right=None):\n",
    "        self.value = value\n",
    "        self.left = left\n",
    "        self.right = right\n",
    "\n",
    "\n",
    "# Function to create a sample binary tree\n",
    "def create_sample_binary_tree():\n",
    "    # Example: Creating the following binary tree\n",
    "    #         1\n",
    "    #        / \\\n",
    "    #       2   3\n",
    "    #      / \\   \\\n",
    "    #     4   5   6\n",
    "    \n",
    "    root = TreeNode(1)\n",
    "    root.left = TreeNode(2)\n",
    "    root.right = TreeNode(3)\n",
    "    root.left.left = TreeNode(4)\n",
    "    root.left.right = TreeNode(5)\n",
    "    root.right.right = TreeNode(6)\n",
    "    return root\n",
    "\n",
    "# Create the binary tree\n",
    "root = create_sample_binary_tree()\n",
    "\n",
    "\n",
    "\n",
    "\n",
    "\n",
    "\n"
   ]
  },
  {
   "cell_type": "code",
   "execution_count": 5,
   "metadata": {},
   "outputs": [],
   "source": [
    "# Function to create a sample binary tree\n",
    "def create_sample_binary_tree():\n",
    "    # Example: Creating the following binary tree\n",
    "    #         1\n",
    "    #        /  \\\n",
    "    #       2    3\n",
    "    #      / \\   / \\\n",
    "    #     4   5  7  6\n",
    "    #                \\\n",
    "    #                 8   \n",
    "    \n",
    "    root = TreeNode(1)\n",
    "    root.left = TreeNode(2)\n",
    "    root.right = TreeNode(3)\n",
    "    root.left.left = TreeNode(4)\n",
    "    root.left.right = TreeNode(5)\n",
    "    root.right.left = TreeNode(7)\n",
    "    root.right.right = TreeNode(6)\n",
    "    root.right.right.right = TreeNode(8)\n",
    "    return root\n",
    "\n",
    "# Create the binary tree\n",
    "root_1 = create_sample_binary_tree()"
   ]
  },
  {
   "cell_type": "markdown",
   "metadata": {},
   "source": [
    "### Count the no_levels in the given BinaryTree"
   ]
  },
  {
   "cell_type": "code",
   "execution_count": 12,
   "metadata": {},
   "outputs": [
    {
     "name": "stdout",
     "output_type": "stream",
     "text": [
      "Number of no_levels in the binary tree: 2\n",
      "----------------------------------------\n",
      "Number of no_levels  in the binary tree: 3\n"
     ]
    }
   ],
   "source": [
    "###  Function to count the number of no_levels in the binary tree\n",
    "# Function to count the number of no_levels in the binary tree\n",
    "\n",
    "def number_of_levels(root):\n",
    "    if root is None:  # If the tree is empty, return 0 levels\n",
    "        return 0\n",
    "    # A leaf node has no left or right children\n",
    "    if root.left is  None and root.right is  None:\n",
    "        return 0\n",
    "    \n",
    "    # Calculate the height of the left and right subtrees\n",
    "    left_height = number_of_levels(root.left)\n",
    "    right_height = number_of_levels(root.right)\n",
    "    # The number of levels is the greater of the two heights, plus 1\n",
    "    \n",
    "    return max(left_height, right_height) + 1\n",
    "\n",
    "    \n",
    " #############################################################################   \n",
    "# Count the number of leaf nodes\n",
    "leaf_count = number_of_levels(root)\n",
    "print(\"Number of no_levels in the binary tree:\", leaf_count)\n",
    "print('----'*10)\n",
    "# # Count the number of leaf nodes\n",
    "leaf_count = number_of_levels(root_1)\n",
    "print(\"Number of no_levels  in the binary tree:\", leaf_count)"
   ]
  },
  {
   "cell_type": "code",
   "execution_count": null,
   "metadata": {},
   "outputs": [],
   "source": []
  }
 ],
 "metadata": {
  "kernelspec": {
   "display_name": "base",
   "language": "python",
   "name": "python3"
  },
  "language_info": {
   "codemirror_mode": {
    "name": "ipython",
    "version": 3
   },
   "file_extension": ".py",
   "mimetype": "text/x-python",
   "name": "python",
   "nbconvert_exporter": "python",
   "pygments_lexer": "ipython3",
   "version": "3.12.3"
  }
 },
 "nbformat": 4,
 "nbformat_minor": 2
}
