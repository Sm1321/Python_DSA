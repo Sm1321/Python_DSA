{
 "cells": [
  {
   "cell_type": "code",
   "execution_count": 3,
   "metadata": {},
   "outputs": [
    {
     "name": "stdout",
     "output_type": "stream",
     "text": [
      "1\n"
     ]
    }
   ],
   "source": [
    "### Binary Tree Node Creation\n",
    "\n",
    "class BinaryTreeNode:\n",
    "    def __init__(self,data):\n",
    "        self.data = data\n",
    "        self.left = None \n",
    "        self.right = None \n",
    "\n",
    "#Add the nodes \n",
    "root = BinaryTreeNode(1)\n",
    "root.left = BinaryTreeNode(2)\n",
    "root.right = BinaryTreeNode(3)\n",
    "\n",
    "\n",
    "print(root.data)"
   ]
  },
  {
   "cell_type": "markdown",
   "metadata": {},
   "source": [
    "### Print Binary Tree"
   ]
  },
  {
   "cell_type": "code",
   "execution_count": 9,
   "metadata": {},
   "outputs": [
    {
     "name": "stdout",
     "output_type": "stream",
     "text": [
      "1:L->2, R->3, \n",
      "2:L->None, R->None, \n",
      "3:L->None, R->None, \n"
     ]
    }
   ],
   "source": [
    "def print_binary_tree(root):\n",
    "    if root == None:\n",
    "        return \n",
    "    print(root.data,end = \":\")\n",
    "\n",
    "    if(root.left is not None):\n",
    "        print(f\"L->{root.left.data}\",end = \", \")\n",
    "    else:\n",
    "        print(\"L->None\",end = \", \")\n",
    "\n",
    "    if(root.right is not None):\n",
    "        print(f\"R->{root.right.data}\",end = \", \")\n",
    "    else:\n",
    "        print(\"R->None\",end = \", \")    \n",
    "    \n",
    "    print()\n",
    "    print_binary_tree(root.left)\n",
    "    print_binary_tree(root.right)\n",
    "\n",
    "#call the print function \n",
    "print_binary_tree(root)    "
   ]
  },
  {
   "cell_type": "code",
   "execution_count": null,
   "metadata": {},
   "outputs": [],
   "source": []
  },
  {
   "cell_type": "code",
   "execution_count": null,
   "metadata": {},
   "outputs": [],
   "source": []
  },
  {
   "cell_type": "code",
   "execution_count": null,
   "metadata": {},
   "outputs": [],
   "source": []
  }
 ],
 "metadata": {
  "kernelspec": {
   "display_name": "base",
   "language": "python",
   "name": "python3"
  },
  "language_info": {
   "codemirror_mode": {
    "name": "ipython",
    "version": 3
   },
   "file_extension": ".py",
   "mimetype": "text/x-python",
   "name": "python",
   "nbconvert_exporter": "python",
   "pygments_lexer": "ipython3",
   "version": "3.12.3"
  }
 },
 "nbformat": 4,
 "nbformat_minor": 2
}
