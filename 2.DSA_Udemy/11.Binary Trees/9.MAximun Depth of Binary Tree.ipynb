{
 "cells": [
  {
   "cell_type": "markdown",
   "metadata": {},
   "source": [
    "### Maximum Depth of Binary Tree"
   ]
  },
  {
   "cell_type": "code",
   "execution_count": 2,
   "metadata": {},
   "outputs": [],
   "source": [
    "class TreeNode:\n",
    "    def __init__(self, value=0, left=None, right=None):\n",
    "        self.value = value\n",
    "        self.left = left\n",
    "        self.right = right\n",
    "\n",
    "# Function to create a sample binary tree\n",
    "def create_sample_binary_tree():\n",
    "    # Example: Creating the following binary tree\n",
    "    #         1\n",
    "    #        / \\\n",
    "    #       2   3\n",
    "    #      / \\  / \\\n",
    "    #     4   5 6  7\n",
    "    \n",
    "    root = TreeNode(1)\n",
    "    root.left = TreeNode(2)\n",
    "    root.right = TreeNode(3)\n",
    "    root.left.left = TreeNode(4)\n",
    "    root.left.right = TreeNode(5)\n",
    "    root.right.right = TreeNode(7)\n",
    "    root.right.left = TreeNode(6)\n",
    "    return root\n",
    "\n",
    "# Create the binary tree\n",
    "root = create_sample_binary_tree()\n",
    "\n"
   ]
  },
  {
   "cell_type": "markdown",
   "metadata": {},
   "source": [
    "## **Maximum Depth of the Binary Tree**"
   ]
  },
  {
   "cell_type": "code",
   "execution_count": null,
   "metadata": {},
   "outputs": [
    {
     "data": {
      "text/plain": [
       "3"
      ]
     },
     "execution_count": 3,
     "metadata": {},
     "output_type": "execute_result"
    }
   ],
   "source": [
    "#finf the MAximum of the Depth of Binary Tree \n",
    "def Maximum_Depth_of_Tree(root):\n",
    "    if(root is None):\n",
    "        return 0\n",
    "    \n",
    "    #find the Depth \n",
    "    left_h = Maximum_Depth_of_Tree(root.left)\n",
    "    right_h = Maximum_Depth_of_Tree(root.right)\n",
    "    #find the ,max of left and right and add 1 to it.\n",
    "    return 1 + max(left_h,right_h)\n",
    "\n",
    "\n",
    "#Find the MAximum of Depeth of Tree\n",
    "Maximum_Depth_of_Tree(root)\n"
   ]
  }
 ],
 "metadata": {
  "kernelspec": {
   "display_name": "base",
   "language": "python",
   "name": "python3"
  },
  "language_info": {
   "codemirror_mode": {
    "name": "ipython",
    "version": 3
   },
   "file_extension": ".py",
   "mimetype": "text/x-python",
   "name": "python",
   "nbconvert_exporter": "python",
   "pygments_lexer": "ipython3",
   "version": "3.12.3"
  }
 },
 "nbformat": 4,
 "nbformat_minor": 2
}
