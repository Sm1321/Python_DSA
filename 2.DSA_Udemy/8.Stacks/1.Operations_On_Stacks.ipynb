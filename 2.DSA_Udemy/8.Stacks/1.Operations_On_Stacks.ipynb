{
 "cells": [
  {
   "cell_type": "markdown",
   "metadata": {},
   "source": [
    "### Stack Operation Uisng the List"
   ]
  },
  {
   "cell_type": "code",
   "execution_count": null,
   "metadata": {},
   "outputs": [],
   "source": [
    "## Stack Implementation : Using  In-Buit Python List"
   ]
  },
  {
   "cell_type": "code",
   "execution_count": 1,
   "metadata": {},
   "outputs": [
    {
     "name": "stdout",
     "output_type": "stream",
     "text": [
      "Stack: [10, 20, 30]\n",
      "Top element: 30\n",
      "Size of stack: 3\n",
      "Popped element: 30\n",
      "Stack after pop: [10, 20]\n"
     ]
    }
   ],
   "source": [
    "class Stack:\n",
    "    def __init__(self):\n",
    "        self.stack = []\n",
    "\n",
    "    # Check if stack is empty\n",
    "    def is_empty(self):\n",
    "        return len(self.stack) == 0\n",
    "\n",
    "    # Add an element to the stack\n",
    "    def push(self, item):\n",
    "        self.stack.append(item)\n",
    "\n",
    "    # Remove the top element from the stack\n",
    "    def pop(self):\n",
    "        if self.is_empty():\n",
    "            return \"Stack is empty\"\n",
    "        return self.stack.pop()\n",
    "\n",
    "    # View the top element of the stack\n",
    "    def peek(self):\n",
    "        if self.is_empty():\n",
    "            return \"Stack is empty\"\n",
    "        return self.stack[-1]\n",
    "\n",
    "    # Get the size of the stack\n",
    "    def size(self):\n",
    "        return len(self.stack)\n",
    "\n",
    "    # Display the stack elements\n",
    "    def display(self):\n",
    "        return self.stack\n",
    "\n",
    "\n",
    "# Example usage:\n",
    "s = Stack()\n",
    "s.push(10)\n",
    "s.push(20)\n",
    "s.push(30)\n",
    "print(\"Stack:\", s.display())  # Output: Stack: [10, 20, 30]\n",
    "print(\"Top element:\", s.peek())  # Output: Top element: 30\n",
    "print(\"Size of stack:\", s.size())  # Output: Size of stack: 3\n",
    "print(\"Popped element:\", s.pop())  # Output: Popped element: 30\n",
    "print(\"Stack after pop:\", s.display())  # Output: Stack after pop: [10, 20]\n"
   ]
  },
  {
   "cell_type": "markdown",
   "metadata": {},
   "source": [
    "### Explanation of Functions:\n",
    "- push(item): \n",
    "    - Adds an element to the top of the stack.\n",
    "- pop(): \n",
    "    - Removes the top element and returns it.\n",
    "- peek(): \n",
    "    - Returns the top element without removing it.\n",
    "- size(): \n",
    "    - Returns the current number of elements in the stack.\n",
    "- display(): \n",
    "    - Shows the entire stack."
   ]
  },
  {
   "cell_type": "code",
   "execution_count": null,
   "metadata": {},
   "outputs": [],
   "source": []
  }
 ],
 "metadata": {
  "kernelspec": {
   "display_name": "base",
   "language": "python",
   "name": "python3"
  },
  "language_info": {
   "codemirror_mode": {
    "name": "ipython",
    "version": 3
   },
   "file_extension": ".py",
   "mimetype": "text/x-python",
   "name": "python",
   "nbconvert_exporter": "python",
   "pygments_lexer": "ipython3",
   "version": "3.12.3"
  }
 },
 "nbformat": 4,
 "nbformat_minor": 2
}
