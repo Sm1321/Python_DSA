{
 "cells": [
  {
   "cell_type": "markdown",
   "metadata": {},
   "source": [
    "### Stack Operation Uisng the List"
   ]
  },
  {
   "cell_type": "code",
   "execution_count": null,
   "metadata": {},
   "outputs": [],
   "source": [
    "## Stack Implementation : Using  In-Buit Python List"
   ]
  },
  {
   "cell_type": "code",
   "execution_count": 14,
   "metadata": {},
   "outputs": [
    {
     "name": "stdout",
     "output_type": "stream",
     "text": [
      "Stack: [30, 20, 10]\n",
      "Top element: 30\n",
      "Size of stack: 3\n",
      "Popped element: 30\n",
      "Stack after pop: [20, 10]\n",
      "Stack: [40, 20, 10]\n",
      "The list is:-\n",
      "40\n",
      "20\n",
      "10\n"
     ]
    }
   ],
   "source": [
    "class Stack:\n",
    "    def __init__(self):\n",
    "        self.stack = []  # Empty list to store stack items\n",
    "    \n",
    "    def __str__(self):\n",
    "        \"\"\"Returns a string representation of the stack (top to bottom).\"\"\"\n",
    "        if self.is_empty():\n",
    "            return \"Stack is Empty\"\n",
    "        return \"The list is:-\\n\" + \"\\n\".join(str(item) for item in reversed(self.stack))\n",
    "    \n",
    "    def is_empty(self):\n",
    "        \"\"\"Check if the stack is empty.\"\"\"\n",
    "        return len(self.stack) == 0\n",
    "    \n",
    "    def push(self, item):\n",
    "        \"\"\"Push an item onto the stack.\"\"\"\n",
    "        self.stack.append(item)\n",
    "    \n",
    "    \n",
    "    def pop(self):\n",
    "        \"\"\"Remove and return the top item from the stack.\n",
    "        Raises IndexError if stack is empty.\n",
    "        \"\"\"\n",
    "        if self.is_empty():\n",
    "            raise IndexError(\"Stack is Empty\")\n",
    "        return self.stack.pop()\n",
    "    \n",
    "    def peek(self):\n",
    "        \"\"\"Return the top item without removing it.\n",
    "        Raises IndexError if stack is empty.\n",
    "        \"\"\"\n",
    "        if self.is_empty():\n",
    "            raise IndexError(\"Stack is Empty\")\n",
    "        return self.stack[-1]\n",
    "    \n",
    "    def size(self):\n",
    "        \"\"\"Return the number of items in the stack.\"\"\"\n",
    "        return len(self.stack)\n",
    "    \n",
    "    def display(self):\n",
    "        \"\"\"Return the stack as a list (for debugging).\"\"\"\n",
    "        return list(reversed(self.stack))  # Return a copy to avoid external modifications\n",
    "    \n",
    "\n",
    "# Example usage:\n",
    "s = Stack()\n",
    "s.push(10)\n",
    "s.push(20)\n",
    "s.push(30)\n",
    "print(\"Stack:\", s.display())  # Output: Stack: [30, 20, 10]\n",
    "print(\"Top element:\", s.peek())  # Output: Top element: 30\n",
    "print(\"Size of stack:\", s.size())  # Output: Size of stack: 3\n",
    "print(\"Popped element:\", s.pop())  # Output: Popped element: 30\n",
    "print(\"Stack after pop:\", s.display())  # Output: Stack after pop: [10, 20]\n",
    "s.push(40)\n",
    "print(\"Stack:\", s.display())  # Output: Stack: [10, 20, 30]\n",
    "print(s)\n"
   ]
  },
  {
   "cell_type": "markdown",
   "metadata": {},
   "source": [
    "### Explanation of Functions:\n",
    "- push(item): \n",
    "    - Adds an element to the top of the stack.\n",
    "- pop(): \n",
    "    - Removes the top element and returns it.\n",
    "- peek(): \n",
    "    - Returns the top element without removing it.\n",
    "- size(): \n",
    "    - Returns the current number of elements in the stack.\n",
    "- display(): \n",
    "    - Shows the entire stack."
   ]
  },
  {
   "cell_type": "code",
   "execution_count": null,
   "metadata": {},
   "outputs": [],
   "source": []
  }
 ],
 "metadata": {
  "kernelspec": {
   "display_name": "base",
   "language": "python",
   "name": "python3"
  },
  "language_info": {
   "codemirror_mode": {
    "name": "ipython",
    "version": 3
   },
   "file_extension": ".py",
   "mimetype": "text/x-python",
   "name": "python",
   "nbconvert_exporter": "python",
   "pygments_lexer": "ipython3",
   "version": "3.12.7"
  }
 },
 "nbformat": 4,
 "nbformat_minor": 2
}
