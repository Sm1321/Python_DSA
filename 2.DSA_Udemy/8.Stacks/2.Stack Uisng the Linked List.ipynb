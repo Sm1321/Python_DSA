{
 "cells": [
  {
   "cell_type": "markdown",
   "metadata": {},
   "source": [
    "## Stack Uisng the Linked List"
   ]
  },
  {
   "cell_type": "code",
   "execution_count": 1,
   "metadata": {},
   "outputs": [],
   "source": [
    "# Define the Node class\n",
    "class Node:\n",
    "    def __init__(self, data):\n",
    "        self.data = data\n",
    "        self.next = None\n",
    "\n",
    "# Define the Stack class using a linked list\n",
    "class Stack:\n",
    "    def __init__(self):\n",
    "        self.top = None  # The top of the stack\n",
    "\n",
    "    # Check if stack is empty\n",
    "    def is_empty(self):\n",
    "        return self.top is None\n",
    "\n",
    "    # Push an element onto the stack\n",
    "    def push(self, data):\n",
    "        new_node = Node(data) #Add the New Data for the Node\n",
    "        new_node.next = self.top\n",
    "        self.top = new_node\n",
    "\n",
    "    # Pop an element from the stack\n",
    "    def pop(self):\n",
    "        if self.is_empty():\n",
    "            return \"Stack is empty\"\n",
    "        popped_data = self.top.data #take the Data\n",
    "        self.top = self.top.next #we move the pointer to next\n",
    "        return popped_data\n",
    "\n",
    "    # Peek at the top element of the stack\n",
    "    def peek(self):\n",
    "        if self.is_empty():\n",
    "            return \"Stack is empty\"\n",
    "        return self.top.data\n",
    "\n",
    "    # Display the stack elements\n",
    "    def display(self):\n",
    "        elements = []\n",
    "        current = self.top\n",
    "        while current:\n",
    "            elements.append(current.data)\n",
    "            current = current.next\n",
    "        return elements\n",
    "    \n",
    "    \n",
    "\n",
    "\n",
    "\n"
   ]
  },
  {
   "cell_type": "code",
   "execution_count": 2,
   "metadata": {},
   "outputs": [
    {
     "name": "stdout",
     "output_type": "stream",
     "text": [
      "Stack after pushes: [30, 20, 10]\n",
      "Top element: 30\n",
      "Popped element: 30\n",
      "Stack after pop: [20, 10]\n"
     ]
    }
   ],
   "source": [
    "# Example usage:\n",
    "stack = Stack()\n",
    "stack.push(10)\n",
    "stack.push(20)\n",
    "stack.push(30)\n",
    "print(\"Stack after pushes:\", stack.display())  # Output: Stack after pushes: [30, 20, 10]\n",
    "print(\"Top element:\", stack.peek())  # Output: Top element: 30\n",
    "print(\"Popped element:\", stack.pop())  # Output: Popped element: 30\n",
    "print(\"Stack after pop:\", stack.display())  # Output: Stack after pop: [20, 10]"
   ]
  },
  {
   "cell_type": "code",
   "execution_count": 5,
   "metadata": {},
   "outputs": [
    {
     "name": "stdout",
     "output_type": "stream",
     "text": [
      "Is Empty: False\n"
     ]
    }
   ],
   "source": [
    "print(\"Is Empty:\",stack.is_empty())"
   ]
  },
  {
   "cell_type": "code",
   "execution_count": null,
   "metadata": {},
   "outputs": [],
   "source": []
  }
 ],
 "metadata": {
  "kernelspec": {
   "display_name": "base",
   "language": "python",
   "name": "python3"
  },
  "language_info": {
   "codemirror_mode": {
    "name": "ipython",
    "version": 3
   },
   "file_extension": ".py",
   "mimetype": "text/x-python",
   "name": "python",
   "nbconvert_exporter": "python",
   "pygments_lexer": "ipython3",
   "version": "3.12.3"
  }
 },
 "nbformat": 4,
 "nbformat_minor": 2
}
