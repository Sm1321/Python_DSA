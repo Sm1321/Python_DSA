{
 "cells": [
  {
   "cell_type": "code",
   "execution_count": null,
   "metadata": {},
   "outputs": [],
   "source": []
  },
  {
   "cell_type": "markdown",
   "metadata": {},
   "source": [
    "### Check the Anagram\n",
    "- Problem Description:\n",
    "\n",
    "You are given two strings s and t. Your task is to determine if string t is an anagram of string s. An anagram is a word or phrase formed by rearranging the characters of a different word or phrase, using all the original characters exactly once.\n",
    "\n",
    "\n",
    "\n",
    "- Input:\n",
    "Two strings s and t where both lengths are between 1 and 1000.\n",
    "\n",
    "- Output:\n",
    "Return True if t is an anagram of s, and False otherwise.\n",
    "\n",
    "Example:\n",
    "Input: s = \"anagram\", t = \"nagaram\"\n",
    "\n",
    "Output: True\n",
    " \n",
    "Input: s = \"rat\", t = \"car\"\n",
    "\n",
    "Output: False"
   ]
  },
  {
   "cell_type": "code",
   "execution_count": 1,
   "metadata": {},
   "outputs": [
    {
     "name": "stdout",
     "output_type": "stream",
     "text": [
      "False\n",
      "True\n"
     ]
    }
   ],
   "source": [
    "\n",
    "def is_anagram( s: str, t: str):\n",
    "    count = [0] * 26\n",
    "    \n",
    "    # Count the frequency of characters in string s\n",
    "    for x in s:\n",
    "        count[ord(x) - ord('a')] += 1\n",
    "    \n",
    "    # Decrement the frequency of characters in string t\n",
    "    for x in t:\n",
    "        count[ord(x) - ord('a')] -= 1\n",
    "    \n",
    "    # Check if any character has non-zero frequency ,bcz of char is not equal zero means , it is not Anagram\n",
    "    for val in count:\n",
    "        if val != 0:\n",
    "            return False\n",
    "    \n",
    "    return True\n",
    "\n",
    "####\n",
    "s = \"rat\"\n",
    "t = \"car\"\n",
    "print(is_anagram(s,t))\n",
    "#####\n",
    "s = \"anagram\"\n",
    "t = \"nagaram\"\n",
    "print(is_anagram(s,t))\n",
    "#####"
   ]
  },
  {
   "cell_type": "code",
   "execution_count": null,
   "metadata": {},
   "outputs": [],
   "source": []
  }
 ],
 "metadata": {
  "kernelspec": {
   "display_name": "Python 3",
   "language": "python",
   "name": "python3"
  },
  "language_info": {
   "codemirror_mode": {
    "name": "ipython",
    "version": 3
   },
   "file_extension": ".py",
   "mimetype": "text/x-python",
   "name": "python",
   "nbconvert_exporter": "python",
   "pygments_lexer": "ipython3",
   "version": "3.12.5"
  }
 },
 "nbformat": 4,
 "nbformat_minor": 2
}
