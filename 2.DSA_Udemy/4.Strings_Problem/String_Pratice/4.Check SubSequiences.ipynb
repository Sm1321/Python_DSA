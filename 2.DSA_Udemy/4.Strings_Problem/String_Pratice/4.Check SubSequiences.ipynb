{
 "cells": [
  {
   "cell_type": "markdown",
   "metadata": {},
   "source": [
    "### Check the SunSequences\n",
    "Problem Description:\n",
    "\n",
    "You are given two strings s and t. Your task is to determine if string t is a subsequence of string s. A subsequence of a string is a new string that is formed from the original string by deleting some (or no) characters without changing the order of the remaining characters.\n",
    "\n",
    "\n",
    "\n",
    "Input:\n",
    "\n",
    "Two strings s and t where the length of s is between 1 and 1000, and the length of t is between 1 and 1000.\n",
    "\n",
    "\n",
    "\n",
    "Output:\n",
    "\n",
    "Return True if t is a subsequence of s, and False otherwise.\n",
    "\n",
    "\n",
    "\n",
    "Example:\n",
    "\n",
    "Input: s = \"abcde\", t = \"ace\"\n",
    "Output: True\n",
    " \n",
    "Input: s = \"abcde\", t = \"aec\"\n",
    "Output: False"
   ]
  },
  {
   "cell_type": "code",
   "execution_count": 1,
   "metadata": {},
   "outputs": [
    {
     "name": "stdout",
     "output_type": "stream",
     "text": [
      "True\n",
      "False\n",
      "True\n",
      "True\n",
      "False\n"
     ]
    }
   ],
   "source": [
    "def is_subsequence(s: str, t: str) -> bool:\n",
    "    \"\"\"\n",
    "    Function to check if t is a subsequence of s.\n",
    "    \n",
    "    Parameters:\n",
    "    s (str): The original string.\n",
    "    t (str): The target subsequence string.\n",
    "    \n",
    "    Returns:\n",
    "    bool: True if t is a subsequence of s, False otherwise.\n",
    "    \"\"\"\n",
    "    # If t is longer than s, it cannot be a subsequence\n",
    "    if len(t) > len(s):\n",
    "        return False\n",
    "\n",
    "    t_len = len(t)\n",
    "    i = 0  # Pointer for t\n",
    "    \n",
    "    for char in s:\n",
    "        # First, check if i is within the bounds of t\n",
    "        if i < t_len and char == t[i]:\n",
    "            i += 1  # Move to the next character in t\n",
    "\n",
    "        # If we have matched all characters in t, return True early\n",
    "        if i == t_len:\n",
    "            return True\n",
    "            \n",
    "    # If we finish looping through s and haven't matched all characters in t\n",
    "    return i == t_len  # Returns True if all characters in t were matched\n",
    "\n",
    "\n",
    "print(is_subsequence(\"abcde\", \"ace\"))  # Output: True\n",
    "print(is_subsequence(\"abcde\", \"aec\"))  # Output: False\n",
    "print(is_subsequence(\"abcde\", \"abcde\"))  # Output: True\n",
    "print(is_subsequence(\"abcde\", \"\"))  # Output: True (Empty string is a subsequence)\n",
    "print(is_subsequence(\"\", \"a\"))  # Output: False (Non-empty string can't be a subsequence of an empty string)\n"
   ]
  }
 ],
 "metadata": {
  "kernelspec": {
   "display_name": "Python 3",
   "language": "python",
   "name": "python3"
  },
  "language_info": {
   "codemirror_mode": {
    "name": "ipython",
    "version": 3
   },
   "file_extension": ".py",
   "mimetype": "text/x-python",
   "name": "python",
   "nbconvert_exporter": "python",
   "pygments_lexer": "ipython3",
   "version": "3.12.5"
  }
 },
 "nbformat": 4,
 "nbformat_minor": 2
}
