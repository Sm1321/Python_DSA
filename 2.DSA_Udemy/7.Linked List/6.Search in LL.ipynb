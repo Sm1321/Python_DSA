{
 "cells": [
  {
   "cell_type": "markdown",
   "metadata": {},
   "source": [
    "## Serach in the LL"
   ]
  },
  {
   "cell_type": "code",
   "execution_count": 6,
   "metadata": {},
   "outputs": [
    {
     "name": "stdout",
     "output_type": "stream",
     "text": [
      "the Elemnet found at index: 3\n",
      "----------------------------------------\n",
      "Not Found\n"
     ]
    }
   ],
   "source": [
    "def search_in_LL(head,val):\n",
    "    temp = head \n",
    "    cnt_indx = 0\n",
    "    while temp!=None:\n",
    "        if(temp.data == val):\n",
    "            return cnt_indx\n",
    "        cnt_indx+=1\n",
    "        temp = temp.next\n",
    "    #Element not Found    \n",
    "    return -1\n",
    "\n",
    "\n",
    "###  \n",
    "# # Example usage:\n",
    "class Node:\n",
    "    def __init__(self, data):\n",
    "        self.data = data\n",
    "        self.next = None\n",
    "\n",
    "# Creating a linked list: 10 -> 20 -> 30 -> 40 -> 50 -> 60\n",
    "head = Node(10)\n",
    "head.next = Node(20)\n",
    "head.next.next = Node(30)\n",
    "head.next.next.next = Node(40)\n",
    "head.next.next.next.next = Node(50)\n",
    "head.next.next.next.next.next = Node(60)\n",
    "\n",
    "# search the node with value 40\n",
    "ans = search_in_LL(head, 40)\n",
    "\n",
    "if(ans == -1):\n",
    "    print(\"Not Found\")\n",
    "else:\n",
    "    print(\"the Elemnet found at index:\",ans)        \n",
    "\n",
    "print(\"----\"*10)\n",
    "#search the node with value 400\n",
    "ans = search_in_LL(head, 400)\n",
    "if(ans == -1):\n",
    "    print(\"Not Found\")\n",
    "else:\n",
    "    print(\"the Elemnet found at index:\",ans)   "
   ]
  },
  {
   "cell_type": "markdown",
   "metadata": {},
   "source": [
    "## Search with index uing the Recurion"
   ]
  },
  {
   "cell_type": "code",
   "execution_count": 11,
   "metadata": {},
   "outputs": [
    {
     "name": "stdout",
     "output_type": "stream",
     "text": [
      "the Elemnet found : 50\n",
      "----------------------------------------\n",
      "Not Found\n"
     ]
    }
   ],
   "source": [
    "\n",
    "\n",
    "def search_by_index_rec(head, index,cnt_indx = 0):\n",
    "    # If the list is empty, return None\n",
    "    if head is None:\n",
    "        return None\n",
    "    \n",
    "    if cnt_indx == index:\n",
    "        ans = head.data\n",
    "        return ans\n",
    "\n",
    "    return search_by_index_rec(head.next,index,cnt_indx + 1)\n",
    "\n",
    "\n",
    "\n",
    "\n",
    "###  \n",
    "# # Example usage:\n",
    "class Node:\n",
    "    def __init__(self, data):\n",
    "        self.data = data\n",
    "        self.next = None\n",
    "\n",
    "# Creating a linked list: 10 -> 20 -> 30 -> 40 -> 50 -> 60\n",
    "head = Node(10)\n",
    "head.next = Node(20)\n",
    "head.next.next = Node(30)\n",
    "head.next.next.next = Node(40)\n",
    "head.next.next.next.next = Node(50)\n",
    "head.next.next.next.next.next = Node(60)\n",
    "\n",
    "# search the node with value 40\n",
    "ans = search_by_index_rec(head, 4)\n",
    "\n",
    "if(ans == None):\n",
    "    print(\"Not Found\")\n",
    "else:\n",
    "    print(\"the Elemnet found :\",ans)        \n",
    "\n",
    "print(\"----\"*10)\n",
    "#search the node with value 400\n",
    "ans = search_by_index_rec(head, 400)\n",
    "if(ans == None):\n",
    "    print(\"Not Found\")\n",
    "else:\n",
    "    print(\"the Elemnet found:\",ans)   "
   ]
  },
  {
   "cell_type": "code",
   "execution_count": null,
   "metadata": {},
   "outputs": [],
   "source": []
  }
 ],
 "metadata": {
  "kernelspec": {
   "display_name": "base",
   "language": "python",
   "name": "python3"
  },
  "language_info": {
   "codemirror_mode": {
    "name": "ipython",
    "version": 3
   },
   "file_extension": ".py",
   "mimetype": "text/x-python",
   "name": "python",
   "nbconvert_exporter": "python",
   "pygments_lexer": "ipython3",
   "version": "3.12.3"
  }
 },
 "nbformat": 4,
 "nbformat_minor": 2
}
