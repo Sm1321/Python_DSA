{
 "cells": [
  {
   "cell_type": "markdown",
   "metadata": {},
   "source": [
    "\n",
    "- Given a linked list of n nodes and a key , the task is to check if the key is present in the linked list or not.\n",
    "\n",
    "Example:\n",
    "\n",
    "Input:\n",
    "\n",
    "n = 4\n",
    "\n",
    "1->2->3->4\n",
    "\n",
    "Key = 3\n",
    "\n",
    "Output:\n",
    "\n",
    "True\n",
    "\n",
    "Explanation:\n",
    "\n",
    "3 is present in Linked List, so the function returns true."
   ]
  },
  {
   "cell_type": "code",
   "execution_count": null,
   "metadata": {},
   "outputs": [],
   "source": [
    "\n",
    "''' Node of a linked list\n",
    "class Node:\n",
    "    def __init__(self, data):\n",
    "        self.data = data\n",
    "        self.next = None\n",
    "'''\n",
    "class Solution:\n",
    "    def searchKey(self, n, head, key):\n",
    "        #Code here\n",
    "        while head!=None:\n",
    "            if(head.data == key):\n",
    "                return True \n",
    "            head = head.next    \n",
    "                    \n",
    "        return False"
   ]
  },
  {
   "cell_type": "code",
   "execution_count": 1,
   "metadata": {},
   "outputs": [],
   "source": [
    "# Function to print the linked list\n",
    "def print_LL(head):\n",
    "    temp = head\n",
    "    while temp is not None:\n",
    "        print(temp.data, end=\" -> \")\n",
    "        temp = temp.next\n",
    "    print(\"None\")"
   ]
  },
  {
   "cell_type": "markdown",
   "metadata": {},
   "source": [
    "#### Find the Length"
   ]
  },
  {
   "cell_type": "code",
   "execution_count": 2,
   "metadata": {},
   "outputs": [],
   "source": [
    "# Function to print the linked list and count the nodes\n",
    "def print_LL(head):\n",
    "    temp = head\n",
    "    cnt = 0\n",
    "    while temp is not None:\n",
    "        print(temp.data, end=\" -> \")\n",
    "        cnt += 1\n",
    "        temp = temp.next\n",
    "    print(\"None\")  # Indicate the end of the linked list\n",
    "    print(f\"Total nodes: {cnt}\")\n"
   ]
  },
  {
   "cell_type": "markdown",
   "metadata": {},
   "source": [
    "### Print the LL using the Recursion"
   ]
  },
  {
   "cell_type": "code",
   "execution_count": 5,
   "metadata": {},
   "outputs": [
    {
     "name": "stdout",
     "output_type": "stream",
     "text": [
      "1 -> 2 -> 3 -> 4 -> 4 -> 5 -> None\n",
      "---------------\n",
      "5 -> 4 -> 4 -> 3 -> 2 -> 1 -> Done\n"
     ]
    }
   ],
   "source": [
    "class Node:\n",
    "    def __init__(self, value):\n",
    "        self.data = value\n",
    "        self.next = None\n",
    "\n",
    "def PrintUsingRec(head):\n",
    "    if head is None:\n",
    "        return\n",
    "    print(head.data, end=\" -> \")\n",
    "    PrintUsingRec(head.next)\n",
    "\n",
    "\n",
    "def PrintUsingRec_Reverse(head):\n",
    "    if head is None:\n",
    "        return\n",
    "    PrintUsingRec_Reverse(head.next)\n",
    "    print(head.data, end=\" -> \")    \n",
    "\n",
    "def take_input():\n",
    "    head = None\n",
    "    tail = None\n",
    "\n",
    "    value = int(input(\"Enter the value of node (-1 to stop): \"))\n",
    "    while value != -1:\n",
    "        new_node = Node(value)\n",
    "        if head is None:\n",
    "            head = new_node\n",
    "            tail = head\n",
    "        else:\n",
    "            tail.next = new_node\n",
    "            tail = new_node\n",
    "        value = int(input(\"Enter the value of next node (-1 to stop): \"))\n",
    "    \n",
    "    return head\n",
    "\n",
    "# Create a linked list using user input\n",
    "head = take_input()\n",
    "\n",
    "# Print the linked list using recursion\n",
    "PrintUsingRec(head)\n",
    "print(\"None\")  # End of the linked list\n",
    "print('---'*5)\n",
    "\n",
    "##Rec Print Rev\n",
    "PrintUsingRec_Reverse(head)\n",
    "print(\"Done\")\n"
   ]
  },
  {
   "cell_type": "code",
   "execution_count": null,
   "metadata": {},
   "outputs": [],
   "source": []
  }
 ],
 "metadata": {
  "kernelspec": {
   "display_name": "Python 3",
   "language": "python",
   "name": "python3"
  },
  "language_info": {
   "codemirror_mode": {
    "name": "ipython",
    "version": 3
   },
   "file_extension": ".py",
   "mimetype": "text/x-python",
   "name": "python",
   "nbconvert_exporter": "python",
   "pygments_lexer": "ipython3",
   "version": "3.12.5"
  }
 },
 "nbformat": 4,
 "nbformat_minor": 2
}
