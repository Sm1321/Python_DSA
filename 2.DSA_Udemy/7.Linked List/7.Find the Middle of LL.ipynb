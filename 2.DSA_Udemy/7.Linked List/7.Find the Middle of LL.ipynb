{
 "cells": [
  {
   "cell_type": "markdown",
   "metadata": {},
   "source": [
    "## Find the Middle of the LL"
   ]
  },
  {
   "cell_type": "code",
   "execution_count": 1,
   "metadata": {},
   "outputs": [
    {
     "name": "stdout",
     "output_type": "stream",
     "text": [
      "15\n",
      "3\n"
     ]
    }
   ],
   "source": [
    "def Find_Middle_Of_LL(head):\n",
    "    if head is None:\n",
    "        return None  # Empty list case\n",
    "    \n",
    "    total_len = 0\n",
    "    temp = head\n",
    "\n",
    "    # Find the Length of the Linked List\n",
    "    while temp is not None:\n",
    "        total_len += 1\n",
    "        temp = temp.next\n",
    "\n",
    "    # Calculate middle index\n",
    "    middle_index = total_len // 2\n",
    "    temp = head\n",
    "\n",
    "    # Traverse to the middle element\n",
    "    for _ in range(middle_index):\n",
    "        temp = temp.next\n",
    "\n",
    "    return temp.data\n",
    "\n",
    "\n",
    "##############################################\n",
    "    # Test cases\n",
    "class Node:\n",
    "    def __init__(self, data):\n",
    "        self.data = data\n",
    "        self.next = None\n",
    "\n",
    "# Creating a linked list: 5 -> 10 -> 15 -> 20 -> 25\n",
    "head = Node(5)\n",
    "head.next = Node(10)\n",
    "head.next.next = Node(15)\n",
    "head.next.next.next = Node(20)\n",
    "head.next.next.next.next = Node(25)\n",
    "\n",
    "print(Find_Middle_Of_LL(head))  # Output: 15\n",
    "\n",
    "# Even length list: 1 -> 2 -> 3 -> 4\n",
    "head_even = Node(1)\n",
    "head_even.next = Node(2)\n",
    "head_even.next.next = Node(3)\n",
    "head_even.next.next.next = Node(4)\n",
    "\n",
    "print(Find_Middle_Of_LL(head_even))  # Output: 3 (returns the second middle element for even-length lists)\n",
    "\n"
   ]
  },
  {
   "cell_type": "markdown",
   "metadata": {},
   "source": [
    "## Slow and Fast Pointer Approch"
   ]
  },
  {
   "cell_type": "code",
   "execution_count": 4,
   "metadata": {},
   "outputs": [
    {
     "name": "stdout",
     "output_type": "stream",
     "text": [
      "15\n",
      "3\n"
     ]
    }
   ],
   "source": [
    "def Find_Middle_Of_LL(head):\n",
    "    if head is None:\n",
    "        return None  # Empty list case\n",
    "    \n",
    "    slow = head\n",
    "    fast = head\n",
    "\n",
    "    while fast is not None and fast.next is not None:\n",
    "        slow = slow.next\n",
    "        fast = fast.next.next\n",
    "    return slow.data    \n",
    "\n",
    "##############################################\n",
    "    # Test cases\n",
    "class Node:\n",
    "    def __init__(self, data):\n",
    "        self.data = data\n",
    "        self.next = None\n",
    "\n",
    "# Creating a linked list: 5 -> 10 -> 15 -> 20 -> 25\n",
    "head = Node(5)\n",
    "head.next = Node(10)\n",
    "head.next.next = Node(15)\n",
    "head.next.next.next = Node(20)\n",
    "head.next.next.next.next = Node(25)\n",
    "\n",
    "print(Find_Middle_Of_LL(head))  # Output: 15\n",
    "\n",
    "# Even length list: 1 -> 2 -> 3 -> 4\n",
    "head_even = Node(1)\n",
    "head_even.next = Node(2)\n",
    "head_even.next.next = Node(3)\n",
    "head_even.next.next.next = Node(4)\n",
    "\n",
    "print(Find_Middle_Of_LL(head_even))  # Output: 3 (returns the second middle element for even-length lists)\n",
    "\n"
   ]
  }
 ],
 "metadata": {
  "kernelspec": {
   "display_name": "base",
   "language": "python",
   "name": "python3"
  },
  "language_info": {
   "codemirror_mode": {
    "name": "ipython",
    "version": 3
   },
   "file_extension": ".py",
   "mimetype": "text/x-python",
   "name": "python",
   "nbconvert_exporter": "python",
   "pygments_lexer": "ipython3",
   "version": "3.12.3"
  }
 },
 "nbformat": 4,
 "nbformat_minor": 2
}
