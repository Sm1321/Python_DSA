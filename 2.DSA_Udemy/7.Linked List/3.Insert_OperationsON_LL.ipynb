{
 "cells": [
  {
   "cell_type": "code",
   "execution_count": 21,
   "metadata": {},
   "outputs": [],
   "source": [
    "class Node:\n",
    "    def __init__(self, value):\n",
    "        self.data = value\n",
    "        self.next = None"
   ]
  },
  {
   "cell_type": "code",
   "execution_count": 17,
   "metadata": {},
   "outputs": [],
   "source": [
    "newnode = Node(1)\n",
    "newnode.next = Node(2)\n",
    "newnode.next.next = Node(3)\n"
   ]
  },
  {
   "cell_type": "code",
   "execution_count": 18,
   "metadata": {},
   "outputs": [
    {
     "name": "stdout",
     "output_type": "stream",
     "text": [
      "1\n",
      "2\n",
      "3\n"
     ]
    }
   ],
   "source": [
    "print(newnode.data)\n",
    "print(newnode.next.data)\n",
    "print(newnode.next.next.data)"
   ]
  },
  {
   "cell_type": "markdown",
   "metadata": {},
   "source": [
    "### Inserted the new node Manually"
   ]
  },
  {
   "cell_type": "code",
   "execution_count": 19,
   "metadata": {},
   "outputs": [],
   "source": [
    "#Take the new Data\n",
    "temp_newnode = Node(0) #add ele ment to new node\n",
    "temp_newnode.next = newnode #make kink\n",
    "newnode = temp_newnode #make it first"
   ]
  },
  {
   "cell_type": "code",
   "execution_count": 20,
   "metadata": {},
   "outputs": [
    {
     "name": "stdout",
     "output_type": "stream",
     "text": [
      "0\n",
      "1\n",
      "2\n",
      "3\n"
     ]
    }
   ],
   "source": [
    "print(temp_newnode.data)\n",
    "print(temp_newnode.next.data)\n",
    "print(temp_newnode.next.next.data)\n",
    "print(temp_newnode.next.next.next.data)"
   ]
  },
  {
   "cell_type": "markdown",
   "metadata": {},
   "source": [
    "### CReate a LL "
   ]
  },
  {
   "cell_type": "code",
   "execution_count": 18,
   "metadata": {},
   "outputs": [
    {
     "name": "stdout",
     "output_type": "stream",
     "text": [
      "Linked list printed using recursion:\n",
      "1 -> 2 -> 3 -> None\n",
      "---------------\n"
     ]
    }
   ],
   "source": [
    "class Node:\n",
    "    def __init__(self, value):\n",
    "        self.data = value\n",
    "        self.next = None\n",
    "\n",
    "# Function to print the linked list using recursion\n",
    "def PrintUsingRec(head):\n",
    "    if head is None:\n",
    "        return\n",
    "    print(head.data, end=\" -> \")\n",
    "    PrintUsingRec(head.next)\n",
    "\n",
    "# Function to print the linked list in reverse using recursion\n",
    "def PrintUsingRec_Reverse(head):\n",
    "    if head is None:\n",
    "        return\n",
    "    PrintUsingRec_Reverse(head.next)\n",
    "    print(head.data, end=\" -> \")    \n",
    "\n",
    "# Function to take input and create a linked list\n",
    "def take_input():\n",
    "    head = None\n",
    "    tail = None\n",
    "\n",
    "    value = int(input(\"Enter the value of node (-1 to stop): \"))\n",
    "    while value != -1:\n",
    "        new_node = Node(value)\n",
    "        if head is None:\n",
    "            head = new_node\n",
    "            tail = head\n",
    "        else:\n",
    "            tail.next = new_node\n",
    "            tail = new_node\n",
    "        value = int(input(\"Enter the value of next node (-1 to stop): \"))\n",
    "    \n",
    "    return head\n",
    "\n",
    "# Function to insert a new node at the beginning of the linked list\n",
    "def insert_at_begin(head, data):\n",
    "    newNode = Node(data)\n",
    "    newNode.next = head\n",
    "    head = newNode  # Update the head\n",
    "    return head     # Return the new head\n",
    "\n",
    "# Function to insert a new node at the end of the linked list\n",
    "def insert_at_end(head, data):\n",
    "    newNode = Node(data)\n",
    "    if head is None:  # If the list is empty\n",
    "        return newNode\n",
    "    temp = head\n",
    "    while temp.next is not None:\n",
    "        temp = temp.next\n",
    "    temp.next = newNode  # Link the new node at the end of the list\n",
    "    return head\n",
    "\n",
    "# Function to insert a new node in the middle of the linked list (placeholder)\n",
    "def insert_at_index(head, index,data):\n",
    "    if(index == 0):\n",
    "        return insert_at_begin(head,data)\n",
    "    newNode = Node(data)\n",
    "    temp = head\n",
    "    count = 0\n",
    "\n",
    "    if(index == 1):\n",
    "        newNode = Node(data)\n",
    "        newNode.next = head.next #Making to the 1 Node link\n",
    "        head.next = newNode #link with head also\n",
    "        return head\n",
    "    \n",
    "    while temp is not None and count < index - 1:#we have stp one step before\n",
    "        temp = temp.next\n",
    "        count+=1\n",
    "\n",
    "    #link the index\n",
    "    newNode.next = temp.next\n",
    "    temp.next = newNode\n",
    "    return head    \n",
    "\n",
    "\n",
    "\n",
    "\n",
    "# Main code to test the functions\n",
    "# Create a linked list using user input\n",
    "head = take_input()\n",
    "\n",
    "# Print the linked list using recursion\n",
    "print(\"Linked list printed using recursion:\")\n",
    "PrintUsingRec(head)\n",
    "print(\"None\")  # End of the linked list\n",
    "print('---' * 5)\n",
    "\n"
   ]
  },
  {
   "cell_type": "markdown",
   "metadata": {},
   "source": [
    "### Insert Opration \n",
    "- front\n",
    "- middle \n",
    "- End"
   ]
  },
  {
   "cell_type": "markdown",
   "metadata": {},
   "source": [
    "- Insert at the start/head"
   ]
  },
  {
   "cell_type": "code",
   "execution_count": 19,
   "metadata": {},
   "outputs": [
    {
     "name": "stdout",
     "output_type": "stream",
     "text": [
      "1 -> 2 -> 3 -> \n",
      "--------\n",
      "\n",
      "Insering at the Start\n",
      "100 -> 1 -> 2 -> 3 -> "
     ]
    }
   ],
   "source": [
    "### Insert at the Start of the LL\n",
    "PrintUsingRec(head)#Print the LL\n",
    "print(\"\\n--------\\n\")\n",
    "res = insert_at_begin(head,100)\n",
    "print(\"Insering at the Start\")\n",
    "PrintUsingRec(res) #Print the LL Again,After inserting\n"
   ]
  },
  {
   "cell_type": "markdown",
   "metadata": {},
   "source": [
    "- Inser at the tail"
   ]
  },
  {
   "cell_type": "code",
   "execution_count": 20,
   "metadata": {},
   "outputs": [
    {
     "name": "stdout",
     "output_type": "stream",
     "text": [
      "1 -> 2 -> 3 -> \n",
      "--------\n",
      "\n",
      "Insering at the End\n",
      "1 -> 2 -> 3 -> 500 -> "
     ]
    }
   ],
   "source": [
    "### Insert at the End of the LL\n",
    "PrintUsingRec(head)#Print the LL\n",
    "print(\"\\n--------\\n\")\n",
    "res = insert_at_end(head,500)\n",
    "print(\"Insering at the End\")\n",
    "PrintUsingRec(res) #Print the LL Again,After inserting\n"
   ]
  },
  {
   "cell_type": "markdown",
   "metadata": {},
   "source": [
    "### Insert at the Middle\n",
    "- insert at the index"
   ]
  },
  {
   "cell_type": "code",
   "execution_count": 23,
   "metadata": {},
   "outputs": [
    {
     "name": "stdout",
     "output_type": "stream",
     "text": [
      "1 -> 10 -> 2 -> 10 -> 3 -> 500 -> \n",
      "--------\n",
      "\n",
      "Insering at the End\n",
      "1 -> 100 -> 10 -> 2 -> 10 -> 3 -> 500 -> "
     ]
    }
   ],
   "source": [
    "### Insert at the End of the LL\n",
    "PrintUsingRec(head)#Print the LL\n",
    "print(\"\\n--------\\n\")\n",
    "res = insert_at_index(head,1,100)\n",
    "print(\"Insering at the End\")\n",
    "PrintUsingRec(res) #Print the LL Again,After inserting\n"
   ]
  },
  {
   "cell_type": "code",
   "execution_count": 24,
   "metadata": {},
   "outputs": [
    {
     "name": "stdout",
     "output_type": "stream",
     "text": [
      "1 -> 100 -> 10 -> 2 -> 10 -> 3 -> 500 -> "
     ]
    }
   ],
   "source": [
    "PrintUsingRec(head)"
   ]
  },
  {
   "cell_type": "code",
   "execution_count": null,
   "metadata": {},
   "outputs": [],
   "source": []
  }
 ],
 "metadata": {
  "kernelspec": {
   "display_name": "base",
   "language": "python",
   "name": "python3"
  },
  "language_info": {
   "codemirror_mode": {
    "name": "ipython",
    "version": 3
   },
   "file_extension": ".py",
   "mimetype": "text/x-python",
   "name": "python",
   "nbconvert_exporter": "python",
   "pygments_lexer": "ipython3",
   "version": "3.12.3"
  }
 },
 "nbformat": 4,
 "nbformat_minor": 2
}
