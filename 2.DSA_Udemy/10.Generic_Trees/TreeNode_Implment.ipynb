{
 "cells": [
  {
   "cell_type": "markdown",
   "metadata": {},
   "source": [
    "### Tree Node Implemantation"
   ]
  },
  {
   "cell_type": "code",
   "execution_count": 4,
   "metadata": {},
   "outputs": [
    {
     "name": "stdout",
     "output_type": "stream",
     "text": [
      "1\n",
      "2\n",
      "3\n",
      "4\n"
     ]
    }
   ],
   "source": [
    "#\n",
    "class TreeNode:\n",
    "    def __init__(self,data):\n",
    "        self.data = data\n",
    "        self.child = []\n",
    "    ###\n",
    "    \n",
    "#    \n",
    "root = TreeNode(1)\n",
    "child1 = TreeNode(2)  \n",
    "child2 = TreeNode(3)  \n",
    "child3 = TreeNode(4)\n",
    "\n",
    "##Make a Link\n",
    "root.child.append(child1)\n",
    "root.child.append(child2)\n",
    "root.child.append(child3)\n",
    "\n",
    "#Print the nodes\n",
    "# Print the data of each child node\n",
    "# Print the data of each child node\n",
    "print(root.data)\n",
    "print(root.child[0].data)\n",
    "print(root.child[1].data)\n",
    "print(root.child[2].data)\n",
    "\n"
   ]
  },
  {
   "cell_type": "code",
   "execution_count": 7,
   "metadata": {},
   "outputs": [
    {
     "name": "stdout",
     "output_type": "stream",
     "text": [
      "1: 2, 3, 4, \n",
      "2: \n",
      "3: \n",
      "4: \n"
     ]
    }
   ],
   "source": [
    "# Print the Tree \n",
    "def print_tree(node):\n",
    "    print(node.data)\n",
    "    # Print all the children \n",
    "    for eachChild in node.child:  # Change root.child to node.child\n",
    "        print_tree(eachChild)\n",
    "\n",
    "def print_tree_detailed(root):\n",
    "    # If the root is None\n",
    "    if root is None:\n",
    "        return\n",
    "    # Print the data\n",
    "    print(root.data, end=\": \") \n",
    "    # Print all children data\n",
    "    for eachChild in root.child:\n",
    "        print(eachChild.data, end=\", \")\n",
    "\n",
    "    print()  # New line for better readability\n",
    "    \n",
    "    for eachChild in root.child:\n",
    "        print_tree_detailed(eachChild)  # Call the function\n",
    "\n",
    "# Call the function\n",
    "print_tree_detailed(root)\n"
   ]
  },
  {
   "cell_type": "markdown",
   "metadata": {},
   "source": [
    "### Take input \n"
   ]
  },
  {
   "cell_type": "code",
   "execution_count": 12,
   "metadata": {},
   "outputs": [
    {
     "name": "stdout",
     "output_type": "stream",
     "text": [
      "Please enter 'yes' or 'no'.\n",
      "Please enter 'yes' or 'no'.\n",
      "1: 10, \n",
      "10: 20, \n",
      "20: 30, \n",
      "30: 40, \n",
      "40: 50, \n",
      "50: \n"
     ]
    }
   ],
   "source": [
    "class TreeNode:\n",
    "    def __init__(self, data):\n",
    "        self.data = data\n",
    "        self.child = []\n",
    "\n",
    "def take_input():\n",
    "    data = int(input(\"Enter the data for the Node: \"))\n",
    "    node = TreeNode(data)\n",
    "    \n",
    "    while True:  # Loop until the user decides to stop\n",
    "        user_input = input(f\"Do you want to add a child for {data}? (yes/no): \").strip().lower()\n",
    "        \n",
    "        if user_input == 'no':\n",
    "            break  # Exit the loop if the user doesn't want to add more children\n",
    "        \n",
    "        if user_input == 'yes':\n",
    "            child = take_input()  # Take input for the child node\n",
    "            node.child.append(child)  # Append the child node to the current node\n",
    "        else:\n",
    "            print(\"Please enter 'yes' or 'no'.\")  # Prompt the user for valid input\n",
    "    \n",
    "    return node\n",
    "\n",
    "def print_tree_detailed(root):\n",
    "    if root is None:\n",
    "        return\n",
    "    print(root.data, end=\": \")\n",
    "    for eachChild in root.child:\n",
    "        print(eachChild.data, end=\", \")\n",
    "    print()\n",
    "    for eachChild in root.child:\n",
    "        print_tree_detailed(eachChild)\n",
    "\n",
    "# Create the tree by taking input\n",
    "root = take_input()\n",
    "# Print the detailed tree structure\n",
    "print_tree_detailed(root)\n"
   ]
  },
  {
   "cell_type": "code",
   "execution_count": null,
   "metadata": {},
   "outputs": [],
   "source": []
  }
 ],
 "metadata": {
  "kernelspec": {
   "display_name": "base",
   "language": "python",
   "name": "python3"
  },
  "language_info": {
   "codemirror_mode": {
    "name": "ipython",
    "version": 3
   },
   "file_extension": ".py",
   "mimetype": "text/x-python",
   "name": "python",
   "nbconvert_exporter": "python",
   "pygments_lexer": "ipython3",
   "version": "3.12.3"
  }
 },
 "nbformat": 4,
 "nbformat_minor": 2
}
