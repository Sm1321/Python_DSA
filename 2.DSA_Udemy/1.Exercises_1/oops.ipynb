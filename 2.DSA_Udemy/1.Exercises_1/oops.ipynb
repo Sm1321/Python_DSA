{
 "cells": [
  {
   "cell_type": "code",
   "execution_count": 1,
   "metadata": {},
   "outputs": [],
   "source": [
    "#### Classes and Objects in Python"
   ]
  },
  {
   "cell_type": "markdown",
   "metadata": {},
   "source": [
    "- A class is a blueprint for creating objects. \n",
    "- An object is an instance of a class that holds data (attributes) and functions (methods)."
   ]
  },
  {
   "cell_type": "code",
   "execution_count": 2,
   "metadata": {},
   "outputs": [
    {
     "name": "stdout",
     "output_type": "stream",
     "text": [
      "2020 Toyota Corolla\n",
      "2022 Honda Civic\n"
     ]
    }
   ],
   "source": [
    "class Car:\n",
    "    # Constructor to initialize attributes\n",
    "    def __init__(self, brand, model, year):\n",
    "        self.brand = brand\n",
    "        self.model = model\n",
    "        self.year = year\n",
    "\n",
    "    # Method to display car details\n",
    "    def display_info(self):\n",
    "        print(f\"{self.year} {self.brand} {self.model}\")\n",
    "\n",
    "# Creating objects of the Car class\n",
    "car1 = Car(\"Toyota\", \"Corolla\", 2020)\n",
    "car2 = Car(\"Honda\", \"Civic\", 2022)\n",
    "\n",
    "# Accessing object methods\n",
    "car1.display_info()  # Output: 2020 Toyota Corolla\n",
    "car2.display_info()  # Output: 2022 Honda Civic\n"
   ]
  },
  {
   "cell_type": "markdown",
   "metadata": {},
   "source": [
    "### Inheritance in Python"
   ]
  },
  {
   "cell_type": "markdown",
   "metadata": {},
   "source": [
    "- Inheritance is a mechanism where a class (child class) can derive or inherit attributes and methods from another class (parent class). \n",
    "- This allows for code reuse and the creation of hierarchical relationships."
   ]
  },
  {
   "cell_type": "code",
   "execution_count": 3,
   "metadata": {},
   "outputs": [
    {
     "name": "stdout",
     "output_type": "stream",
     "text": [
      "Buddy says Bark\n",
      "Whiskers says Meow\n"
     ]
    }
   ],
   "source": [
    "# Parent class\n",
    "class Animal:\n",
    "    def __init__(self, name):\n",
    "        self.name = name\n",
    "\n",
    "    def sound(self):\n",
    "        return \"Some generic sound\"\n",
    "\n",
    "# Child class inheriting from Animal\n",
    "class Dog(Animal):\n",
    "    def sound(self):  # Overriding the parent class method\n",
    "        return \"Bark\"\n",
    "\n",
    "# Child class inheriting from Animal\n",
    "class Cat(Animal):\n",
    "    def sound(self):  # Overriding the parent class method\n",
    "        return \"Meow\"\n",
    "\n",
    "# Creating objects\n",
    "dog = Dog(\"Buddy\")\n",
    "cat = Cat(\"Whiskers\")\n",
    "\n",
    "# Accessing inherited and overridden methods\n",
    "print(f\"{dog.name} says {dog.sound()}\")  # Output: Buddy says Bark\n",
    "print(f\"{cat.name} says {cat.sound()}\")  # Output: Whiskers says Meow\n"
   ]
  },
  {
   "cell_type": "markdown",
   "metadata": {},
   "source": [
    "### Polymorphism in Python"
   ]
  },
  {
   "cell_type": "markdown",
   "metadata": {},
   "source": [
    "- Polymorphism allows objects of different classes to be treated as objects of a common superclass. \n",
    "- It also allows methods in different classes to have the same name but different implementations."
   ]
  },
  {
   "cell_type": "code",
   "execution_count": 4,
   "metadata": {},
   "outputs": [
    {
     "name": "stdout",
     "output_type": "stream",
     "text": [
      "Eagle flies high\n",
      "Penguins cannot fly\n"
     ]
    }
   ],
   "source": [
    "class Bird:\n",
    "    def fly(self):\n",
    "        print(\"Most birds can fly\")\n",
    "\n",
    "class Eagle(Bird):\n",
    "    def fly(self):  # Overriding fly method\n",
    "        print(\"Eagle flies high\")\n",
    "\n",
    "class Penguin(Bird):\n",
    "    def fly(self):  # Overriding fly method\n",
    "        print(\"Penguins cannot fly\")\n",
    "\n",
    "# Polymorphic behavior\n",
    "def describe_flying(bird):\n",
    "    bird.fly()\n",
    "\n",
    "# Using polymorphism\n",
    "bird1 = Eagle()\n",
    "bird2 = Penguin()\n",
    "\n",
    "describe_flying(bird1)  # Output: Eagle flies high\n",
    "describe_flying(bird2)  # Output: Penguins cannot fly\n"
   ]
  },
  {
   "cell_type": "markdown",
   "metadata": {},
   "source": [
    "- What is OOP?\n",
    "\n",
    "- Answer: \n",
    "    - Object-Oriented Programming (OOP) is a programming paradigm that uses objects and classes to create models based on the real world. \n",
    "    - It allows for data encapsulation, inheritance, and polymorphism."
   ]
  },
  {
   "cell_type": "code",
   "execution_count": null,
   "metadata": {},
   "outputs": [],
   "source": []
  }
 ],
 "metadata": {
  "kernelspec": {
   "display_name": "base",
   "language": "python",
   "name": "python3"
  },
  "language_info": {
   "codemirror_mode": {
    "name": "ipython",
    "version": 3
   },
   "file_extension": ".py",
   "mimetype": "text/x-python",
   "name": "python",
   "nbconvert_exporter": "python",
   "pygments_lexer": "ipython3",
   "version": "3.12.3"
  }
 },
 "nbformat": 4,
 "nbformat_minor": 2
}
