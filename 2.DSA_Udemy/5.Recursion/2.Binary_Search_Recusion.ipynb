{
 "cells": [
  {
   "cell_type": "markdown",
   "metadata": {},
   "source": [
    "#### Binary Search Using Recursion"
   ]
  },
  {
   "cell_type": "code",
   "execution_count": 12,
   "metadata": {},
   "outputs": [
    {
     "name": "stdout",
     "output_type": "stream",
     "text": [
      "True\n",
      "False\n",
      "True\n"
     ]
    }
   ],
   "source": [
    "def BinarySearchRecursion(arr, start, end, target):\n",
    "    # Base case: if the search range is invalid\n",
    "    if start > end:\n",
    "        return False\n",
    "    \n",
    "    # Calculate the middle index\n",
    "    mid = start + ( end - start)//2\n",
    "\n",
    "    # Check if the middle element is the target\n",
    "    if arr[mid] == target:\n",
    "        return True\n",
    "    elif target > arr[mid]:\n",
    "        # If target is greater, search in the right half\n",
    "        return BinarySearchRecursion(arr, mid + 1, end, target)\n",
    "    else:\n",
    "        # If target is smaller, search in the left half\n",
    "        return BinarySearchRecursion(arr, start, mid - 1, target)\n",
    "\n",
    "# Binary Search - Recursive Function Call\n",
    "arr = [1, 2, 3, 4, 5, 6]\n",
    "n = len(arr)\n",
    "\n",
    "# Test cases\n",
    "print(BinarySearchRecursion(arr, 0, n - 1, 5))  # Outputs: True\n",
    "print(BinarySearchRecursion(arr, 0, n - 1, 7))  # Outputs: False\n",
    "l1 = [i for i in range(10000)]\n",
    "print(BinarySearchRecursion(l1, 0, len(l1) - 1, 1199)) \n"
   ]
  },
  {
   "cell_type": "code",
   "execution_count": null,
   "metadata": {},
   "outputs": [],
   "source": []
  },
  {
   "cell_type": "code",
   "execution_count": null,
   "metadata": {},
   "outputs": [],
   "source": []
  }
 ],
 "metadata": {
  "kernelspec": {
   "display_name": "Python 3",
   "language": "python",
   "name": "python3"
  },
  "language_info": {
   "codemirror_mode": {
    "name": "ipython",
    "version": 3
   },
   "file_extension": ".py",
   "mimetype": "text/x-python",
   "name": "python",
   "nbconvert_exporter": "python",
   "pygments_lexer": "ipython3",
   "version": "3.12.5"
  }
 },
 "nbformat": 4,
 "nbformat_minor": 2
}
