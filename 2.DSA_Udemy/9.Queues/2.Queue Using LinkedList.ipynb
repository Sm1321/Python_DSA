{
 "cells": [
  {
   "cell_type": "markdown",
   "metadata": {},
   "source": [
    "## Queue Uisng the LL\n"
   ]
  },
  {
   "cell_type": "code",
   "execution_count": null,
   "metadata": {},
   "outputs": [],
   "source": [
    "# Class representing a node in the linked list\n",
    "class Node:\n",
    "    def __init__(self, data):\n",
    "        self.data = data\n",
    "        self.next = None\n",
    "\n",
    "# Class representing the queue using a linked list\n",
    "class Queue:\n",
    "    def __init__(self):\n",
    "        self.front = None  # Front of the queue\n",
    "        self.rear = None   # Rear of the queue\n",
    "\n",
    "    # Method to add an element to the end of the queue\n",
    "    def enqueue(self, item):\n",
    "        new_node = Node(item) #Create a NewNode\n",
    "        if self.rear is None:  # If the queue is empty\n",
    "            self.front = self.rear = new_node\n",
    "            print(f\"Enqueued: {item}\")\n",
    "            return\n",
    "        self.rear.next = new_node\n",
    "        self.rear = new_node\n",
    "        print(f\"Enqueued: {item}\")\n",
    "\n",
    "    # Method to remove an element from the front of the queue\n",
    "    def dequeue(self):\n",
    "        if self.front is None:  # If the queue is empty\n",
    "            print(\"Queue is empty. Cannot dequeue.\")\n",
    "            return None\n",
    "        removed_item = self.front.data\n",
    "        self.front = self.front.next\n",
    "        if self.front is None:  # If the queue becomes empty\n",
    "            self.rear = None\n",
    "        print(f\"Dequeued: {removed_item}\")\n",
    "        return removed_item\n",
    "\n",
    "    # Method to check if the queue is empty\n",
    "    def is_empty(self):\n",
    "        return self.front is None\n",
    "\n",
    "    # Method to get the size of the queue\n",
    "    def size(self):\n",
    "        count = 0\n",
    "        current = self.front\n",
    "        while current:\n",
    "            count += 1\n",
    "            current = current.next\n",
    "        return count\n",
    "\n",
    "    # Method to display the front element of the queue\n",
    "    def front_element(self):\n",
    "        if not self.is_empty():\n",
    "            return self.front.data\n",
    "        else:\n",
    "            print(\"Queue is empty.\")\n",
    "            return None\n",
    "\n",
    "    # Method to display all elements in the queue\n",
    "    def display(self):\n",
    "        current = self.front\n",
    "        queue_elements = []\n",
    "        while current:\n",
    "            queue_elements.append(current.data)\n",
    "            current = current.next\n",
    "        print(\"Queue:\", queue_elements)\n",
    "\n",
    "\n"
   ]
  },
  {
   "cell_type": "code",
   "execution_count": 3,
   "metadata": {},
   "outputs": [
    {
     "name": "stdout",
     "output_type": "stream",
     "text": [
      "Enqueued: 10\n",
      "Enqueued: 20\n",
      "Enqueued: 30\n",
      "Queue: [10, 20, 30]\n",
      "Dequeued: 10\n",
      "Queue: [20, 30]\n",
      "Front element: 20\n",
      "Queue size: 2\n"
     ]
    }
   ],
   "source": [
    "# Example usage\n",
    "q = Queue()\n",
    "q.enqueue(10)\n",
    "q.enqueue(20)\n",
    "q.enqueue(30)\n",
    "q.display()\n",
    "q.dequeue()\n",
    "q.display()\n",
    "print(\"Front element:\", q.front_element())\n",
    "print(\"Queue size:\", q.size())"
   ]
  },
  {
   "cell_type": "code",
   "execution_count": null,
   "metadata": {},
   "outputs": [],
   "source": []
  }
 ],
 "metadata": {
  "kernelspec": {
   "display_name": "base",
   "language": "python",
   "name": "python3"
  },
  "language_info": {
   "codemirror_mode": {
    "name": "ipython",
    "version": 3
   },
   "file_extension": ".py",
   "mimetype": "text/x-python",
   "name": "python",
   "nbconvert_exporter": "python",
   "pygments_lexer": "ipython3",
   "version": "3.12.3"
  }
 },
 "nbformat": 4,
 "nbformat_minor": 2
}
