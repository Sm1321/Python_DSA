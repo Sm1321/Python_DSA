{
 "cells": [
  {
   "cell_type": "markdown",
   "metadata": {},
   "source": [
    "### OPerations on the Queues with List"
   ]
  },
  {
   "cell_type": "code",
   "execution_count": 3,
   "metadata": {},
   "outputs": [],
   "source": [
    "class Queue:\n",
    "    def __init__(self):\n",
    "        self.queue = []\n",
    "\n",
    "    # Method to add an element to the end of the queue\n",
    "    def enqueue(self, item):\n",
    "        self.queue.append(item)\n",
    "        print(f\"Enqueued: {item}\")\n",
    "\n",
    "    # Method to remove an element from the front of the queue\n",
    "    def dequeue(self):\n",
    "        if not self.is_empty():\n",
    "            removed_item = self.queue.pop(0)\n",
    "            print(f\"Dequeued: {removed_item}\")\n",
    "            return removed_item\n",
    "        else:\n",
    "            print(\"Queue is empty. Cannot dequeue.\")\n",
    "\n",
    "\n",
    "\n",
    "    # Method to check if the queue is empty\n",
    "    def is_empty(self):\n",
    "        return len(self.queue) == 0\n",
    "\n",
    "\n",
    "\n",
    "    # Method to get the size of the queue\n",
    "    def size(self):\n",
    "        return len(self.queue)\n",
    "\n",
    "\n",
    "\n",
    "    # Method to display the front element of the queue\n",
    "    def front(self):\n",
    "        if not self.is_empty():\n",
    "            return self.queue[0]\n",
    "        else:\n",
    "            print(\"Queue is empty.\")\n",
    "            return None\n",
    "\n",
    "\n",
    "\n",
    "    # Method to display all elements in the queue\n",
    "    def display(self):\n",
    "        print(\"Queue:\", self.queue)\n",
    "\n"
   ]
  },
  {
   "cell_type": "code",
   "execution_count": 4,
   "metadata": {},
   "outputs": [
    {
     "name": "stdout",
     "output_type": "stream",
     "text": [
      "Enqueued: 10\n",
      "Enqueued: 20\n",
      "Enqueued: 30\n",
      "Queue: [10, 20, 30]\n",
      "Dequeued: 10\n",
      "Queue: [20, 30]\n",
      "Front element: 20\n",
      "Queue size: 2\n"
     ]
    }
   ],
   "source": [
    "# Example usage\n",
    "q = Queue()\n",
    "q.enqueue(10)\n",
    "q.enqueue(20)\n",
    "q.enqueue(30)\n",
    "q.display()\n",
    "q.dequeue()\n",
    "q.display()\n",
    "print(\"Front element:\", q.front())\n",
    "print(\"Queue size:\", q.size())\n"
   ]
  },
  {
   "cell_type": "markdown",
   "metadata": {},
   "source": [
    "enqueue(item): Adds an element to the end of the queue.\n",
    "\n",
    "- Time Complexity: 𝑂(1)\n",
    "- O(1), because adding an element to the end of the list using append() is efficient.\n",
    "\n",
    "dequeue(): Removes and returns the element from the front of the queue.\n",
    "\n",
    "- Time Complexity: 𝑂(𝑛)\n",
    "O(n), because removing the first element using pop(0) requires shifting all subsequent elements one position forward. This makes it inefficient for large queues.\n",
    "\n",
    "is_empty(): Checks if the queue is empty.\n",
    "- Time Complexity: \n",
    "𝑂(1)\n",
    "O(1), as it only checks the length of the list.\n",
    "\n",
    "\n",
    "\n",
    "size(): Returns the number of elements in the queue.\n",
    "- Time Complexity: \n",
    "𝑂(1)\n",
    "O(1), because it returns the length of the list.\n",
    "\n",
    "\n",
    "front(): Returns the front element without removing it.\n",
    "- Time Complexity: \n",
    "𝑂(1)\n",
    "O(1), since it accesses the first element directly.\n",
    "\n",
    "display(): Prints all elements in the queue.\n",
    "- Time Complexity: 𝑂(𝑛)\n",
    "O(n), where \n",
    "𝑛\n",
    "n is the number of elements in the queue, as it prints each element."
   ]
  },
  {
   "cell_type": "code",
   "execution_count": null,
   "metadata": {},
   "outputs": [],
   "source": []
  }
 ],
 "metadata": {
  "kernelspec": {
   "display_name": "base",
   "language": "python",
   "name": "python3"
  },
  "language_info": {
   "codemirror_mode": {
    "name": "ipython",
    "version": 3
   },
   "file_extension": ".py",
   "mimetype": "text/x-python",
   "name": "python",
   "nbconvert_exporter": "python",
   "pygments_lexer": "ipython3",
   "version": "3.12.3"
  }
 },
 "nbformat": 4,
 "nbformat_minor": 2
}
