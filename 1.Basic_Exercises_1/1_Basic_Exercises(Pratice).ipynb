{
  "nbformat": 4,
  "nbformat_minor": 0,
  "metadata": {
    "colab": {
      "provenance": []
    },
    "kernelspec": {
      "name": "python3",
      "display_name": "Python 3"
    },
    "language_info": {
      "name": "python"
    }
  },
  "cells": [
    {
      "cell_type": "code",
      "source": [],
      "metadata": {
        "id": "as1R7YMWqtK-"
      },
      "execution_count": null,
      "outputs": []
    },
    {
      "cell_type": "markdown",
      "source": [
        "#### Sum of List Elements\n",
        "Problem Description\n",
        "\n",
        "Sum of List Elements\n",
        "\n",
        "Write a Python function that calculates the sum of all elements in a given list of integers.\n",
        "\n",
        "Parameters:\n",
        "\n",
        "numbers (List of integers): The input list containing integers.\n",
        "\n",
        "Returns:\n",
        "\n",
        "An integer representing the sum of all elements in the input list.\n",
        "\n",
        "Example:\n",
        "\n",
        "Input: numbers = [1, 2, 3, 4, 5]\n",
        "Output: 15\n",
        "\n",
        "Input: numbers = [10, -5, 7, 8, -2]\n",
        "Output: 18"
      ],
      "metadata": {
        "id": "r5_ueawgqtmd"
      }
    },
    {
      "cell_type": "code",
      "source": [
        "\n",
        "\n",
        "def sum_list(numbers):\n",
        "    # Your code goes here\n",
        "    if (len(numbers) == 0):   ##Empty list\n",
        "        return 0\n",
        "    if(len(numbers)==1):\n",
        "        return numbers[0]\n",
        "\n",
        "    sum_1 = 0\n",
        "    for x in numbers:\n",
        "        sum_1 += x\n",
        "    return sum_1\n",
        "\n",
        "print(\"The Sum is :-\",sum_list([1,2,3,4,5]))"
      ],
      "metadata": {
        "colab": {
          "base_uri": "https://localhost:8080/"
        },
        "id": "v7rwmTJxqtEF",
        "outputId": "cc26898a-695a-40ab-c49b-1aac98eace76"
      },
      "execution_count": null,
      "outputs": [
        {
          "output_type": "stream",
          "name": "stdout",
          "text": [
            "The Sum is :- 15\n"
          ]
        }
      ]
    },
    {
      "cell_type": "code",
      "source": [],
      "metadata": {
        "id": "gbvx_ru_qs3c"
      },
      "execution_count": null,
      "outputs": []
    },
    {
      "cell_type": "markdown",
      "source": [
        "      \n",
        "\n",
        "#### Largest Element in a List\n",
        "Find the Largest Element in a List\n",
        "\n",
        "Write a Python function that finds and returns the largest element in a given list of integers.\n",
        "\n",
        "Parameters:\n",
        "\n",
        "numbers (List of integers): The input list containing integers.\n",
        "\n",
        "Returns:\n",
        "\n",
        "An integer representing the largest element in the input list.\n",
        "\n",
        "Example:\n",
        "\n",
        "Input: numbers = [3, 8, 2, 10, 5]\n",
        "Output: 10\n",
        "\n",
        "Input: numbers = [-5, -10, -2, -1, -7]\n",
        "Output: -1"
      ],
      "metadata": {
        "id": "2obv7NBUqzM8"
      }
    },
    {
      "cell_type": "code",
      "source": [
        "def find_largest(numbers):\n",
        "    # Your code goes here\n",
        "    if(len(numbers)==0):\n",
        "        return 0\n",
        "    if(len(numbers)==1):\n",
        "        return numbers[0]\n",
        "    max_ele = numbers[0]\n",
        "    for x in numbers:\n",
        "        if(x > max_ele):\n",
        "            max_ele = x\n",
        "    return max_ele\n",
        "\n",
        "print(\"the largest elemnt in list:-\",find_largest([-5,-10,5,3]))\n",
        "\n"
      ],
      "metadata": {
        "colab": {
          "base_uri": "https://localhost:8080/"
        },
        "id": "8WgbaNGrqs1G",
        "outputId": "98d0838e-0008-4038-f69a-37e039b80172"
      },
      "execution_count": null,
      "outputs": [
        {
          "output_type": "stream",
          "name": "stdout",
          "text": [
            "the largest elemnt in list:- 5\n"
          ]
        }
      ]
    },
    {
      "cell_type": "code",
      "source": [],
      "metadata": {
        "id": "IUnG32Mrq4f5"
      },
      "execution_count": null,
      "outputs": []
    },
    {
      "cell_type": "markdown",
      "source": [
        "#### Check if all elements in a list are Unique\n",
        "Check if All Elements in a List are Unique\n",
        "\n",
        "You are given a list of integers. Write a Python program that checks if all elements in the list are unique. If all elements are unique, return True; otherwise, return False.\n",
        "\n",
        "Parameters:\n",
        "\n",
        "lst (List of integers): The list of integers to check for uniqueness.\n",
        "\n",
        "Returns:\n",
        "\n",
        "A boolean value True if all elements in the list are unique, False otherwise.\n",
        "\n",
        "Example:\n",
        "\n",
        "Input: lst = [1, 2, 3, 4, 5]\n",
        "Output: True\n",
        "\n",
        "Input: lst = [1, 2, 3, 3, 4, 5]\n",
        "Output: False"
      ],
      "metadata": {
        "id": "xuhDouu1q2TQ"
      }
    },
    {
      "cell_type": "code",
      "source": [
        "\n",
        "\n",
        "\n",
        "def check_unique(lst):\n",
        "    # Your code goes here\n",
        "    dic1 = {} #take empt dictinaory\n",
        "    if (len(lst)==1):\n",
        "        return True\n",
        "\n",
        "    for x in lst:\n",
        "        if x not in dic1:\n",
        "            dic1[x] = 1\n",
        "        else:\n",
        "            dic1[x] = dic1[x] + 1\n",
        "\n",
        "    for count in dic1.values():\n",
        "        if count > 1:\n",
        "            return False\n",
        "\n",
        "    return True\n",
        "lst1 = [1,2,3,4,5]\n",
        "print(check_unique(lst1))\n",
        "print('------------------')\n",
        "lst2 = [1,2,3,3,4,5]\n",
        "\n",
        "print(check_unique(lst2))\n"
      ],
      "metadata": {
        "colab": {
          "base_uri": "https://localhost:8080/"
        },
        "id": "NZBCJ3huq6MJ",
        "outputId": "39c46fe8-8c14-45ba-8cca-23848d758cc3"
      },
      "execution_count": null,
      "outputs": [
        {
          "output_type": "stream",
          "name": "stdout",
          "text": [
            "True\n",
            "------------------\n",
            "False\n"
          ]
        }
      ]
    },
    {
      "cell_type": "code",
      "source": [],
      "metadata": {
        "id": "nTA_fZ2Cq7LI"
      },
      "execution_count": null,
      "outputs": []
    },
    {
      "cell_type": "code",
      "source": [],
      "metadata": {
        "id": "tPyGLo2Lq7OC"
      },
      "execution_count": null,
      "outputs": []
    },
    {
      "cell_type": "markdown",
      "source": [
        "\n",
        "### Program to Reverse a List\n",
        "Reverse a List (Non-Slicing Approach)\n",
        "\n",
        "You are given a list of integers. Write a Python program that reverses the list without using slicing (lst[::-1]). The program should return the reversed list.\n",
        "\n",
        "Parameters:\n",
        "\n",
        "lst (List of integers): The list of integers to be reversed.\n",
        "\n",
        "Returns:\n",
        "\n",
        "A list of integers where the order of elements is reversed from the input list.\n",
        "\n",
        "Example:\n",
        "\n",
        "Input: lst = [1, 2, 3, 4, 5]\n",
        "Output: [5, 4, 3, 2, 1]"
      ],
      "metadata": {
        "id": "wYJfKUhcq81t"
      }
    },
    {
      "cell_type": "code",
      "source": [
        "def reverse_list(lst):\n",
        "    # Your code goes here\n",
        "\n",
        "    temp_list = []\n",
        "    if(len(lst)==0): #for empty list\n",
        "        return temp_list\n",
        "    if(len(lst)==1): ##for single ele\n",
        "        return lst[0]\n",
        "\n",
        "    index = len(lst) - 1\n",
        "    while index >= 0:\n",
        "        temp_list.append(lst[index])\n",
        "        index -= 1\n",
        "    return temp_list\n",
        "\n",
        "\n",
        "\n",
        "print(reverse_list([1,2,3,4,5]))\n",
        "\n",
        "print(reverse_list([5]))\n",
        "print(reverse_list([]))\n",
        "\n",
        "\n",
        "\n",
        "\n"
      ],
      "metadata": {
        "colab": {
          "base_uri": "https://localhost:8080/"
        },
        "id": "VxTVDKsirDAH",
        "outputId": "5ac0b8ec-e9b1-4dfc-bdb6-98c612302c69"
      },
      "execution_count": null,
      "outputs": [
        {
          "output_type": "stream",
          "name": "stdout",
          "text": [
            "[5, 4, 3, 2, 1]\n",
            "5\n",
            "[]\n"
          ]
        }
      ]
    },
    {
      "cell_type": "code",
      "source": [],
      "metadata": {
        "id": "VTXj-H-krDK4"
      },
      "execution_count": null,
      "outputs": []
    },
    {
      "cell_type": "markdown",
      "source": [
        "#### Count Number of Odd and Even Elements in a List\n",
        "Count Even and Odd Numbers in a List\n",
        "\n",
        "You are given a list of integers. Write a Python program that counts and returns the number of even and odd numbers in the list.\n",
        "\n",
        "Parameters:\n",
        "\n",
        "lst (List of integers): The list of integers where you will count the even and odd numbers.\n",
        "\n",
        "Returns:\n",
        "\n",
        "A tuple (even_count, odd_count) where even_count is the number of even numbers and odd_count is the number of odd numbers.\n",
        "\n",
        "Example:\n",
        "\n",
        "Input: lst = [1, 2, 3, 4, 5]\n",
        "\n",
        "Output: (2, 3)\n",
        "\n",
        "There are 2 even numbers: 2, 4\n",
        "\n",
        "There are 3 odd numbers: 1, 3, 5"
      ],
      "metadata": {
        "id": "KeLaEES9rBLo"
      }
    },
    {
      "cell_type": "code",
      "source": [
        "\n",
        "\n",
        "\n",
        "\n",
        "def count_even_odd(lst):\n",
        "    # Your code goes here\n",
        "    e_sum = 0\n",
        "    o_sum = 0\n",
        "    for x in lst:\n",
        "        if x % 2 == 0:\n",
        "            e_sum+= 1\n",
        "        else:\n",
        "            o_sum+= 1\n",
        "    return (e_sum,o_sum)\n",
        "\n",
        "\n",
        "a,b=count_even_odd([1,2,3,4,5])\n",
        "print(a,b)\n"
      ],
      "metadata": {
        "colab": {
          "base_uri": "https://localhost:8080/"
        },
        "id": "U_SlczzKrH9w",
        "outputId": "260691fd-688f-4897-f315-1e4ee091d01d"
      },
      "execution_count": null,
      "outputs": [
        {
          "output_type": "stream",
          "name": "stdout",
          "text": [
            "2 3\n"
          ]
        }
      ]
    },
    {
      "cell_type": "code",
      "source": [],
      "metadata": {
        "id": "8hIqoMilrJTH"
      },
      "execution_count": null,
      "outputs": []
    },
    {
      "cell_type": "markdown",
      "source": [
        "\n",
        "\n",
        "#### Check if List is Subset of another List\n",
        "Check if a List is a Subset of Another List (Brute Force Approach)\n",
        "\n",
        "You are given two lists of integers. Write a Python program that checks whether the first list is a subset of the second list using a brute-force approach, without using the in keyword. A list is considered a subset if all elements of the first list are present in the second list.\n",
        "\n",
        "Parameters:\n",
        "\n",
        "lst1 (List of integers): The first list, which is being checked as a subset.\n",
        "\n",
        "lst2 (List of integers): The second list, which is the list to compare against.\n",
        "\n",
        "Returns:\n",
        "\n",
        "A boolean value True if lst1 is a subset of lst2, otherwise False.\n",
        "\n",
        "\n",
        "-------------------------------------------------------------------------------\n",
        "Example:\n",
        "Input: lst1 = [1, 2, 3], lst2 = [1, 2, 3, 4, 5]\n",
        "Output: True\n",
        "\n",
        "All elements in lst1 are present in lst2.\n",
        "\n",
        "---------------------------------------------------------------------------------\n",
        "Input: lst1 = [1, 6], lst2 = [1, 2, 3, 4, 5]\n",
        "\n",
        "Output: False\n",
        "\n",
        "The element 6 is not present in lst2."
      ],
      "metadata": {
        "id": "kr1xh8o_rJ9P"
      }
    },
    {
      "cell_type": "code",
      "source": [
        "def is_subset(lst1,lst2):\n",
        "    for x in lst1:\n",
        "        #for y in lst2:\n",
        "        if x not in lst2:\n",
        "            return False\n",
        "    return True\n",
        "\n",
        "print(is_subset([1,6],[1,2,3,4,5]))\n"
      ],
      "metadata": {
        "colab": {
          "base_uri": "https://localhost:8080/"
        },
        "id": "izgrpDqMrKWf",
        "outputId": "93ebb8fd-8e6b-4b9d-bee3-4315a3107111"
      },
      "execution_count": null,
      "outputs": [
        {
          "output_type": "stream",
          "name": "stdout",
          "text": [
            "False\n"
          ]
        }
      ]
    },
    {
      "cell_type": "code",
      "source": [],
      "metadata": {
        "id": "UQLo2E4LrOvQ"
      },
      "execution_count": null,
      "outputs": []
    },
    {
      "cell_type": "markdown",
      "source": [
        "\n",
        "\n",
        "\n",
        "\n",
        "##### Maximum difference between two consecutive elements in a list.\n",
        "Find Maximum Difference Between Two Consecutive Elements (Brute Force Approach)\n",
        "\n",
        "You are given a list of integers. Write a Python program to find the maximum difference between two consecutive elements in the list using a brute-force approach. The difference is defined as the absolute value of the difference between two consecutive elements.\n",
        "\n",
        "Parameters:\n",
        "\n",
        "lst (List of integers): A list of integers.\n",
        "\n",
        "Returns:\n",
        "\n",
        "An integer representing the maximum difference between two consecutive elements.\n",
        "\n",
        "Example:\n",
        "\n",
        "Input: lst = [1, 7, 3, 10, 5]\n",
        "\n",
        "Output: 7\n",
        "\n",
        "The maximum difference is between 3 and 10 (i.e., |3 - 10| = 7).\n",
        "\n",
        "Input: lst = [10, 11, 15, 3]\n",
        "\n",
        "Output: 12\n",
        "\n",
        "The maximum difference is between 15 and 3 (i.e., |15 - 3| = 12)."
      ],
      "metadata": {
        "id": "TxV9VRlZrRrX"
      }
    },
    {
      "cell_type": "code",
      "source": [
        "\n",
        "\n",
        "def abs(num):  #check the negative num\n",
        "    if num < 0:\n",
        "        return num * -1\n",
        "    return num\n",
        "\n",
        "def max_consecutive_difference(lst):\n",
        "    # Your code goes here\n",
        "    abs_diff = 0\n",
        "    temp_diff = 0\n",
        "    for indx in range(0,len(lst) -1):\n",
        "        temp_diff = lst[indx] - lst[indx + 1]\n",
        "        temp_diff = abs(temp_diff) #call the Funcation\n",
        "        if (temp_diff > abs_diff):\n",
        "            abs_diff = temp_diff #update the abs_between the elements\n",
        "    return abs_diff\n",
        "\n",
        "\n",
        "\n",
        "print(max_consecutive_difference([10,11,15,3]))\n"
      ],
      "metadata": {
        "id": "E2t9VN2vrVVi"
      },
      "execution_count": null,
      "outputs": []
    },
    {
      "cell_type": "code",
      "source": [],
      "metadata": {
        "id": "bxboQxpnrb6I"
      },
      "execution_count": null,
      "outputs": []
    },
    {
      "cell_type": "markdown",
      "source": [
        "#### Merge two Sorted List\n",
        "Merge Two Sorted Lists\n",
        "\n",
        "You are given two sorted lists of integers. Write a Python function to merge these two sorted lists into one sorted list. The resulting list should also be in non-decreasing order.\n",
        "\n",
        "Parameters:\n",
        "\n",
        "list1 (List of integers): The first sorted list.\n",
        "\n",
        "list2 (List of integers): The second sorted list.\n",
        "\n",
        "Returns:\n",
        "\n",
        "A single list of integers, containing all elements from list1 and list2, sorted in non-decreasing order.\n",
        "\n",
        "Example:\n",
        "\n",
        "Input: list1 = [1, 3, 5], list2 = [2, 4, 6]\n",
        "Output: [1, 2, 3, 4, 5, 6]\n",
        "\n",
        "Input: list1 = [1, 4, 7], list2 = [2, 3, 5, 8]\n",
        "Output: [1, 2, 3, 4, 5, 7, 8]"
      ],
      "metadata": {
        "id": "rfxMSuYFrcCm"
      }
    },
    {
      "cell_type": "code",
      "source": [
        "def merge_two_sorted_lists(list1, list2):\n",
        "    # Your code goes here\n",
        "    merged_list = [] #create the merged list\n",
        "    i,j = 0,0 #take two pointers\n",
        "    while (i<len(list1) and j<len(list2)):\n",
        "        if list1[i] <= list2[j]:\n",
        "            merged_list.append(list1[i])\n",
        "            i += 1\n",
        "        else:\n",
        "            merged_list.append(list2[j])\n",
        "            j+= 1\n",
        "    #Check the remaining lists\n",
        "    while i < len(list1):\n",
        "        merged_list.append(list1[i])\n",
        "        i+=1\n",
        "    while(j < len(list2)):\n",
        "        merged_list.append(list2[j])\n",
        "        j+=1\n",
        "\n",
        "    return merged_list\n",
        "\n",
        "\n",
        "print(\"the final list is:-\",merge_two_sorted_lists([1,3,5],[2,4,6,7,8]))\n",
        "\n"
      ],
      "metadata": {
        "id": "CyzRhCGBrciv"
      },
      "execution_count": null,
      "outputs": []
    },
    {
      "cell_type": "code",
      "source": [],
      "metadata": {
        "id": "IMjhy_Iqrclx"
      },
      "execution_count": null,
      "outputs": []
    },
    {
      "cell_type": "markdown",
      "source": [
        "\n",
        "\n",
        "### Rotate a List\n",
        "Rotate a List (Without Slicing)\n",
        "\n",
        "You are given a list of integers and an integer k. Write a Python function to rotate the list to the right by k positions without using slicing. A rotation shifts elements from the end of the list to the front.\n",
        "\n",
        "Parameters:\n",
        "\n",
        "lst (List of integers): The list to be rotated.\n",
        "\n",
        "k (Integer): The number of positions to rotate the list.\n",
        "\n",
        "Returns:\n",
        "\n",
        "A list of integers rotated by k positions.\n",
        "\n",
        "Example:\n",
        "\n",
        "Input: lst = [1, 2, 3, 4, 5], k = 2\n",
        "Output: [4, 5, 1, 2, 3]\n",
        "\n",
        "Input: lst = [10, 20, 30, 40, 50], k = 3\n",
        "Output: [30, 40, 50, 10, 20]"
      ],
      "metadata": {
        "id": "4g9mt7TargQY"
      }
    },
    {
      "cell_type": "code",
      "source": [
        "\n",
        "def rotate_list(lst, k):\n",
        "    # Your code goes here\n",
        "    removed_ele_list = []\n",
        "    #empty list check\n",
        "    if (len(lst)==0):\n",
        "        return removed_ele_list\n",
        "    #handing the k if length greater than k\n",
        "    k = k % len(lst)\n",
        "\n",
        "    for _ in range(k):\n",
        "        #take the last ele from the original list\n",
        "        last_ele = lst.pop()\n",
        "        lst.insert(0,last_ele) #insert the last ele into the front of the orignal list\n",
        "\n",
        "\n",
        "    #removed_ele_list.reverse()   #reverse the list\n",
        "\n",
        "\n",
        "\n",
        "    #for ele in lst:\n",
        "    #    removed_ele_list.append(ele)\n",
        "    #return removed_ele_list\n",
        "    return lst\n",
        "\n",
        "\n",
        "print(\"The Answeer is:-\",rotate_list([1,2,3,4,5],2))\n",
        "\n",
        "#'''\n",
        "#Logic\n",
        "#1.Remove will pop out the K elemnet from the loop\n",
        "#2.those poped elemmnet inserted at the index 0\n",
        "#3.this will happen in the same list.\n",
        "#'''\n",
        "\n",
        "\n",
        "lst11 = [1,2,3,4]\n",
        "print(lst11.remove(1)) ##Remove needed the elemnet\n",
        "print(lst11)\n",
        "print(lst11.pop())#pop will direclly pop out the last element from the list\n",
        "print(lst11)"
      ],
      "metadata": {
        "id": "Pv2l5LJ9rjxA"
      },
      "execution_count": null,
      "outputs": []
    },
    {
      "cell_type": "code",
      "source": [],
      "metadata": {
        "id": "825zZ8Xjrt6f"
      },
      "execution_count": null,
      "outputs": []
    },
    {
      "cell_type": "markdown",
      "source": [
        "### Merge 2 List into Dictionary\n",
        "Merge Lists to Dictionary\n",
        "\n",
        "Design a Python function named merge_lists_to_dictionary to merge two lists into a dictionary where elements from the first list act as keys and elements from the second list act as values.\n",
        "\n",
        "Parameters:\n",
        "\n",
        "keys (List): A list of keys.\n",
        "\n",
        "values (List): A list of values.\n",
        "\n",
        "Returns:\n",
        "\n",
        "A dictionary containing merged key-value pairs.\n",
        "\n",
        "Example:\n",
        "\n",
        "Input: keys = ['a', 'b', 'c'], values = [1, 2, 3]\n",
        "Output: {'a': 1, 'b': 2, 'c': 3}\n",
        "\n",
        "Input: keys = ['x', 'y', 'z'], values = [10, 20, 30]\n",
        "Output: {'x': 10, 'y': 20, 'z': 30}"
      ],
      "metadata": {
        "id": "8tOZUmW1ruGO"
      }
    },
    {
      "cell_type": "code",
      "source": [
        "def merge_lists_to_dictionary(keys, values):\n",
        "    # Your code goes here\n",
        "\n",
        "    if len(keys) != len(values):\n",
        "        return False\n",
        "\n",
        "\n",
        "    #use loop to iterate the list\n",
        "    result = {}\n",
        "    for i in range(len(keys)):\n",
        "        #Add each value and pair to the dictionary\n",
        "        result[keys[i]] = values[i]\n",
        "    return result\n",
        "\n",
        "    #return dict(zip(keys,values))\n"
      ],
      "metadata": {
        "id": "wy0Lq8_bryVC"
      },
      "execution_count": null,
      "outputs": []
    },
    {
      "cell_type": "markdown",
      "source": [
        "- Merge Dic to list -way2\n"
      ],
      "metadata": {
        "id": "2y8WsoJBrzlZ"
      }
    },
    {
      "cell_type": "code",
      "execution_count": null,
      "metadata": {
        "id": "q-ftqpjkqgWk"
      },
      "outputs": [],
      "source": [
        "\n",
        "\n",
        "print(merge_lists_to_dictionary([1,2,3,4],['a','b','c','d']))\n",
        "\n",
        "def count_word_frequency(sentence):\n",
        "    # Your code goes here\n",
        "    freq_count = {}\n",
        "    #split the sentence\n",
        "    sentence_1 = \" \"\n",
        "    sentence_1 = sentence\n",
        "    words = sentence_1.split()\n",
        "\n",
        "    for word in words:\n",
        "        if word not in freq_count:\n",
        "            freq_count[word] = 1 #intialize the word count as 1\n",
        "        else:\n",
        "            freq_count[word]+= 1\n",
        "    return freq_count\n",
        "\n",
        "\n",
        "print(count_word_frequency([\"helloworld\",\"hello\"]))\n"
      ]
    },
    {
      "cell_type": "code",
      "source": [],
      "metadata": {
        "id": "gwbj4R6ArvGQ"
      },
      "execution_count": null,
      "outputs": []
    }
  ]
}