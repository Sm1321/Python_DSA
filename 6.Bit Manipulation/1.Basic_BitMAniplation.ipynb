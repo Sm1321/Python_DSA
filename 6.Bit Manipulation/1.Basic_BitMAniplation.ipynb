{
 "cells": [
  {
   "cell_type": "markdown",
   "metadata": {},
   "source": [
    "#### Convert the Decimal to int"
   ]
  },
  {
   "cell_type": "code",
   "execution_count": 7,
   "metadata": {},
   "outputs": [
    {
     "name": "stdout",
     "output_type": "stream",
     "text": [
      "1011\n"
     ]
    }
   ],
   "source": [
    "def deci2int(n):\n",
    "    if n == 0:\n",
    "        return \"0\"  # Handle the case where n is 0\n",
    "    \n",
    "    ans = \"\"\n",
    "    while n != 0:\n",
    "        if n % 2 == 0:\n",
    "            ans += '0'\n",
    "        else:\n",
    "            ans += '1'\n",
    "        n = n // 2\n",
    "    \n",
    "    ans = ans[::-1]  # Reverse the string to get the correct bbinary representation\n",
    "    return ans\n",
    "\n",
    "# Call the function\n",
    "print(deci2int(11))  # Output: 1011\n"
   ]
  },
  {
   "cell_type": "markdown",
   "metadata": {},
   "source": [
    "### Convert to the Integer to the Decimal\n",
    "\n",
    "\n"
   ]
  },
  {
   "cell_type": "code",
   "execution_count": 8,
   "metadata": {},
   "outputs": [
    {
     "name": "stdout",
     "output_type": "stream",
     "text": [
      "11\n"
     ]
    }
   ],
   "source": [
    "def binary_to_decimal(binary_str):\n",
    "    decimal = 0\n",
    "    power = 0\n",
    "    \n",
    "    # Iterate through the binary string from right to left\n",
    "    for digit in reversed(binary_str):\n",
    "        if digit == '1':\n",
    "            decimal += 2 ** power\n",
    "        power += 1\n",
    "        \n",
    "    return decimal\n",
    "\n",
    "# Call the function\n",
    "print(binary_to_decimal(\"1011\"))  # Output: 11\n"
   ]
  },
  {
   "cell_type": "markdown",
   "metadata": {},
   "source": [
    "## Swap with XOR"
   ]
  },
  {
   "cell_type": "code",
   "execution_count": 9,
   "metadata": {},
   "outputs": [
    {
     "name": "stdout",
     "output_type": "stream",
     "text": [
      "Before swap: a = 5, b = 7\n",
      "After swap: a = 7, b = 5\n"
     ]
    }
   ],
   "source": [
    "def xor_swap(a, b):\n",
    "    print(f\"Before swap: a = {a}, b = {b}\")\n",
    "    \n",
    "    a = a ^ b  # Step 1: a now holds a ^ b\n",
    "    b = a ^ b  # Step 2: b is now (a ^ b) ^ b, which is a\n",
    "    a = a ^ b  # Step 3: a is now (a ^ b) ^ a, which is b\n",
    "    \n",
    "    print(f\"After swap: a = {a}, b = {b}\")\n",
    "    return a, b\n",
    "\n",
    "# Example usage\n",
    "a, b = xor_swap(5, 7)\n",
    "\n"
   ]
  },
  {
   "cell_type": "markdown",
   "metadata": {},
   "source": [
    "### check the ith bit is set or not"
   ]
  },
  {
   "cell_type": "code",
   "execution_count": 12,
   "metadata": {},
   "outputs": [
    {
     "name": "stdout",
     "output_type": "stream",
     "text": [
      "False\n",
      "True\n",
      "True\n"
     ]
    }
   ],
   "source": [
    "def checkSetBit(n,i):\n",
    "     if n & (1<<i) !=0: ###left shift\n",
    "          return True \n",
    "     else:\n",
    "          return False \n",
    "     \n",
    "\n",
    "####\n",
    "print(checkSetBit(13,1)) \n",
    "####\n",
    "print(checkSetBit(13,2))\n",
    "##########\n",
    "print(checkSetBit(13,3))      "
   ]
  },
  {
   "cell_type": "markdown",
   "metadata": {},
   "source": [
    "### Set the ith Bit"
   ]
  },
  {
   "cell_type": "code",
   "execution_count": 14,
   "metadata": {},
   "outputs": [
    {
     "name": "stdout",
     "output_type": "stream",
     "text": [
      "13\n",
      "13\n",
      "13\n"
     ]
    }
   ],
   "source": [
    "def Set_ith_Bit(n,i):\n",
    "    return n | (1<<i) #set the ith bit,do or with the 1 << left shift 'i' postion\n",
    "\n",
    "####\n",
    "print(Set_ith_Bit(9,2)) \n",
    "####\n",
    "print(Set_ith_Bit(13,2))\n",
    "##########\n",
    "print(Set_ith_Bit(13,3))      "
   ]
  },
  {
   "cell_type": "markdown",
   "metadata": {},
   "source": [
    "## Clear the ith Bit "
   ]
  },
  {
   "cell_type": "code",
   "execution_count": 15,
   "metadata": {},
   "outputs": [
    {
     "name": "stdout",
     "output_type": "stream",
     "text": [
      "1\n",
      "5\n",
      "5\n"
     ]
    }
   ],
   "source": [
    "def Clear_ith_Bit(N,i):\n",
    "    return (N & (~(i <<i)))\n",
    "\n",
    "\n",
    "####\n",
    "print(Clear_ith_Bit(9,2)) \n",
    "####\n",
    "print(Clear_ith_Bit(13,2))\n",
    "##########\n",
    "print(Clear_ith_Bit(13,3)) "
   ]
  },
  {
   "cell_type": "markdown",
   "metadata": {},
   "source": [
    "## Toogle ith Bit\n"
   ]
  },
  {
   "cell_type": "code",
   "execution_count": 18,
   "metadata": {},
   "outputs": [
    {
     "name": "stdout",
     "output_type": "stream",
     "text": [
      "13\n",
      "9\n",
      "5\n"
     ]
    }
   ],
   "source": [
    "def Toogle_ith_Bit(N,i):\n",
    "    return (N ^ (1<<i))\n",
    "\n",
    "\n",
    "####\n",
    "print(Toogle_ith_Bit(9,2)) \n",
    "####\n",
    "print(Toogle_ith_Bit(13,2))\n",
    "##########\n",
    "print(Toogle_ith_Bit(13,3)) "
   ]
  },
  {
   "cell_type": "markdown",
   "metadata": {},
   "source": [
    "## Remove the Last Set Bit"
   ]
  },
  {
   "cell_type": "code",
   "execution_count": 21,
   "metadata": {},
   "outputs": [
    {
     "name": "stdout",
     "output_type": "stream",
     "text": [
      "8\n",
      "12\n",
      "0\n"
     ]
    }
   ],
   "source": [
    "def RemoveLast_Set_Bit(N):\n",
    "    return (N & (N - 1))\n",
    "\n",
    "\n",
    "####\n",
    "print(RemoveLast_Set_Bit(9)) \n",
    "####\n",
    "print(RemoveLast_Set_Bit(13))\n",
    "##########\n",
    "print(RemoveLast_Set_Bit(16)) "
   ]
  },
  {
   "cell_type": "markdown",
   "metadata": {},
   "source": [
    "## Check the Powe of Two"
   ]
  },
  {
   "cell_type": "code",
   "execution_count": null,
   "metadata": {},
   "outputs": [],
   "source": [
    "def Check_Power_of_2(N):\n",
    "    return (N & (N - 1))\n",
    "\n",
    "\n",
    "####\n",
    "print(Check_Power_of_2(9)) \n",
    "####\n",
    "print(Check_Power_of_2(13))\n",
    "##########\n",
    "print(RemoveLast_Set_Bit(16)) "
   ]
  },
  {
   "cell_type": "markdown",
   "metadata": {},
   "source": []
  }
 ],
 "metadata": {
  "kernelspec": {
   "display_name": "Python 3",
   "language": "python",
   "name": "python3"
  },
  "language_info": {
   "codemirror_mode": {
    "name": "ipython",
    "version": 3
   },
   "file_extension": ".py",
   "mimetype": "text/x-python",
   "name": "python",
   "nbconvert_exporter": "python",
   "pygments_lexer": "ipython3",
   "version": "3.12.5"
  }
 },
 "nbformat": 4,
 "nbformat_minor": 2
}
