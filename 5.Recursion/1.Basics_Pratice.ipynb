{
 "cells": [
  {
   "cell_type": "code",
   "execution_count": null,
   "metadata": {},
   "outputs": [],
   "source": []
  },
  {
   "cell_type": "code",
   "execution_count": 4,
   "metadata": {},
   "outputs": [],
   "source": [
    "### Print Name with recursion 'n' times"
   ]
  },
  {
   "cell_type": "code",
   "execution_count": 3,
   "metadata": {},
   "outputs": [
    {
     "name": "stdout",
     "output_type": "stream",
     "text": [
      "1 :Recursion\n",
      "2 :Recursion\n",
      "3 :Recursion\n",
      "4 :Recursion\n",
      "5 :Recursion\n"
     ]
    }
   ],
   "source": [
    "def printNtimes(i,n):\n",
    "    if(i > n):\n",
    "        return\n",
    "#Print Name\n",
    "    print(i,\":Recursion\")\n",
    "    printNtimes(i + 1 ,n)\n",
    "\n",
    "\n",
    "##Call the fun\n",
    "printNtimes(1,5)\n"
   ]
  },
  {
   "cell_type": "code",
   "execution_count": 5,
   "metadata": {},
   "outputs": [
    {
     "name": "stdout",
     "output_type": "stream",
     "text": [
      "1\n",
      "2\n",
      "3\n",
      "4\n",
      "5\n"
     ]
    }
   ],
   "source": [
    "### Print Name with recursion 1 to N.\n",
    "def printNtimes(i,n):\n",
    "    if(i > n):\n",
    "        return\n",
    "#Print Name\n",
    "    print(i)\n",
    "    printNtimes(i + 1 ,n)\n",
    "\n",
    "\n",
    "##Call the fun\n",
    "printNtimes(1,5)\n"
   ]
  },
  {
   "cell_type": "code",
   "execution_count": 6,
   "metadata": {},
   "outputs": [
    {
     "name": "stdout",
     "output_type": "stream",
     "text": [
      "5\n",
      "4\n",
      "3\n",
      "2\n",
      "1\n"
     ]
    }
   ],
   "source": [
    "### Print Name with recursion N to 1.\n",
    "def printNtimes(i,n):\n",
    "    if(i > n):\n",
    "        return\n",
    "    printNtimes(i + 1 ,n)\n",
    "    #Print Name\n",
    "    print(i)\n",
    "\n",
    "\n",
    "##Call the fun\n",
    "printNtimes(1,5)\n"
   ]
  },
  {
   "cell_type": "code",
   "execution_count": 8,
   "metadata": {},
   "outputs": [
    {
     "name": "stdout",
     "output_type": "stream",
     "text": [
      "1\n",
      "2\n",
      "3\n",
      "4\n",
      "5\n",
      "6\n"
     ]
    }
   ],
   "source": [
    "### Print Name with recursion N to 1. \n",
    "# use (i - 1)\n",
    "def printNtimes(i,n):\n",
    "    if(i < 1):\n",
    "        return\n",
    "    printNtimes(i - 1 ,n)\n",
    "    #Print Name\n",
    "    print(i)\n",
    "\n",
    "\n",
    "##Call the fun\n",
    "printNtimes(6,5)\n"
   ]
  },
  {
   "cell_type": "markdown",
   "metadata": {},
   "source": [
    "- Sum of the N Numbers"
   ]
  },
  {
   "cell_type": "code",
   "execution_count": 12,
   "metadata": {},
   "outputs": [
    {
     "name": "stdout",
     "output_type": "stream",
     "text": [
      "15\n"
     ]
    }
   ],
   "source": [
    "def SumofN(i,sum):\n",
    "    if(i < 1):\n",
    "        print(sum)\n",
    "        return\n",
    "    SumofN(i-1,sum+i)\n",
    "\n",
    "\n",
    " ##Call func\n",
    "SumofN(5,0)   "
   ]
  },
  {
   "cell_type": "code",
   "execution_count": 18,
   "metadata": {},
   "outputs": [
    {
     "name": "stdout",
     "output_type": "stream",
     "text": [
      "15\n"
     ]
    }
   ],
   "source": [
    "###other way\n",
    "def SumofN(i,sum,n):\n",
    "    if(i > n):\n",
    "        print(sum)\n",
    "        return\n",
    "    SumofN(i+1,sum+i,n)\n",
    "\n",
    "\n",
    "\n",
    " ##Call func\n",
    "SumofN(1,0,5)   "
   ]
  },
  {
   "cell_type": "code",
   "execution_count": 19,
   "metadata": {},
   "outputs": [
    {
     "name": "stdout",
     "output_type": "stream",
     "text": [
      "25\n"
     ]
    }
   ],
   "source": [
    "###Give add 2 on every func all\n",
    "def SumofN(i,sum,n):\n",
    "    if(i > n):\n",
    "        print(sum)\n",
    "        return\n",
    "    SumofN(i+1,sum+i+2,n) #sum = sum + i + 2\n",
    "\n",
    "\n",
    "\n",
    " ##Call func\n",
    "SumofN(1,0,5)   "
   ]
  },
  {
   "cell_type": "code",
   "execution_count": 25,
   "metadata": {},
   "outputs": [
    {
     "name": "stdout",
     "output_type": "stream",
     "text": [
      "15\n"
     ]
    }
   ],
   "source": [
    "\n",
    "##Using the return\n",
    "def SumofN(i, sum, n):\n",
    "    if i > n:\n",
    "        return sum\n",
    "    return SumofN(i + 1, sum + i, n)\n",
    "\n",
    "# Call the function\n",
    "print(SumofN(1, 0, 5))\n"
   ]
  },
  {
   "cell_type": "code",
   "execution_count": 28,
   "metadata": {},
   "outputs": [
    {
     "name": "stdout",
     "output_type": "stream",
     "text": [
      "15\n"
     ]
    }
   ],
   "source": [
    "\n",
    "##Using the return\n",
    "def Funcation(i, n):\n",
    "    if i > n:\n",
    "        return 0\n",
    "    return i + Funcation(i + 1, n)  ##return at last step\n",
    "\n",
    "# Call the function\n",
    "print(Funcation(1, 5))\n"
   ]
  },
  {
   "cell_type": "markdown",
   "metadata": {},
   "source": [
    "- Factorial Program with Recursion"
   ]
  },
  {
   "cell_type": "code",
   "execution_count": 35,
   "metadata": {},
   "outputs": [
    {
     "data": {
      "text/plain": [
       "720"
      ]
     },
     "execution_count": 35,
     "metadata": {},
     "output_type": "execute_result"
    }
   ],
   "source": [
    "###Factorial using REcsurison\n",
    "def Factorial(i):\n",
    "    if(i == 1 or i == 0):\n",
    "        return 1\n",
    "    ###\n",
    "    return i * Factorial(i - 1)\n",
    "\n",
    "#Function Call\n",
    "Factorial(6)\n"
   ]
  },
  {
   "cell_type": "code",
   "execution_count": 38,
   "metadata": {},
   "outputs": [
    {
     "data": {
      "text/plain": [
       "120"
      ]
     },
     "execution_count": 38,
     "metadata": {},
     "output_type": "execute_result"
    }
   ],
   "source": [
    "###Factorial using REcsurison ,forward i + 1\n",
    "def Factorial(i,n):\n",
    "    if(i == n or i > n):\n",
    "        return n\n",
    "    ###\n",
    "    return i * Factorial(i + 1,n)\n",
    "\n",
    "#Function Call\n",
    "Factorial(1,5)\n"
   ]
  },
  {
   "cell_type": "code",
   "execution_count": 40,
   "metadata": {},
   "outputs": [
    {
     "data": {
      "text/plain": [
       "120"
      ]
     },
     "execution_count": 40,
     "metadata": {},
     "output_type": "execute_result"
    }
   ],
   "source": [
    "###Factorial using loop.\n",
    "def Factorial_loop(n):\n",
    "    temp = 1\n",
    "    for i in range(1,n+1):\n",
    "      temp = temp * i\n",
    "    return temp\n",
    "#Function Call\n",
    "Factorial_loop(5)\n"
   ]
  },
  {
   "cell_type": "markdown",
   "metadata": {},
   "source": [
    "\n",
    "### Reverse the Array using the Recursion"
   ]
  },
  {
   "cell_type": "code",
   "execution_count": 73,
   "metadata": {},
   "outputs": [
    {
     "name": "stdout",
     "output_type": "stream",
     "text": [
      "[8, 7, 6, 5, 4, 3, 2, 1]\n"
     ]
    }
   ],
   "source": [
    "##Uing the right and left pointer\n",
    "def Reverse_Array_rec(arr,left,right):\n",
    "    if(left >= right):\n",
    "        return \n",
    "    arr[left],arr[right] = arr[right],arr[left]\n",
    "    Reverse_Array_rec(arr,left + 1,right - 1)\n",
    "\n",
    "###Reverse Array REc\n",
    "arr = [1,2,3,4,5,6,7,8]\n",
    "n = len(arr)\n",
    "Reverse_Array_rec(arr,0,n-1)\n",
    "print(arr)   "
   ]
  },
  {
   "cell_type": "code",
   "execution_count": 78,
   "metadata": {},
   "outputs": [
    {
     "name": "stdout",
     "output_type": "stream",
     "text": [
      "[8, 7, 6, 5, 4, 3, 2, 1]\n"
     ]
    }
   ],
   "source": [
    "###Revser Array Using the OnePointer Only\n",
    "def Reverse_Array_rec_onePtr(arr,i,n):\n",
    "    if(i >= (n - i - 1)):\n",
    "        return\n",
    "    arr[n - i - 1],arr[i] = arr[i],arr[n - i - 1]\n",
    "    Reverse_Array_rec_onePtr(arr,i + 1,n)\n",
    "\n",
    "\n",
    "###Reverse Array REc\n",
    "arr = [1,2,3,4,5,6,7,8]\n",
    "n = len(arr)\n",
    "Reverse_Array_rec_onePtr(arr,0,n)\n",
    "print(arr)  \n",
    "\n"
   ]
  },
  {
   "cell_type": "markdown",
   "metadata": {},
   "source": [
    "- Print the Func of Recurion to check the palindrome"
   ]
  },
  {
   "cell_type": "code",
   "execution_count": 68,
   "metadata": {},
   "outputs": [
    {
     "name": "stdout",
     "output_type": "stream",
     "text": [
      "True\n",
      "MADAM\n",
      "False\n",
      "Laptop\n",
      "True\n",
      "madam\n"
     ]
    }
   ],
   "source": [
    "### Palindrome_check\n",
    "def Palindrome_check(s,i,n):\n",
    "    if( i >= (n - i -1)): #i >= n//2\n",
    "        return True\n",
    "    if(s[i]!= s[n - i - 1]):\n",
    "        return False\n",
    "    return Palindrome_check(s,i+1,n)\n",
    "\n",
    "\n",
    "\n",
    "###Palindrome Check\n",
    "s = \"MADAM\"\n",
    "n = len(s)\n",
    "print(Palindrome_check(s,0,n))\n",
    "print(s)\n",
    "###Palindrome Check\n",
    "s = \"Laptop\"\n",
    "n = len(s)\n",
    "print(Palindrome_check(s,0,n))\n",
    "print(s) \n",
    "###Palindrome Check\n",
    "s = \"MADaM\"\n",
    "n = len(s)\n",
    "print(Palindrome_check(s.lower(),0,n))\n",
    "print(s.lower())     "
   ]
  },
  {
   "cell_type": "code",
   "execution_count": 62,
   "metadata": {},
   "outputs": [
    {
     "data": {
      "text/plain": [
       "5"
      ]
     },
     "execution_count": 62,
     "metadata": {},
     "output_type": "execute_result"
    }
   ],
   "source": [
    "s = \"MADAM\"\n",
    "n = len(s)\n",
    "n "
   ]
  },
  {
   "cell_type": "code",
   "execution_count": null,
   "metadata": {},
   "outputs": [],
   "source": []
  },
  {
   "cell_type": "markdown",
   "metadata": {},
   "source": [
    "- Fibonacci using the Loop"
   ]
  },
  {
   "cell_type": "code",
   "execution_count": 87,
   "metadata": {},
   "outputs": [
    {
     "name": "stdout",
     "output_type": "stream",
     "text": [
      "Fibonacci sequence:\n",
      "0\n",
      "1\n",
      "1\n",
      "2\n",
      "3\n"
     ]
    },
    {
     "data": {
      "text/plain": [
       "5"
      ]
     },
     "execution_count": 87,
     "metadata": {},
     "output_type": "execute_result"
    }
   ],
   "source": [
    "# Program to display the Fibonacci sequence up to n-th term\n",
    "\n",
    "def FibonacciWithLoop(n):\n",
    "    # first two terms\n",
    "    a, b = 0, 1\n",
    "    print(\"Fibonacci sequence:\")\n",
    "    for i in range(n):\n",
    "        print(a)  # Print the current Fibonacci number\n",
    "        nth = a + b  # Calculate the next term\n",
    "        # Update values\n",
    "        a = b\n",
    "        b = nth\n",
    "    return a  # Return the nth Fibonacci number (the next one after the last printed)\n",
    "\n",
    "# Function call\n",
    "FibonacciWithLoop(5)\n"
   ]
  },
  {
   "cell_type": "code",
   "execution_count": 86,
   "metadata": {},
   "outputs": [
    {
     "name": "stdout",
     "output_type": "stream",
     "text": [
      "Fibonacci sequence:\n",
      "0\n",
      "1\n",
      "1\n",
      "2\n",
      "3\n"
     ]
    },
    {
     "data": {
      "text/plain": [
       "5"
      ]
     },
     "execution_count": 86,
     "metadata": {},
     "output_type": "execute_result"
    }
   ],
   "source": []
  },
  {
   "cell_type": "markdown",
   "metadata": {},
   "source": [
    "- CountDigits Using Rec"
   ]
  },
  {
   "cell_type": "code",
   "execution_count": 93,
   "metadata": {},
   "outputs": [
    {
     "name": "stdout",
     "output_type": "stream",
     "text": [
      "3\n"
     ]
    }
   ],
   "source": [
    "def CountUsingRec(n,count):\n",
    "    if(n<=0):\n",
    "        return count\n",
    "    return CountUsingRec(n//10,count+1)\n",
    "\n",
    "print(CountUsingRec(123,0))    "
   ]
  },
  {
   "cell_type": "code",
   "execution_count": 95,
   "metadata": {},
   "outputs": [
    {
     "name": "stdout",
     "output_type": "stream",
     "text": [
      "[5, 4, 3, 2, 1]\n"
     ]
    }
   ],
   "source": [
    "def count_down(n):\n",
    "    \"\"\"\n",
    "    Function to return a list of integers from n to 1 using recursion.\n",
    "    \n",
    "    Parameters:\n",
    "    n (int): The positive integer representing the starting point of the range.\n",
    "    \n",
    "    Returns:\n",
    "    list: A list of integers from n to 1.\n",
    "    \"\"\"\n",
    "    # Initialize an empty list to store the countdown\n",
    "    if n <= 0:\n",
    "        return []  # Return an empty list if n is less than or equal to 0\n",
    "    \n",
    "    # Recursive call to get the countdown list\n",
    "    result = count_down(n - 1)  # Get the countdown from n-1 to 1\n",
    "    result.insert(0,n)  # Append the current number n\n",
    "    return result  # Return the complete countdown list \n",
    "\n",
    "# Example usage\n",
    "print(count_down(5))  # Outputs: [5, 4, 3, 2, 1]\n"
   ]
  },
  {
   "cell_type": "markdown",
   "metadata": {},
   "source": [
    "- Check Array Soretd"
   ]
  },
  {
   "cell_type": "code",
   "execution_count": 98,
   "metadata": {},
   "outputs": [
    {
     "name": "stdout",
     "output_type": "stream",
     "text": [
      "True\n",
      "False\n"
     ]
    }
   ],
   "source": [
    "def CheckArrSorted(arr,i,n):\n",
    "    if(i == n - 1):\n",
    "        return True\n",
    "    if(arr[i] > arr[i + 1]):\n",
    "        return False\n",
    "    return CheckArrSorted(arr,i + 1,n)\n",
    "\n",
    "##Check\n",
    "arr = [1,2,3,4,5]\n",
    "n = len(arr)\n",
    "print(CheckArrSorted(arr,0,n))\n",
    "##Check\n",
    "arr = [1,2,1,3,4,5]\n",
    "n = len(arr)\n",
    "print(CheckArrSorted(arr,0,n))"
   ]
  },
  {
   "cell_type": "code",
   "execution_count": 100,
   "metadata": {},
   "outputs": [
    {
     "name": "stdout",
     "output_type": "stream",
     "text": [
      "True\n",
      "False\n"
     ]
    }
   ],
   "source": [
    "def CheckArrSorted(arr,i):\n",
    "    if(i == len(arr) - 1):\n",
    "        return True\n",
    "    if(arr[i] > arr[i + 1]):\n",
    "        return False\n",
    "    return CheckArrSorted(arr,i + 1)\n",
    "\n",
    "##Check\n",
    "arr = [1,2,3,4,5]\n",
    "n = len(arr)\n",
    "print(CheckArrSorted(arr,0))\n",
    "##Check\n",
    "arr = [1,2,1,3,4,5]\n",
    "n = len(arr)\n",
    "print(CheckArrSorted(arr,0))"
   ]
  },
  {
   "cell_type": "code",
   "execution_count": null,
   "metadata": {},
   "outputs": [],
   "source": []
  }
 ],
 "metadata": {
  "kernelspec": {
   "display_name": "Python 3",
   "language": "python",
   "name": "python3"
  },
  "language_info": {
   "codemirror_mode": {
    "name": "ipython",
    "version": 3
   },
   "file_extension": ".py",
   "mimetype": "text/x-python",
   "name": "python",
   "nbconvert_exporter": "python",
   "pygments_lexer": "ipython3",
   "version": "3.12.5"
  }
 },
 "nbformat": 4,
 "nbformat_minor": 2
}
