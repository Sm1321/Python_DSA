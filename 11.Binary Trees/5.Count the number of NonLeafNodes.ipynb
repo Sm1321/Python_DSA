{
 "cells": [
  {
   "cell_type": "markdown",
   "metadata": {},
   "source": [
    "## Count the number of Non-Leaf Node"
   ]
  },
  {
   "cell_type": "code",
   "execution_count": 1,
   "metadata": {},
   "outputs": [],
   "source": [
    "class TreeNode:\n",
    "    def __init__(self, value=0, left=None, right=None):\n",
    "        self.value = value\n",
    "        self.left = left\n",
    "        self.right = right\n",
    "\n",
    "\n",
    "# Function to create a sample binary tree\n",
    "def create_sample_binary_tree():\n",
    "    # Example: Creating the following binary tree\n",
    "    #         1\n",
    "    #        / \\\n",
    "    #       2   3\n",
    "    #      / \\   \\\n",
    "    #     4   5   6\n",
    "    \n",
    "    root = TreeNode(1)\n",
    "    root.left = TreeNode(2)\n",
    "    root.right = TreeNode(3)\n",
    "    root.left.left = TreeNode(4)\n",
    "    root.left.right = TreeNode(5)\n",
    "    root.right.right = TreeNode(6)\n",
    "    return root\n",
    "\n",
    "# Create the binary tree\n",
    "root = create_sample_binary_tree()\n",
    "\n",
    "\n"
   ]
  },
  {
   "cell_type": "code",
   "execution_count": 10,
   "metadata": {},
   "outputs": [],
   "source": [
    "# Function to create a sample binary tree\n",
    "def create_sample_binary_tree():\n",
    "    # Example: Creating the following binary tree\n",
    "    #         1\n",
    "    #        /  \\\n",
    "    #       2    3\n",
    "    #      / \\   / \\\n",
    "    #     4   5  7  6\n",
    "    #                \\\n",
    "    #                 8   \n",
    "    \n",
    "    root = TreeNode(1)\n",
    "    root.left = TreeNode(2)\n",
    "    root.right = TreeNode(3)\n",
    "    root.left.left = TreeNode(4)\n",
    "    root.left.right = TreeNode(5)\n",
    "    root.right.left = TreeNode(7)\n",
    "    root.right.right = TreeNode(6)\n",
    "    root.right.right.right = TreeNode(8)\n",
    "    return root\n",
    "\n",
    "# Create the binary tree\n",
    "root_1 = create_sample_binary_tree()\n",
    "\n"
   ]
  },
  {
   "cell_type": "markdown",
   "metadata": {},
   "source": [
    "###  Function to count the number of NoN - Leaf nodes in the binary tree"
   ]
  },
  {
   "cell_type": "code",
   "execution_count": 11,
   "metadata": {},
   "outputs": [
    {
     "name": "stdout",
     "output_type": "stream",
     "text": [
      "Number of Non-leaf nodes in the binary tree: 3\n",
      "----------------------------------------\n",
      "Number of leaf nodes in the binary tree: 4\n"
     ]
    }
   ],
   "source": [
    "# Function to count the number of NON-leaf nodes in the binary tree\n",
    "def count_Non_leaf_nodes(root):\n",
    "    if root is None:\n",
    "        return 0\n",
    "    # A leaf node has no left or right children\n",
    "    if root.left is  None and root.right is  None:\n",
    "        return 0\n",
    "    \n",
    "    # Recursively count leaf nodes in the left and right subtrees\n",
    "    return count_Non_leaf_nodes(root.left) + count_Non_leaf_nodes(root.right) + 1\n",
    "\n",
    "\n",
    "# Count the number of leaf nodes\n",
    "leaf_count = count_Non_leaf_nodes(root)\n",
    "print(\"Number of Non-leaf nodes in the binary tree:\", leaf_count)\n",
    "print('----'*10)\n",
    "# # Count the number of leaf nodes\n",
    "leaf_count = count_Non_leaf_nodes(root_1)\n",
    "print(\"Number of leaf nodes in the binary tree:\", leaf_count)"
   ]
  }
 ],
 "metadata": {
  "kernelspec": {
   "display_name": "base",
   "language": "python",
   "name": "python3"
  },
  "language_info": {
   "codemirror_mode": {
    "name": "ipython",
    "version": 3
   },
   "file_extension": ".py",
   "mimetype": "text/x-python",
   "name": "python",
   "nbconvert_exporter": "python",
   "pygments_lexer": "ipython3",
   "version": "3.12.3"
  }
 },
 "nbformat": 4,
 "nbformat_minor": 2
}
