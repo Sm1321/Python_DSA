{
 "cells": [
  {
   "cell_type": "markdown",
   "metadata": {},
   "source": [
    "### Find the height of the Binary Tree"
   ]
  },
  {
   "cell_type": "code",
   "execution_count": 5,
   "metadata": {},
   "outputs": [],
   "source": [
    "class TreeNode:\n",
    "    def __init__(self, value=0, left=None, right=None):\n",
    "        self.value = value\n",
    "        self.left = left\n",
    "        self.right = right"
   ]
  },
  {
   "cell_type": "code",
   "execution_count": 6,
   "metadata": {},
   "outputs": [],
   "source": [
    "\n",
    "# Function to create a sample binary tree\n",
    "def create_sample_binary_tree():\n",
    "    # Example: Creating the following binary tree\n",
    "    #         1\n",
    "    #        / \\\n",
    "    #       2   3\n",
    "    #      / \\   \\\n",
    "    #     4   5   6\n",
    "    \n",
    "    root = TreeNode(1)\n",
    "    root.left = TreeNode(2)\n",
    "    root.right = TreeNode(3)\n",
    "    root.left.left = TreeNode(4)\n",
    "    root.left.right = TreeNode(5)\n",
    "    root.right.right = TreeNode(6)\n",
    "    return root"
   ]
  },
  {
   "cell_type": "code",
   "execution_count": 7,
   "metadata": {},
   "outputs": [],
   "source": [
    "# Function to create another sample binary tree\n",
    "def create_sample_binary_tree_2():\n",
    "    # Example: Creating the following binary tree\n",
    "    #         1\n",
    "    #        /  \\\n",
    "    #       2    3\n",
    "    #      / \\   / \\\n",
    "    #     4   5 7   6\n",
    "    #                \\\n",
    "    #                 8   \n",
    "    \n",
    "    root = TreeNode(1)\n",
    "    root.left = TreeNode(2)\n",
    "    root.right = TreeNode(3)\n",
    "    root.left.left = TreeNode(4)\n",
    "    root.left.right = TreeNode(5)\n",
    "    root.right.left = TreeNode(7)\n",
    "    root.right.right = TreeNode(6)\n",
    "    root.right.right.right = TreeNode(8)\n",
    "    return root\n"
   ]
  },
  {
   "cell_type": "code",
   "execution_count": 8,
   "metadata": {},
   "outputs": [],
   "source": [
    "# Function to calculate the height of the binary tree\n",
    "def height_of_tree(root):\n",
    "    if root is None:  # If the tree is empty, the height is 0\n",
    "        return 0\n",
    "    # Recursively calculate the height of the left and right subtrees\n",
    "    left_height = height_of_tree(root.left)\n",
    "    right_height = height_of_tree(root.right)\n",
    "    # The height of the tree is the maximum of the left and right heights, plus 1\n",
    "    return max(left_height, right_height) + 1"
   ]
  },
  {
   "cell_type": "code",
   "execution_count": 9,
   "metadata": {},
   "outputs": [
    {
     "name": "stdout",
     "output_type": "stream",
     "text": [
      "Height of the first binary tree: 3\n",
      "Height of the second binary tree: 4\n"
     ]
    }
   ],
   "source": [
    "# Create the binary trees\n",
    "root = create_sample_binary_tree()\n",
    "root_1 = create_sample_binary_tree_2()\n",
    "\n",
    "# Find the height of the first binary tree\n",
    "height_1 = height_of_tree(root)\n",
    "print(\"Height of the first binary tree:\", height_1)\n",
    "\n",
    "# Find the height of the second binary tree\n",
    "height_2 = height_of_tree(root_1)\n",
    "print(\"Height of the second binary tree:\", height_2)"
   ]
  },
  {
   "cell_type": "code",
   "execution_count": null,
   "metadata": {},
   "outputs": [],
   "source": []
  }
 ],
 "metadata": {
  "kernelspec": {
   "display_name": "base",
   "language": "python",
   "name": "python3"
  },
  "language_info": {
   "codemirror_mode": {
    "name": "ipython",
    "version": 3
   },
   "file_extension": ".py",
   "mimetype": "text/x-python",
   "name": "python",
   "nbconvert_exporter": "python",
   "pygments_lexer": "ipython3",
   "version": "3.12.3"
  }
 },
 "nbformat": 4,
 "nbformat_minor": 2
}
