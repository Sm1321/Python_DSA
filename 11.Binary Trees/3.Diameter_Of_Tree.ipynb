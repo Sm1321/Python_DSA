{
 "cells": [
  {
   "cell_type": "markdown",
   "metadata": {},
   "source": [
    "#### Diameter of the tree"
   ]
  },
  {
   "cell_type": "code",
   "execution_count": 9,
   "metadata": {},
   "outputs": [],
   "source": [
    "### Take input of Binaty Tree\n",
    "### Binary Tree Node Creation\n",
    "\n",
    "class BinaryTreeNode:\n",
    "    def __init__(self,data):\n",
    "        self.data = data\n",
    "        self.left = None \n",
    "        self.right = None "
   ]
  },
  {
   "cell_type": "code",
   "execution_count": 10,
   "metadata": {},
   "outputs": [
    {
     "name": "stdout",
     "output_type": "stream",
     "text": [
      "Enter the Binary Tree Node (-1 for no node):\n",
      "Enter the left child of 1:\n",
      "Enter the left child of 2:\n",
      "Enter the left child of 3:\n",
      "Enter the left child of 4:\n",
      "Enter the left child of 5:\n",
      "Enter the right child of 5:\n",
      "Enter the right child of 4:\n",
      "Enter the right child of 3:\n",
      "Enter the right child of 2:\n",
      "Enter the left child of 6:\n",
      "Enter the right child of 6:\n",
      "Enter the left child of 7:\n",
      "Enter the right child of 7:\n",
      "Enter the left child of 8:\n",
      "Enter the right child of 8:\n",
      "Enter the left child of 9:\n",
      "Enter the right child of 9:\n",
      "Enter the right child of 1:\n",
      "Enter the left child of 10:\n",
      "Enter the right child of 10:\n"
     ]
    }
   ],
   "source": [
    "\n",
    "#Add the nodes \n",
    "\n",
    "\n",
    "#Take the input \n",
    "def take_input_binary_tree():\n",
    "    data = int(input(\"Enter the Data for the Node (-1 for no node): \"))\n",
    "    if data == -1:\n",
    "        return None\n",
    "    \n",
    "    node = BinaryTreeNode(data)  # For the Root Node \n",
    "    \n",
    "    # Left node input\n",
    "    print(f\"Enter the left child of {data}:\")\n",
    "    node.left = take_input_binary_tree()\n",
    "    \n",
    "    # Right node input \n",
    "    print(f\"Enter the right child of {data}:\")\n",
    "    node.right = take_input_binary_tree()\n",
    "    \n",
    "    return node \n",
    "\n",
    "print(\"Enter the Binary Tree Node (-1 for no node):\")\n",
    "root = take_input_binary_tree()\n"
   ]
  },
  {
   "cell_type": "markdown",
   "metadata": {},
   "source": [
    "## Print Binary Tree"
   ]
  },
  {
   "cell_type": "code",
   "execution_count": 11,
   "metadata": {},
   "outputs": [
    {
     "name": "stdout",
     "output_type": "stream",
     "text": [
      "1:L->2, R->10, \n",
      "2:L->3, R->6, \n",
      "3:L->4, R->None, \n",
      "4:L->5, R->None, \n",
      "5:L->None, R->None, \n",
      "6:L->None, R->7, \n",
      "7:L->None, R->8, \n",
      "8:L->None, R->9, \n",
      "9:L->None, R->None, \n",
      "10:L->None, R->None, \n"
     ]
    }
   ],
   "source": [
    "def print_binary_tree(root):\n",
    "    if root == None:\n",
    "        return \n",
    "    print(root.data,end = \":\")\n",
    "\n",
    "    if(root.left is not None):\n",
    "        print(f\"L->{root.left.data}\",end = \", \")\n",
    "    else:\n",
    "        print(\"L->None\",end = \", \")\n",
    "\n",
    "    if(root.right is not None):\n",
    "        print(f\"R->{root.right.data}\",end = \", \")\n",
    "    else:\n",
    "        print(\"R->None\",end = \", \")    \n",
    "    \n",
    "    print()\n",
    "    print_binary_tree(root.left)\n",
    "    print_binary_tree(root.right)\n",
    "\n",
    "#call the print function \n",
    "print_binary_tree(root)    \n",
    "##    "
   ]
  },
  {
   "cell_type": "markdown",
   "metadata": {},
   "source": [
    "### Take the values explictly"
   ]
  },
  {
   "cell_type": "code",
   "execution_count": 17,
   "metadata": {},
   "outputs": [],
   "source": [
    "class TreeNode:\n",
    "    def __init__(self, value=0, left=None, right=None):\n",
    "        self.value = value\n",
    "        self.left = left\n",
    "        self.right = right\n",
    "\n",
    "# Function to create a sample binary tree\n",
    "def create_sample_binary_tree():\n",
    "    # Example: Creating the following binary tree\n",
    "    #         1\n",
    "    #        /  \\\n",
    "    #       2    3\n",
    "    #      / \\  / \\\n",
    "    #     4   5 7  6\n",
    "    \n",
    "    root = TreeNode(1)\n",
    "    root.left = TreeNode(2)\n",
    "    root.right = TreeNode(3)\n",
    "    root.left.left = TreeNode(4)\n",
    "    root.left.right = TreeNode(5)\n",
    "    root.right.left = TreeNode(7)\n",
    "    root.right.right = TreeNode(6)\n",
    "    return root\n",
    "\n",
    "# Create the binary tree\n",
    "root = create_sample_binary_tree()\n",
    "\n",
    "\n"
   ]
  },
  {
   "cell_type": "markdown",
   "metadata": {},
   "source": [
    "### Print the Diameter of the Tree"
   ]
  },
  {
   "cell_type": "code",
   "execution_count": 19,
   "metadata": {},
   "outputs": [
    {
     "name": "stdout",
     "output_type": "stream",
     "text": [
      "Diameter of the binary tree: 4\n"
     ]
    }
   ],
   "source": [
    "# Function to find the Height of the Tree\n",
    "def height(root):\n",
    "    if root is None:\n",
    "        return 0\n",
    "    left_height = height(root.left)  # left height\n",
    "    right_height = height(root.right)  # right height\n",
    "    # Find the max of the left and right\n",
    "    height_of_tree = 1 + max(left_height, right_height)\n",
    "    return height_of_tree\n",
    "\n",
    "# Function to find the Diameter of the Tree\n",
    "def diameter_of_a_tree(root):\n",
    "    if root is None:\n",
    "        return 0\n",
    "    # Heights of left and right subtrees\n",
    "    left_height = height(root.left)\n",
    "    right_height = height(root.right)\n",
    "    \n",
    "    # Diameters of left and right subtrees\n",
    "    left_diameter = diameter_of_a_tree(root.left)\n",
    "    right_diameter = diameter_of_a_tree(root.right)\n",
    "    \n",
    "    # The diameter is the maximum of:\n",
    "    # 1. Left subtree diameter\n",
    "    # 2. Right subtree diameter\n",
    "    # 3. Sum of left and right subtree heights + 1 (for the root)\n",
    "    ans = max(left_diameter, right_diameter, left_height + right_height)\n",
    "    return ans\n",
    "\n",
    "# Now, you can call the diameter function\n",
    "print(\"Diameter of the binary tree:\", diameter_of_a_tree(root))\n"
   ]
  },
  {
   "cell_type": "code",
   "execution_count": null,
   "metadata": {},
   "outputs": [],
   "source": []
  }
 ],
 "metadata": {
  "kernelspec": {
   "display_name": "base",
   "language": "python",
   "name": "python3"
  },
  "language_info": {
   "codemirror_mode": {
    "name": "ipython",
    "version": 3
   },
   "file_extension": ".py",
   "mimetype": "text/x-python",
   "name": "python",
   "nbconvert_exporter": "python",
   "pygments_lexer": "ipython3",
   "version": "3.12.3"
  }
 },
 "nbformat": 4,
 "nbformat_minor": 2
}
