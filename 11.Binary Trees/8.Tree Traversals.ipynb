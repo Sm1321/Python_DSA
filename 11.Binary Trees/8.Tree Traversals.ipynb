{
 "cells": [
  {
   "cell_type": "markdown",
   "metadata": {},
   "source": [
    "### Tree Traversals"
   ]
  },
  {
   "cell_type": "code",
   "execution_count": 9,
   "metadata": {},
   "outputs": [],
   "source": [
    "class TreeNode:\n",
    "    def __init__(self, value=0, left=None, right=None):\n",
    "        self.value = value\n",
    "        self.left = left\n",
    "        self.right = right\n",
    "\n",
    "# Function to create a sample binary tree\n",
    "def create_sample_binary_tree():\n",
    "    # Example: Creating the following binary tree\n",
    "    #         1\n",
    "    #        / \\\n",
    "    #       2   3\n",
    "    #      / \\  / \\\n",
    "    #     4   5 6  7\n",
    "    \n",
    "    root = TreeNode(1)\n",
    "    root.left = TreeNode(2)\n",
    "    root.right = TreeNode(3)\n",
    "    root.left.left = TreeNode(4)\n",
    "    root.left.right = TreeNode(5)\n",
    "    root.right.right = TreeNode(7)\n",
    "    root.right.left = TreeNode(6)\n",
    "    return root\n",
    "\n",
    "# Create the binary tree\n",
    "root = create_sample_binary_tree()\n",
    "\n"
   ]
  },
  {
   "cell_type": "markdown",
   "metadata": {},
   "source": [
    "## Pre-Order Traversals"
   ]
  },
  {
   "cell_type": "code",
   "execution_count": null,
   "metadata": {},
   "outputs": [
    {
     "name": "stdout",
     "output_type": "stream",
     "text": [
      "1 , 2 , 4 , 5 , 3 , 6 , 7 , "
     ]
    }
   ],
   "source": [
    "def preOrder_Traversal(root):\n",
    "    #if root is none ,we return None\n",
    "    if root is None:\n",
    "        return \n",
    "    #Now Traverse the Tree in the Pre-Order\n",
    "    print(root.value,end = \" , \") #print the Data\n",
    "    preOrder_Traversal(root.left) #go to left\n",
    "    preOrder_Traversal(root.right) #go to right\n",
    "\n",
    "\n",
    "#Call the PreOrder Traversal Function\n",
    "preOrder_Traversal(root)    "
   ]
  },
  {
   "cell_type": "markdown",
   "metadata": {},
   "source": [
    "### IN-Order Traversals"
   ]
  },
  {
   "cell_type": "code",
   "execution_count": 11,
   "metadata": {},
   "outputs": [
    {
     "name": "stdout",
     "output_type": "stream",
     "text": [
      "4 , 2 , 5 , 1 , 6 , 3 , 7 , "
     ]
    }
   ],
   "source": [
    "def IN_Order_Traversal(root):\n",
    "    #if root is none ,we return None\n",
    "    if root is None:\n",
    "        return \n",
    "    #Now Traverse the Tree in the Pre-Order\n",
    "    \n",
    "    IN_Order_Traversal(root.left) #go to left\n",
    "    print(root.value,end = \" , \") #print the Data\n",
    "    IN_Order_Traversal(root.right) #go to right\n",
    "\n",
    "\n",
    "#Call the PreOrder Traversal Function\n",
    "IN_Order_Traversal(root)    "
   ]
  },
  {
   "cell_type": "markdown",
   "metadata": {},
   "source": [
    "### Post-Order Traversals"
   ]
  },
  {
   "cell_type": "code",
   "execution_count": 12,
   "metadata": {},
   "outputs": [
    {
     "name": "stdout",
     "output_type": "stream",
     "text": [
      "4 , 5 , 2 , 6 , 7 , 3 , 1 , "
     ]
    }
   ],
   "source": [
    "def Post_Order_Traversal(root):\n",
    "    #if root is none ,we return None\n",
    "    if root is None:\n",
    "        return \n",
    "    #Now Traverse the Tree in the Pre-Order\n",
    "    \n",
    "    Post_Order_Traversal(root.left) #go to left\n",
    "    \n",
    "    Post_Order_Traversal(root.right) #go to right\n",
    "    print(root.value,end = \" , \") #print the Data\n",
    "\n",
    "\n",
    "#Call the PreOrder Traversal Function\n",
    "Post_Order_Traversal(root)    "
   ]
  },
  {
   "cell_type": "markdown",
   "metadata": {},
   "source": [
    "### Level  Order Traversal"
   ]
  },
  {
   "cell_type": "code",
   "execution_count": 13,
   "metadata": {},
   "outputs": [
    {
     "name": "stdout",
     "output_type": "stream",
     "text": [
      "1 , 2 , 3 , 4 , 5 , 6 , 7 , "
     ]
    }
   ],
   "source": [
    "from collections import deque\n",
    "\n",
    "def level_order_traversal(root):\n",
    "    if root is None:\n",
    "        return\n",
    "    \n",
    "    # Initialize a queue and add the root node to it\n",
    "    queue = deque([root])\n",
    "    \n",
    "    while queue:\n",
    "        # Remove the front node from the queue\n",
    "        current_node = queue.popleft()\n",
    "        print(current_node.value, end=\" , \")  # Print the current node's value\n",
    "        \n",
    "        # Add the left child to the queue if it exists\n",
    "        if current_node.left:\n",
    "            queue.append(current_node.left)\n",
    "        \n",
    "        # Add the right child to the queue if it exists\n",
    "        if current_node.right:\n",
    "            queue.append(current_node.right)\n",
    "\n",
    "# Call the Level-Order Traversal function\n",
    "level_order_traversal(root)\n"
   ]
  }
 ],
 "metadata": {
  "kernelspec": {
   "display_name": "base",
   "language": "python",
   "name": "python3"
  },
  "language_info": {
   "codemirror_mode": {
    "name": "ipython",
    "version": 3
   },
   "file_extension": ".py",
   "mimetype": "text/x-python",
   "name": "python",
   "nbconvert_exporter": "python",
   "pygments_lexer": "ipython3",
   "version": "3.12.3"
  }
 },
 "nbformat": 4,
 "nbformat_minor": 2
}
