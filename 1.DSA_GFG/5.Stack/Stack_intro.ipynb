{
 "cells": [
  {
   "cell_type": "markdown",
   "id": "f0e4cab2",
   "metadata": {},
   "source": [
    "### Stack Operations\n",
    "- A stack is a linear data structure that follows the LIFO (Last In, First Out) principle. \n",
    "- Below is a simple Python implementation of a stack using a class."
   ]
  },
  {
   "cell_type": "code",
   "execution_count": 7,
   "id": "0f439a79",
   "metadata": {},
   "outputs": [],
   "source": [
    "class Stack:\n",
    "    def __init__(self):\n",
    "        self.stack = []\n",
    "\n",
    "    # Push element onto stack\n",
    "    def push(self, item):\n",
    "        self.stack.append(item)\n",
    "        print(f\"Pushed {item}\")\n",
    "\n",
    "    # Pop element from stack\n",
    "    def pop(self):\n",
    "        if self.is_empty():\n",
    "            print(\"Stack Underflow! Cannot pop from empty stack.\")\n",
    "            return None\n",
    "        popped = self.stack.pop()\n",
    "        print(f\"Popped {popped}\")\n",
    "        return popped\n",
    "\n",
    "    # Peek (view top element)\n",
    "    def peek(self):\n",
    "        if self.is_empty():\n",
    "            print(\"Stack is empty.\")\n",
    "            return None\n",
    "        print(f\"Top element is {self.stack[-1]}\")\n",
    "        return self.stack[-1]\n",
    "\n",
    "    # Check if the stack is empty\n",
    "    def is_empty(self):\n",
    "        return len(self.stack) == 0\n",
    "\n",
    "    # Get the size of the stack\n",
    "    def size(self):\n",
    "        return len(self.stack)\n",
    "\n",
    "    # Display all elements\n",
    "    def display(self):\n",
    "        if self.is_empty():\n",
    "            print(\"Stack is empty.\")\n",
    "        else:\n",
    "            print(\"Stack elements (top to bottom):\")\n",
    "            for item in reversed(self.stack):\n",
    "                print(item)\n"
   ]
  },
  {
   "cell_type": "code",
   "execution_count": 8,
   "id": "5deb69b4",
   "metadata": {},
   "outputs": [
    {
     "name": "stdout",
     "output_type": "stream",
     "text": [
      "Pushed 10\n",
      "Pushed 20\n",
      "Pushed 30\n",
      "Top element is 30\n",
      "Stack elements (top to bottom):\n",
      "30\n",
      "20\n",
      "10\n",
      "Popped 30\n",
      "Stack elements (top to bottom):\n",
      "20\n",
      "10\n",
      "Is stack empty? False\n",
      "Size of stack: 2\n"
     ]
    }
   ],
   "source": [
    "s = Stack()\n",
    "s.push(10)\n",
    "s.push(20)\n",
    "s.push(30)\n",
    "s.peek()\n",
    "s.display()\n",
    "s.pop()\n",
    "s.display()\n",
    "print(\"Is stack empty?\", s.is_empty())\n",
    "print(\"Size of stack:\", s.size())\n"
   ]
  },
  {
   "cell_type": "markdown",
   "id": "8f2c8e00",
   "metadata": {},
   "source": [
    "###  Linked List implenatation of Stack"
   ]
  },
  {
   "cell_type": "code",
   "execution_count": 9,
   "id": "842193a2",
   "metadata": {},
   "outputs": [],
   "source": [
    "# Node class for the linked list\n",
    "class Node:\n",
    "    def __init__(self, data):\n",
    "        self.data = data\n",
    "        self.next = None\n",
    "\n",
    "# Stack class using linked list\n",
    "class Stack:\n",
    "    def __init__(self):\n",
    "        self.top = None  # Points to the top of the stack\n",
    "\n",
    "    # Push operation\n",
    "    def push(self, item):\n",
    "        new_node = Node(item)\n",
    "        new_node.next = self.top  # Link new node to the previous top\n",
    "        self.top = new_node       # Update top\n",
    "        print(f\"Pushed {item}\")\n",
    "\n",
    "    # Pop operation\n",
    "    def pop(self):\n",
    "        if self.is_empty():\n",
    "            print(\"Stack Underflow! Cannot pop from empty stack.\")\n",
    "            return None\n",
    "        popped = self.top.data\n",
    "        self.top = self.top.next  # Move top to the next node\n",
    "        print(f\"Popped {popped}\")\n",
    "        return popped\n",
    "\n",
    "    # Peek operation\n",
    "    def peek(self):\n",
    "        if self.is_empty():\n",
    "            print(\"Stack is empty.\")\n",
    "            return None\n",
    "        print(f\"Top element is {self.top.data}\")\n",
    "        return self.top.data\n",
    "\n",
    "    # Check if the stack is empty\n",
    "    def is_empty(self):\n",
    "        return self.top is None\n",
    "\n",
    "    # Display stack elements\n",
    "    def display(self):\n",
    "        if self.is_empty():\n",
    "            print(\"Stack is empty.\")\n",
    "        else:\n",
    "            print(\"Stack elements (top to bottom):\")\n",
    "            temp = self.top\n",
    "            while temp:\n",
    "                print(temp.data)\n",
    "                temp = temp.next\n"
   ]
  },
  {
   "cell_type": "code",
   "execution_count": 10,
   "id": "79eda2d1",
   "metadata": {},
   "outputs": [
    {
     "name": "stdout",
     "output_type": "stream",
     "text": [
      "Pushed 100\n",
      "Pushed 200\n",
      "Pushed 300\n",
      "Top element is 300\n",
      "Stack elements (top to bottom):\n",
      "300\n",
      "200\n",
      "100\n",
      "Popped 300\n",
      "Stack elements (top to bottom):\n",
      "200\n",
      "100\n",
      "Is stack empty? False\n"
     ]
    }
   ],
   "source": [
    "s = Stack()\n",
    "s.push(100)\n",
    "s.push(200)\n",
    "s.push(300)\n",
    "s.peek()\n",
    "s.display()\n",
    "s.pop()\n",
    "s.display()\n",
    "print(\"Is stack empty?\", s.is_empty())\n"
   ]
  },
  {
   "cell_type": "code",
   "execution_count": null,
   "id": "e2d1e908",
   "metadata": {},
   "outputs": [],
   "source": []
  },
  {
   "cell_type": "code",
   "execution_count": null,
   "id": "105b5be9",
   "metadata": {},
   "outputs": [],
   "source": []
  },
  {
   "cell_type": "code",
   "execution_count": null,
   "id": "45ae22d1",
   "metadata": {},
   "outputs": [],
   "source": []
  }
 ],
 "metadata": {
  "kernelspec": {
   "display_name": "base",
   "language": "python",
   "name": "python3"
  },
  "language_info": {
   "codemirror_mode": {
    "name": "ipython",
    "version": 3
   },
   "file_extension": ".py",
   "mimetype": "text/x-python",
   "name": "python",
   "nbconvert_exporter": "python",
   "pygments_lexer": "ipython3",
   "version": "3.12.7"
  }
 },
 "nbformat": 4,
 "nbformat_minor": 5
}
