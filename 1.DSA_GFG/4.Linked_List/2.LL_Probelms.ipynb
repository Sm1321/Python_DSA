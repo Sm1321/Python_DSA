{
 "cells": [
  {
   "cell_type": "code",
   "execution_count": 28,
   "id": "812a4b3c",
   "metadata": {},
   "outputs": [],
   "source": [
    "#Create a Node in LL\n",
    "class Node:\n",
    "    def __init__(self,key):\n",
    "        self.data = key \n",
    "        self.next = None\n",
    "\n",
    "##Add the nodes \n",
    "temp1 = Node(10)\n",
    "temp2 = Node(20)\n",
    "temp3 = Node(30)\n",
    "temp4 = Node(40)\n",
    "temp5 = Node(50)\n",
    "temp1.next = temp2\n",
    "temp2.next = temp3\n",
    "temp3.next = temp4\n",
    "temp4.next = temp5\n",
    "head = temp1"
   ]
  },
  {
   "cell_type": "code",
   "execution_count": 29,
   "id": "0921f860",
   "metadata": {},
   "outputs": [
    {
     "name": "stdout",
     "output_type": "stream",
     "text": [
      "10\n",
      "20\n",
      "30\n",
      "40\n"
     ]
    }
   ],
   "source": [
    "#Print the Keys\n",
    "print(head.data)\n",
    "print(head.next.data)\n",
    "print(head.next.next.data)\n",
    "print(head.next.next.next.data)\n"
   ]
  },
  {
   "cell_type": "code",
   "execution_count": 30,
   "id": "47cdb0cf",
   "metadata": {},
   "outputs": [
    {
     "name": "stdout",
     "output_type": "stream",
     "text": [
      "10\n",
      "20\n",
      "30\n",
      "40\n",
      "50\n"
     ]
    }
   ],
   "source": [
    "### Print the LL\n",
    "def print_LL(head):\n",
    "    while head!=None:\n",
    "        print(head.data)\n",
    "        head = head.next\n",
    "\n",
    "#Call  \n",
    "print_LL(head)    "
   ]
  },
  {
   "cell_type": "markdown",
   "id": "3944d62f",
   "metadata": {},
   "source": [
    "### DElete Middle of the LL"
   ]
  },
  {
   "cell_type": "markdown",
   "id": "346487d9",
   "metadata": {},
   "source": [
    "- `Approch 1:-`  USe the Loop to find the LL Length and go with len//2 , to find the middle and update it"
   ]
  },
  {
   "cell_type": "code",
   "execution_count": 31,
   "id": "fbffcbb2",
   "metadata": {},
   "outputs": [
    {
     "name": "stdout",
     "output_type": "stream",
     "text": [
      "10\n",
      "20\n",
      "40\n",
      "50\n"
     ]
    }
   ],
   "source": [
    "def deleteMiddle(head):\n",
    "        temp = head\n",
    "        if temp is None or temp.next is None:\n",
    "            return None\n",
    "        cnt = 0\n",
    "        while temp!=None:\n",
    "            temp = temp.next\n",
    "            cnt +=1\n",
    "        # Now\n",
    "        res = (cnt//2)\n",
    "        #Now Traverse to the count\n",
    "        temp2 = head\n",
    "        while temp2!=None:\n",
    "            res = res - 1\n",
    "            if (res==0):\n",
    "                middle = temp2.next\n",
    "                temp2.next = middle.next\n",
    "                break\n",
    "            temp2 = temp2.next    \n",
    "\n",
    "        return head  \n",
    "\n",
    "\n",
    "## Call the Function\n",
    "temp = deleteMiddle(head)\n",
    "print_LL(temp)"
   ]
  },
  {
   "cell_type": "markdown",
   "id": "2cf7f417",
   "metadata": {},
   "source": [
    "- `Approch2:-`\n",
    "- Find the Middle using the Tortosise and Harie Algo\n",
    "- But here you needed to skip the one slow pointer step , so that we will be stopn before the middle"
   ]
  },
  {
   "cell_type": "code",
   "execution_count": 26,
   "id": "b81a232e",
   "metadata": {},
   "outputs": [
    {
     "name": "stdout",
     "output_type": "stream",
     "text": [
      "10\n",
      "20\n",
      "50\n"
     ]
    }
   ],
   "source": [
    "def deleteMiddle_Optimal(head):\n",
    "        temp = head\n",
    "        if temp is None or temp.next is None:\n",
    "            return None\n",
    "        slow = head \n",
    "        fast = head \n",
    "        fast = fast.next.next #Move fast , i.e we skip the one step of slow\n",
    "        while fast!=None and fast.next!=None:\n",
    "              slow = slow.next\n",
    "              fast = fast.next.next\n",
    "        #Change the Link\n",
    "        if slow!=None or slow.next !=None:\n",
    "              middle = slow.next\n",
    "              slow.next = middle.next\n",
    "              #Free the middle\n",
    "        return head          \n",
    "\n",
    "\n",
    "## Call the Function\n",
    "temp = deleteMiddle_Optimal(head)\n",
    "print_LL(temp)"
   ]
  },
  {
   "cell_type": "code",
   "execution_count": 32,
   "id": "7e390ce6",
   "metadata": {},
   "outputs": [
    {
     "name": "stdout",
     "output_type": "stream",
     "text": [
      "10\n",
      "20\n",
      "50\n"
     ]
    }
   ],
   "source": [
    "def deleteMiddle_Optimal(head):\n",
    "    # If list has 0 or 1 node, return None\n",
    "    if head is None or head.next is None:\n",
    "        return None\n",
    "\n",
    "    slow = head\n",
    "    fast = head\n",
    "    prev = None  # To keep track of the node before slow\n",
    "\n",
    "    # Move slow one step and fast two steps\n",
    "    while fast and fast.next:\n",
    "        prev = slow\n",
    "        slow = slow.next\n",
    "        fast = fast.next.next\n",
    "\n",
    "    # Delete the middle node\n",
    "    prev.next = slow.next  # Bypass the middle node\n",
    "    return head\n",
    "## Call the Function\n",
    "temp = deleteMiddle_Optimal(head)\n",
    "print_LL(temp)"
   ]
  },
  {
   "cell_type": "markdown",
   "id": "4d4d4f28",
   "metadata": {},
   "source": [
    "### Detect and Remove the Loop in Linked List\n",
    "#### Floyd’s Cycle Detection Algorithm (Tortoise and Hare)"
   ]
  },
  {
   "cell_type": "code",
   "execution_count": 33,
   "id": "adfa4a07",
   "metadata": {},
   "outputs": [],
   "source": [
    "def Detect_Loop(head):\n",
    "    fast_p = head\n",
    "    slow_p = head \n",
    "    while fast_p is not None and fast_p.next!=None:\n",
    "        slow_p = slow_p.next\n",
    "        fast_p = fast_p.next.next\n",
    "        if slow_p==fast_p:\n",
    "            return True\n",
    "\n",
    "    return False               "
   ]
  },
  {
   "cell_type": "markdown",
   "id": "59518d86",
   "metadata": {},
   "source": [
    "###  Find the Length of the Loop (if present)"
   ]
  },
  {
   "cell_type": "code",
   "execution_count": 34,
   "id": "5b095b05",
   "metadata": {},
   "outputs": [],
   "source": [
    "def loopLength(head):\n",
    "    slow = fast = head\n",
    "    while fast and fast.next:\n",
    "        slow = slow.next\n",
    "        fast = fast.next.next\n",
    "        if slow == fast:\n",
    "            # Loop exists, now measure its length\n",
    "            count = 1\n",
    "            temp = slow.next\n",
    "            while temp != slow:\n",
    "                count += 1\n",
    "                temp = temp.next\n",
    "            return count\n",
    "    return 0  # No loop\n"
   ]
  },
  {
   "cell_type": "markdown",
   "id": "f9a69eab",
   "metadata": {},
   "source": [
    "### 3. Find the First Node of the Loop"
   ]
  },
  {
   "cell_type": "code",
   "execution_count": 43,
   "id": "5c02fde8",
   "metadata": {},
   "outputs": [],
   "source": [
    "def findStartOfLoop(head):\n",
    "    slow = fast = head\n",
    "     # Phase 1: Detect cycle\n",
    "    while fast and fast.next:\n",
    "        slow = slow.next\n",
    "        fast = fast.next.next\n",
    "        if slow == fast:\n",
    "             # Phase 2: Find the start of the cycle\n",
    "            # Move one pointer to head, keep the other at meeting point\n",
    "            slow = head\n",
    "            while slow != fast:\n",
    "                slow = slow.next\n",
    "                fast = fast.next\n",
    "            return slow  # First node of the loop\n",
    "    return None #NO Cycle    \n"
   ]
  },
  {
   "cell_type": "code",
   "execution_count": 40,
   "id": "3d0568c5",
   "metadata": {},
   "outputs": [
    {
     "name": "stdout",
     "output_type": "stream",
     "text": [
      "Loop Detected: True\n",
      "Loop Length: 4\n",
      "Loop Starts at: 3\n"
     ]
    }
   ],
   "source": [
    "class ListNode:\n",
    "    def __init__(self, val):\n",
    "        self.val = val\n",
    "        self.next = None\n",
    "\n",
    "# Create nodes\n",
    "nodes = [ListNode(i) for i in range(1, 7)]\n",
    "for i in range(5):\n",
    "    nodes[i].next = nodes[i+1]\n",
    "nodes[5].next = nodes[2]  # Loop: 6 → 3\n",
    "\n",
    "head = nodes[0]\n",
    "\n",
    "print(\"Loop Detected:\", Detect_Loop(head))               # True\n",
    "print(\"Loop Length:\", loopLength(head))               # 4\n",
    "print(\"Loop Starts at:\", findStartOfLoop(head).val)   # 3\n"
   ]
  },
  {
   "cell_type": "markdown",
   "id": "dad4beed",
   "metadata": {},
   "source": [
    "<!-- 1 → 2 → 3 → 4 → 5 → 6\n",
    "            ↑       ↓\n",
    "            ←←←←←←←← -->\n"
   ]
  },
  {
   "cell_type": "code",
   "execution_count": 41,
   "id": "6d7f4e73",
   "metadata": {},
   "outputs": [],
   "source": [
    "# 1 → 2 → 3 → 4 → 5 → 6\n",
    "#           ↑         ↓\n",
    "#           ←←←←←←←←←←\n"
   ]
  }
 ],
 "metadata": {
  "kernelspec": {
   "display_name": "base",
   "language": "python",
   "name": "python3"
  },
  "language_info": {
   "codemirror_mode": {
    "name": "ipython",
    "version": 3
   },
   "file_extension": ".py",
   "mimetype": "text/x-python",
   "name": "python",
   "nbconvert_exporter": "python",
   "pygments_lexer": "ipython3",
   "version": "3.12.7"
  }
 },
 "nbformat": 4,
 "nbformat_minor": 5
}
