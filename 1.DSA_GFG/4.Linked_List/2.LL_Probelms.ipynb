{
 "cells": [
  {
   "cell_type": "code",
   "execution_count": 29,
   "id": "812a4b3c",
   "metadata": {},
   "outputs": [],
   "source": [
    "#Create a Node in LL\n",
    "class Node:\n",
    "    def __init__(self,key):\n",
    "        self.key = key \n",
    "        self.next = None\n",
    "\n",
    "##Add the nodes \n",
    "temp1 = Node(10)\n",
    "temp2 = Node(20)\n",
    "temp3 = Node(30)\n",
    "temp1.next = temp2\n",
    "temp2.next = temp3\n",
    "head = temp1"
   ]
  },
  {
   "cell_type": "code",
   "execution_count": 30,
   "id": "0921f860",
   "metadata": {},
   "outputs": [
    {
     "name": "stdout",
     "output_type": "stream",
     "text": [
      "10\n",
      "20\n",
      "30\n"
     ]
    }
   ],
   "source": [
    "#Print the Keys\n",
    "print(head.key)\n",
    "print(head.next.key)\n",
    "print(head.next.next.key)\n"
   ]
  },
  {
   "cell_type": "code",
   "execution_count": null,
   "id": "47cdb0cf",
   "metadata": {},
   "outputs": [],
   "source": [
    "### Print the LL\n",
    "def print_LL(head):\n",
    "    print(head.data)\n",
    "    head = head.next "
   ]
  },
  {
   "cell_type": "markdown",
   "id": "3944d62f",
   "metadata": {},
   "source": [
    "### DElete Middle of the LL"
   ]
  },
  {
   "cell_type": "code",
   "execution_count": null,
   "id": "fbffcbb2",
   "metadata": {},
   "outputs": [],
   "source": [
    "def deleteMiddle(self, head):\n",
    "        temp = head\n",
    "        if temp is None or temp.next is None:\n",
    "            return None\n",
    "        cnt = 0\n",
    "        while temp!=None:\n",
    "            temp = temp.next\n",
    "            cnt +=1\n",
    "        # Now\n",
    "        res = (cnt//2)\n",
    "        #Now Traverse to the count\n",
    "        temp2 = head\n",
    "        while temp2!=None:\n",
    "            res = res - 1\n",
    "            if (res==0):\n",
    "                middle = temp2.next\n",
    "                temp2.next = middle.next\n",
    "                break\n",
    "            temp2 = temp2.next    \n",
    "\n",
    "        return head  \n",
    "\n",
    "\n",
    "## Call the Function\n",
    "temp = deleteMiddle(head)\n",
    "\n"
   ]
  },
  {
   "cell_type": "code",
   "execution_count": null,
   "id": "2cf7f417",
   "metadata": {},
   "outputs": [],
   "source": []
  },
  {
   "cell_type": "code",
   "execution_count": null,
   "id": "b81a232e",
   "metadata": {},
   "outputs": [],
   "source": []
  },
  {
   "cell_type": "markdown",
   "id": "4d4d4f28",
   "metadata": {},
   "source": [
    "### Detect and Remove the Loop in Linked List\n",
    "#### Floyd’s Cycle Detection Algorithm (Tortoise and Hare)"
   ]
  },
  {
   "cell_type": "code",
   "execution_count": 31,
   "id": "adfa4a07",
   "metadata": {},
   "outputs": [],
   "source": [
    "def Detect_Loop(head):\n",
    "    fast_p = head\n",
    "    slow_p = head \n",
    "    while fast_p is not None and fast_p.next!=None:\n",
    "        slow_p = slow_p.next\n",
    "        fast_p = fast_p.next.next\n",
    "        if slow_p==fast_p:\n",
    "            return True\n",
    "\n",
    "    return False               "
   ]
  },
  {
   "cell_type": "markdown",
   "id": "59518d86",
   "metadata": {},
   "source": [
    "###  Find the Length of the Loop (if present)"
   ]
  },
  {
   "cell_type": "code",
   "execution_count": 32,
   "id": "5b095b05",
   "metadata": {},
   "outputs": [],
   "source": [
    "def loopLength(head):\n",
    "    slow = fast = head\n",
    "    while fast and fast.next:\n",
    "        slow = slow.next\n",
    "        fast = fast.next.next\n",
    "        if slow == fast:\n",
    "            # Loop exists, now measure its length\n",
    "            count = 1\n",
    "            temp = slow.next\n",
    "            while temp != slow:\n",
    "                count += 1\n",
    "                temp = temp.next\n",
    "            return count\n",
    "    return 0  # No loop\n"
   ]
  },
  {
   "cell_type": "markdown",
   "id": "f9a69eab",
   "metadata": {},
   "source": [
    "### 3. Find the First Node of the Loop"
   ]
  },
  {
   "cell_type": "code",
   "execution_count": 36,
   "id": "5c02fde8",
   "metadata": {},
   "outputs": [],
   "source": [
    "def findStartOfLoop(head):\n",
    "    slow = fast = head\n",
    "    while fast and fast.next:\n",
    "        slow = slow.next\n",
    "        fast = fast.next.next\n",
    "        if slow == fast:\n",
    "            break\n",
    "    else:\n",
    "        return None   # ← this else belongs to the while, not an if\n",
    "\n",
    "    # Move one pointer to head, keep the other at meeting point\n",
    "    slow = head\n",
    "    while slow != fast:\n",
    "        slow = slow.next\n",
    "        fast = fast.next\n",
    "    return slow  # First node of the loop\n"
   ]
  },
  {
   "cell_type": "code",
   "execution_count": 37,
   "id": "3d0568c5",
   "metadata": {},
   "outputs": [
    {
     "name": "stdout",
     "output_type": "stream",
     "text": [
      "Loop Detected: True\n",
      "Loop Length: 4\n",
      "Loop Starts at: 3\n"
     ]
    }
   ],
   "source": [
    "class ListNode:\n",
    "    def __init__(self, val):\n",
    "        self.val = val\n",
    "        self.next = None\n",
    "\n",
    "# Create nodes\n",
    "nodes = [ListNode(i) for i in range(1, 7)]\n",
    "for i in range(5):\n",
    "    nodes[i].next = nodes[i+1]\n",
    "nodes[5].next = nodes[2]  # Loop: 6 → 3\n",
    "\n",
    "head = nodes[0]\n",
    "\n",
    "print(\"Loop Detected:\", hasCycle(head))               # True\n",
    "print(\"Loop Length:\", loopLength(head))               # 4\n",
    "print(\"Loop Starts at:\", findStartOfLoop(head).val)   # 3\n"
   ]
  },
  {
   "cell_type": "markdown",
   "id": "dad4beed",
   "metadata": {},
   "source": [
    "<!-- 1 → 2 → 3 → 4 → 5 → 6\n",
    "            ↑       ↓\n",
    "            ←←←←←←←← -->\n"
   ]
  },
  {
   "cell_type": "code",
   "execution_count": 38,
   "id": "6d7f4e73",
   "metadata": {},
   "outputs": [],
   "source": [
    "# 1 → 2 → 3 → 4 → 5 → 6\n",
    "#           ↑         ↓\n",
    "#           ←←←←←←←←←←\n"
   ]
  }
 ],
 "metadata": {
  "kernelspec": {
   "display_name": "base",
   "language": "python",
   "name": "python3"
  },
  "language_info": {
   "codemirror_mode": {
    "name": "ipython",
    "version": 3
   },
   "file_extension": ".py",
   "mimetype": "text/x-python",
   "name": "python",
   "nbconvert_exporter": "python",
   "pygments_lexer": "ipython3",
   "version": "3.12.7"
  }
 },
 "nbformat": 4,
 "nbformat_minor": 5
}
