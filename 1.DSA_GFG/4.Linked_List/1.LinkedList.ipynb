{
 "cells": [
  {
   "cell_type": "code",
   "execution_count": null,
   "id": "1a0d882a",
   "metadata": {},
   "outputs": [],
   "source": [
    "### Linked List"
   ]
  },
  {
   "cell_type": "code",
   "execution_count": 15,
   "id": "ee958f2b",
   "metadata": {},
   "outputs": [],
   "source": [
    "#Create a Node in LL\n",
    "class Node:\n",
    "    def __init__(self,key):\n",
    "        self.key = key \n",
    "        self.next = None\n",
    "\n",
    "##Add the nodes \n",
    "temp1 = Node(10)\n",
    "temp2 = Node(20)\n",
    "temp3 = Node(30)\n",
    "temp1.next = temp2\n",
    "temp2.next = temp3\n",
    "head = temp1"
   ]
  },
  {
   "cell_type": "code",
   "execution_count": 22,
   "id": "20b5c1d5",
   "metadata": {},
   "outputs": [
    {
     "name": "stdout",
     "output_type": "stream",
     "text": [
      "10\n",
      "20\n",
      "30\n"
     ]
    }
   ],
   "source": [
    "#Print the Keys\n",
    "print(head.key)\n",
    "print(head.next.key)\n",
    "print(head.next.next.key)\n"
   ]
  },
  {
   "cell_type": "markdown",
   "id": "89612129",
   "metadata": {},
   "source": [
    "## Travesing the LL"
   ]
  },
  {
   "cell_type": "code",
   "execution_count": 23,
   "id": "94620c65",
   "metadata": {},
   "outputs": [
    {
     "name": "stdout",
     "output_type": "stream",
     "text": [
      "10\n",
      "20\n",
      "30\n"
     ]
    }
   ],
   "source": [
    "def Print_LL(head):\n",
    "    temp = head #Take the temp reference\n",
    "    while temp!=None:\n",
    "        print(temp.key)\n",
    "        temp = temp.next\n",
    "\n",
    "#Call the Print_LL\n",
    "Print_LL(head)        "
   ]
  },
  {
   "cell_type": "markdown",
   "id": "81dfb09d",
   "metadata": {},
   "source": [
    "### search in the LL"
   ]
  },
  {
   "cell_type": "code",
   "execution_count": null,
   "id": "7b9cf249",
   "metadata": {},
   "outputs": [
    {
     "name": "stdout",
     "output_type": "stream",
     "text": [
      "Key Found:- 10\n",
      "The Key found at the:-1\n",
      "----------------------------------------\n",
      "-1 Key not found\n"
     ]
    }
   ],
   "source": [
    "def Search_in_LL(head,x):\n",
    "    if head == None:\n",
    "        return -1\n",
    "    temp = head #Take the temp reference\n",
    "    pos = 1 #to keep the count of it\n",
    "    while temp!=None:\n",
    "        if temp.key == x:\n",
    "            print(\"Key Found:-\",temp.key)\n",
    "            return f\"The Key found at the:-{pos}\"\n",
    "        pos+=1\n",
    "        temp = temp.next\n",
    "    return \"-1 Key not found\" #if the key was mot found\n",
    "\n",
    "#Call the Print_LL\n",
    "print(Search_in_LL(head,10)) \n",
    "print('--'*20)    \n",
    "#Call the Print_LL\n",
    "print(Search_in_LL(head,1))   "
   ]
  },
  {
   "cell_type": "code",
   "execution_count": null,
   "id": "e4ab9a10",
   "metadata": {},
   "outputs": [],
   "source": []
  }
 ],
 "metadata": {
  "kernelspec": {
   "display_name": "base",
   "language": "python",
   "name": "python3"
  },
  "language_info": {
   "codemirror_mode": {
    "name": "ipython",
    "version": 3
   },
   "file_extension": ".py",
   "mimetype": "text/x-python",
   "name": "python",
   "nbconvert_exporter": "python",
   "pygments_lexer": "ipython3",
   "version": "3.12.7"
  }
 },
 "nbformat": 4,
 "nbformat_minor": 5
}
