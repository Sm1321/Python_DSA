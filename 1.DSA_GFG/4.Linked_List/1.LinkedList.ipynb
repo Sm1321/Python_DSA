{
 "cells": [
  {
   "cell_type": "code",
   "execution_count": 24,
   "id": "1a0d882a",
   "metadata": {},
   "outputs": [],
   "source": [
    "### Linked List"
   ]
  },
  {
   "cell_type": "code",
   "execution_count": 25,
   "id": "ee958f2b",
   "metadata": {},
   "outputs": [],
   "source": [
    "#Create a Node in LL\n",
    "class Node:\n",
    "    def __init__(self,key):\n",
    "        self.key = key \n",
    "        self.next = None\n",
    "\n",
    "##Add the nodes \n",
    "temp1 = Node(10)\n",
    "temp2 = Node(20)\n",
    "temp3 = Node(30)\n",
    "temp1.next = temp2\n",
    "temp2.next = temp3\n",
    "head = temp1"
   ]
  },
  {
   "cell_type": "code",
   "execution_count": 26,
   "id": "20b5c1d5",
   "metadata": {},
   "outputs": [
    {
     "name": "stdout",
     "output_type": "stream",
     "text": [
      "10\n",
      "20\n",
      "30\n"
     ]
    }
   ],
   "source": [
    "#Print the Keys\n",
    "print(head.key)\n",
    "print(head.next.key)\n",
    "print(head.next.next.key)\n"
   ]
  },
  {
   "cell_type": "markdown",
   "id": "89612129",
   "metadata": {},
   "source": [
    "## Travesing the LL"
   ]
  },
  {
   "cell_type": "code",
   "execution_count": 27,
   "id": "94620c65",
   "metadata": {},
   "outputs": [
    {
     "name": "stdout",
     "output_type": "stream",
     "text": [
      "10\n",
      "20\n",
      "30\n"
     ]
    }
   ],
   "source": [
    "def Print_LL(head):\n",
    "    temp = head #Take the temp reference\n",
    "    while temp!=None:\n",
    "        print(temp.key)\n",
    "        temp = temp.next\n",
    "\n",
    "#Call the Print_LL\n",
    "Print_LL(head)        "
   ]
  },
  {
   "cell_type": "markdown",
   "id": "81dfb09d",
   "metadata": {},
   "source": [
    "### search in the LL"
   ]
  },
  {
   "cell_type": "code",
   "execution_count": 28,
   "id": "7b9cf249",
   "metadata": {},
   "outputs": [
    {
     "name": "stdout",
     "output_type": "stream",
     "text": [
      "Key Found:- 10\n",
      "The Key found at the:-1\n",
      "----------------------------------------\n",
      "-1 Key not found\n"
     ]
    }
   ],
   "source": [
    "def Search_in_LL(head,x):\n",
    "    if head == None:\n",
    "        return -1\n",
    "    temp = head #Take the temp reference\n",
    "    pos = 1 #to keep the count of it\n",
    "    while temp!=None:\n",
    "        if temp.key == x:\n",
    "            print(\"Key Found:-\",temp.key)\n",
    "            return f\"The Key found at the:-{pos}\"\n",
    "        pos+=1\n",
    "        temp = temp.next\n",
    "    return \"-1 Key not found\" #if the key was mot found\n",
    "\n",
    "#Call the Print_LL\n",
    "print(Search_in_LL(head,10)) \n",
    "print('--'*20)    \n",
    "#Call the Print_LL\n",
    "print(Search_in_LL(head,1))   "
   ]
  },
  {
   "cell_type": "markdown",
   "id": "e4ab9a10",
   "metadata": {},
   "source": [
    "### Insert at Beginging"
   ]
  },
  {
   "cell_type": "code",
   "execution_count": 29,
   "id": "022d934a",
   "metadata": {},
   "outputs": [
    {
     "name": "stdout",
     "output_type": "stream",
     "text": [
      "9\n",
      "10\n",
      "20\n",
      "30\n"
     ]
    }
   ],
   "source": [
    "def Insert_at_begin(head,key):\n",
    "    temp = Node(key)\n",
    "    temp.next = head\n",
    "    return  temp\n",
    "\n",
    "##Insert at begin:-\n",
    "head = Insert_at_begin(head,9)\n",
    "#Call the Print_LL\n",
    "Print_LL(head)  "
   ]
  },
  {
   "cell_type": "markdown",
   "id": "cfdddaae",
   "metadata": {},
   "source": [
    "## Insert at End"
   ]
  },
  {
   "cell_type": "code",
   "execution_count": 30,
   "id": "d12b3d02",
   "metadata": {},
   "outputs": [
    {
     "name": "stdout",
     "output_type": "stream",
     "text": [
      "Linked List:\n",
      "9\n",
      "10\n",
      "20\n",
      "30\n",
      "40\n"
     ]
    }
   ],
   "source": [
    "def Insert_at_End(head, key):\n",
    "    # If the LL is empty\n",
    "    if head is None:\n",
    "        head = Node(key)\n",
    "        return head\n",
    "\n",
    "    # Traverse to the end\n",
    "    trav = head\n",
    "    while trav.next is not None:\n",
    "        trav = trav.next\n",
    "\n",
    "    # Add new node at the end\n",
    "    trav.next = Node(key)\n",
    "    return head\n",
    "\n",
    "# Insert at end\n",
    "head = Insert_at_End(head, 40)\n",
    "# Print the Linked List\n",
    "print(\"Linked List:\")\n",
    "Print_LL(head) "
   ]
  },
  {
   "cell_type": "markdown",
   "id": "47b60404",
   "metadata": {},
   "source": [
    "## Insert at the Given position"
   ]
  },
  {
   "cell_type": "code",
   "execution_count": 31,
   "id": "56c5b467",
   "metadata": {},
   "outputs": [
    {
     "name": "stdout",
     "output_type": "stream",
     "text": [
      "Linked List:\n",
      "9\n",
      "2\n",
      "10\n",
      "20\n",
      "30\n",
      "40\n"
     ]
    }
   ],
   "source": [
    "def Insert_at_Position(head, pos, key):\n",
    "    # Insert at head (position 1)\n",
    "    if pos == 1:\n",
    "        temp = Node(key)\n",
    "        temp.next = head\n",
    "        return temp\n",
    "\n",
    "    # Traverse to the (pos-1)th node\n",
    "    trav = head\n",
    "    count = 1\n",
    "    while trav is not None and count < pos - 1:\n",
    "        trav = trav.next\n",
    "        count += 1\n",
    "\n",
    "    # If position is out of bounds\n",
    "    if trav is None:\n",
    "        print(\"Position out of bounds\")\n",
    "        return head\n",
    "\n",
    "    # Insert the new node\n",
    "    tempNode = Node(key)\n",
    "    tempNode.next = trav.next\n",
    "    trav.next = tempNode\n",
    "    return head\n",
    "\n",
    "\n",
    "# Insert at end\n",
    "head = Insert_at_Position(head,2, 2)\n",
    "# Print the Linked List\n",
    "print(\"Linked List:\")\n",
    "Print_LL(head) "
   ]
  },
  {
   "cell_type": "markdown",
   "id": "bbb8fa04",
   "metadata": {},
   "source": [
    "## Delete First Node of LL"
   ]
  },
  {
   "cell_type": "code",
   "execution_count": 32,
   "id": "e3f4d2c3",
   "metadata": {},
   "outputs": [
    {
     "name": "stdout",
     "output_type": "stream",
     "text": [
      "Linked List:\n",
      "2\n",
      "10\n",
      "20\n",
      "30\n",
      "40\n"
     ]
    }
   ],
   "source": [
    "def Delete_FirstNode_LL(head):\n",
    "    # If the list is empty\n",
    "    if head is None:\n",
    "        print(\"List is already empty\")\n",
    "        return None\n",
    "\n",
    "    # Move head to next node\n",
    "    temp = head.next\n",
    "    head.next = None  # Unlink for clarity (optional in Python)\n",
    "    return temp\n",
    "\n",
    "\n",
    "#Call the Delete_FirstNode_LL\n",
    "head = Delete_FirstNode_LL(head)\n",
    "# Print the Linked List\n",
    "print(\"Linked List:\")\n",
    "Print_LL(head) \n",
    "    "
   ]
  },
  {
   "cell_type": "markdown",
   "id": "c8fca434",
   "metadata": {},
   "source": [
    "### Delete Node at Last"
   ]
  },
  {
   "cell_type": "code",
   "execution_count": 33,
   "id": "d5f4ceac",
   "metadata": {},
   "outputs": [
    {
     "name": "stdout",
     "output_type": "stream",
     "text": [
      "Linked List:\n",
      "2\n",
      "10\n",
      "20\n",
      "30\n"
     ]
    }
   ],
   "source": [
    "def Delete_LastNode_LL(head):\n",
    "    # If the list is empty\n",
    "    if head is None:\n",
    "        print(\"List is already empty\")\n",
    "        return None\n",
    "    # If the list has only one node\n",
    "    if head.next is None:\n",
    "        return None\n",
    "    #Take the Extra Nodes\n",
    "    temp = head \n",
    "    #traverse to last second Element\n",
    "    while temp.next.next is not None:\n",
    "        prev = temp\n",
    "        temp = temp.next\n",
    "    #Keep the Null at the LAst second\n",
    "    temp.next = None\n",
    "    return head\n",
    "\n",
    "\n",
    "#Call the Delete_FirstNode_LL\n",
    "head =Delete_LastNode_LL(head)\n",
    "# Print the Linked List\n",
    "print(\"Linked List:\")\n",
    "Print_LL(head) \n",
    "    "
   ]
  },
  {
   "cell_type": "markdown",
   "id": "8b4aa600",
   "metadata": {},
   "source": [
    "### Delete the Node where teh Pointer is given "
   ]
  },
  {
   "cell_type": "code",
   "execution_count": 34,
   "id": "e5f7c008",
   "metadata": {},
   "outputs": [
    {
     "name": "stdout",
     "output_type": "stream",
     "text": [
      "Before deletion:\n",
      "10 20 30 40 \n",
      "After deletion:\n",
      "10 30 40 \n"
     ]
    }
   ],
   "source": [
    "class Node:\n",
    "    def __init__(self, k):\n",
    "        self.key = k\n",
    "        self.next = None\n",
    "\n",
    "def printList(head):\n",
    "    curr = head\n",
    "    while curr is not None:\n",
    "        print(curr.key, end=\" \")\n",
    "        curr = curr.next\n",
    "    print()\n",
    "\n",
    "def deleteNode(ptr):\n",
    "    if ptr is None or ptr.next is None:\n",
    "        print(\"Can't delete the last node or a null reference\")\n",
    "        return\n",
    "    temp = ptr.next\n",
    "    ptr.key = temp.key\n",
    "    ptr.next = temp.next\n",
    "\n",
    "# Build Linked List: 10 → 20 → 30 → 40\n",
    "head = Node(10)\n",
    "head.next = Node(20)\n",
    "head.next.next = Node(30)\n",
    "head.next.next.next = Node(40)\n",
    "\n",
    "print(\"Before deletion:\")\n",
    "printList(head)\n",
    "\n",
    "# Delete node with value 20 (pass reference to node containing 20)\n",
    "deleteNode(head.next)  # deletes node with value 20\n",
    "\n",
    "print(\"After deletion:\")\n",
    "printList(head)\n"
   ]
  },
  {
   "cell_type": "markdown",
   "id": "d0e33acb",
   "metadata": {},
   "source": [
    "## Sorted Insert in the LL"
   ]
  },
  {
   "cell_type": "code",
   "execution_count": 35,
   "id": "8e8fe573",
   "metadata": {},
   "outputs": [
    {
     "name": "stdout",
     "output_type": "stream",
     "text": [
      "Linked List:\n",
      "10\n",
      "15\n",
      "30\n",
      "40\n"
     ]
    }
   ],
   "source": [
    "def Sorted_Insert_LL(head,key):\n",
    "    #New node\n",
    "    temp_newNode = Node(key)\n",
    "    ## Case 1: Insert at beginning or list is empty\n",
    "    if head is None or key < head.key:\n",
    "        temp_newNode.next = head        \n",
    "        return temp_newNode\n",
    "    \n",
    "    #Check if the More the 1 Node\n",
    "    temp = head\n",
    "    prev = None\n",
    "    while temp is not None and temp.key < key:\n",
    "        prev = temp  #Keep the Note of prev pointer \n",
    "        temp = temp.next\n",
    "    #Check if prev is LAst pointer\n",
    "    if prev is None:\n",
    "        prev.next = Node(key)\n",
    "    else:\n",
    "        temp_newNode.next = prev.next #Link to next of  \n",
    "        prev.next = temp_newNode #Link to the prev ptr \n",
    "    return head \n",
    "\n",
    "#Call the SortedInsrtLL\n",
    "head = Sorted_Insert_LL(head,15)\n",
    "# Print the Linked List\n",
    "print(\"Linked List:\")\n",
    "Print_LL(head) \n",
    "\n",
    "            "
   ]
  },
  {
   "cell_type": "markdown",
   "id": "ef5751b9",
   "metadata": {},
   "source": [
    "### Middle of Linked List"
   ]
  },
  {
   "cell_type": "code",
   "execution_count": 36,
   "id": "9ae8656b",
   "metadata": {},
   "outputs": [
    {
     "name": "stdout",
     "output_type": "stream",
     "text": [
      "30\n"
     ]
    }
   ],
   "source": [
    "def print_Middle(head):\n",
    "    if head is None:\n",
    "        return None\n",
    "    if head.next is None:\n",
    "        return head\n",
    "    slow_ptr = head\n",
    "    fast_ptr = head \n",
    "    while fast_ptr is not None and fast_ptr.next is not None:\n",
    "        slow_ptr = slow_ptr.next\n",
    "        fast_ptr = fast_ptr.next.next\n",
    "    return(slow_ptr.key)\n",
    "\n",
    "#Call the fun\n",
    "print(print_Middle(head))     "
   ]
  },
  {
   "cell_type": "markdown",
   "id": "4a161176",
   "metadata": {},
   "source": [
    "### Nth Node From End of the Linked List"
   ]
  },
  {
   "cell_type": "code",
   "execution_count": 37,
   "id": "3f1e0e9d",
   "metadata": {},
   "outputs": [
    {
     "name": "stdout",
     "output_type": "stream",
     "text": [
      "10 10 20 \n",
      "20\n"
     ]
    }
   ],
   "source": [
    "#Method 1 :- Uisng the Length of the Linked List\n",
    "def printNthFromEnd(head,n):\n",
    "    len = 0 \n",
    "    curr = head\n",
    "    while curr:\n",
    "        curr=curr.next\n",
    "        len+=1\n",
    "    if len<n :\n",
    "        return\n",
    "    curr = head\n",
    "    for i in range (1,len-n+1):\n",
    "        curr = curr.next\n",
    "    print(curr.key)\n",
    "        \n",
    "    \n",
    "            \n",
    "head = Node(10)\n",
    "head.next = Node(10)\n",
    "head.next.next = Node(20)\n",
    "\n",
    "\n",
    "printList(head)\n",
    "printNthFromEnd(head,1)"
   ]
  },
  {
   "cell_type": "markdown",
   "id": "621d4cae",
   "metadata": {},
   "source": [
    "### Method 2 :-\n",
    "- Find the head of the LL"
   ]
  },
  {
   "cell_type": "code",
   "execution_count": 38,
   "id": "1638eb52",
   "metadata": {},
   "outputs": [
    {
     "name": "stdout",
     "output_type": "stream",
     "text": [
      "10 10 20 30 \n",
      "20\n",
      "30\n"
     ]
    }
   ],
   "source": [
    "def printNthFromEnd(head,n):\n",
    "    if head == None :\n",
    "        return\n",
    "    first = head #start from the head of LL\n",
    "    ## Travserse to the Len\n",
    "    for i in range (n):\n",
    "        if first == None:\n",
    "            return\n",
    "        first = first.next #Move the first pointer upto the len n\n",
    "    second = head #Start the second pointer from the head\n",
    "    while first!= None:\n",
    "        second = second.next\n",
    "        first = first.next\n",
    "    print(second.key)\n",
    "        \n",
    "        \n",
    "    \n",
    "            \n",
    "head = Node(10)\n",
    "head.next = Node(10)\n",
    "head.next.next = Node(20)\n",
    "head.next.next.next = Node(30)\n",
    "\n",
    "\n",
    "printList(head)\n",
    "printNthFromEnd(head,2) #LAst second\n",
    "printNthFromEnd(head,1) ##LAst one"
   ]
  },
  {
   "cell_type": "markdown",
   "id": "c92a6eae",
   "metadata": {},
   "source": [
    "### Reverse  a LinkedList"
   ]
  },
  {
   "cell_type": "code",
   "execution_count": 39,
   "id": "104317cc",
   "metadata": {},
   "outputs": [
    {
     "name": "stdout",
     "output_type": "stream",
     "text": [
      "Linked List:\n",
      "30\n",
      "20\n",
      "10\n",
      "10\n"
     ]
    }
   ],
   "source": [
    "def Reverse_LL(head):\n",
    "    curr = head \n",
    "    # Return Node if it is NuLL\n",
    "    if curr is None:\n",
    "        return None \n",
    "    #If it has more than 1\n",
    "    curr = head \n",
    "    prev = None\n",
    "    while curr is not None:\n",
    "        nxt = curr.next #Store the next Address\n",
    "        curr.next  = prev\n",
    "        prev = curr \n",
    "        curr  = nxt \n",
    "    return prev\n",
    "\n",
    "\n",
    "##Call the Reverse the LL\n",
    "head = Reverse_LL(head)\n",
    "print(\"Linked List:\")\n",
    "Print_LL(head)\n",
    "\n",
    "\n",
    "    "
   ]
  },
  {
   "cell_type": "markdown",
   "id": "8c960731",
   "metadata": {},
   "source": [
    "### Recusive LL"
   ]
  },
  {
   "cell_type": "markdown",
   "id": "2e43e5c3",
   "metadata": {},
   "source": []
  },
  {
   "cell_type": "code",
   "execution_count": 40,
   "id": "568eca90",
   "metadata": {},
   "outputs": [],
   "source": [
    "def reverse_recursive(head):\n",
    "    # Base case: empty or single node\n",
    "    if head is None or head.next is None:\n",
    "        return head\n",
    "\n",
    "    # Reverse rest of the list\n",
    "    new_head = reverse_recursive(head.next)\n",
    "\n",
    "    # Use a temporary pointer to avoid chaining\n",
    "    next_node = head.next\n",
    "    next_node.next = head\n",
    "    head.next = None\n",
    "\n",
    "    return new_head\n"
   ]
  },
  {
   "cell_type": "code",
   "execution_count": 41,
   "id": "a0cf5a92",
   "metadata": {},
   "outputs": [
    {
     "name": "stdout",
     "output_type": "stream",
     "text": [
      "Reversed List:\n",
      "Linked List:\n",
      "10\n",
      "10\n",
      "20\n",
      "30\n"
     ]
    }
   ],
   "source": [
    "# Reverse\n",
    "head = reverse_recursive(head)\n",
    "\n",
    "print(\"Reversed List:\")\n",
    "print(\"Linked List:\")\n",
    "Print_LL(head)"
   ]
  }
 ],
 "metadata": {
  "kernelspec": {
   "display_name": "base",
   "language": "python",
   "name": "python3"
  },
  "language_info": {
   "codemirror_mode": {
    "name": "ipython",
    "version": 3
   },
   "file_extension": ".py",
   "mimetype": "text/x-python",
   "name": "python",
   "nbconvert_exporter": "python",
   "pygments_lexer": "ipython3",
   "version": "3.12.7"
  }
 },
 "nbformat": 4,
 "nbformat_minor": 5
}
