{
 "cells": [
  {
   "cell_type": "markdown",
   "metadata": {},
   "source": [
    "### Non Repeating Character\n",
    "\n",
    "##### Given a string s consisting of lowercase Latin Letters. Return the first non-repeating character in s. If there is no non-repeating character, return '$'.\n",
    "##### Note: When you return '$' driver code will output -1.\n",
    "\n",
    "#### Examples:\n",
    "- Input: s = \"geeksforgeeks\"\n",
    "- Output: 'f'\n",
    "- Explanation: In the given string, 'f' is the first character in the string which does not repeat.\n",
    "\n",
    "#### Examples:\n",
    "- Input: s = \"racecar\"\n",
    "- Output: 'e'\n",
    "- Explanation: In the given string, 'e' is the only character in the string which does not repeat.\n",
    "\n",
    "#### Examples:\n",
    "- Input: s = \"aabbccc\"\n",
    "- Output: -1\n",
    "- Explanation: All the characters in the given string are repeating."
   ]
  },
  {
   "cell_type": "code",
   "execution_count": 1,
   "metadata": {},
   "outputs": [
    {
     "name": "stdout",
     "output_type": "stream",
     "text": [
      "f\n",
      "e\n",
      "$\n"
     ]
    }
   ],
   "source": [
    "def firstNonRepeatingCharacter(s):\n",
    "    freq = {}  # Dictionary to store character frequencies\n",
    "\n",
    "    # Count occurrences of each character\n",
    "    for char in s:\n",
    "        if char in freq:\n",
    "            freq[char] += 1\n",
    "        else:\n",
    "            freq[char] = 1\n",
    "\n",
    "    # Find the first non-repeating character\n",
    "    for char in s:\n",
    "        if freq[char] == 1:\n",
    "            return char\n",
    "\n",
    "    return '$'  # If no unique character is found\n",
    "\n",
    "# Example usage:\n",
    "print(firstNonRepeatingCharacter(\"geeksforgeeks\"))  # Output: 'f'\n",
    "print(firstNonRepeatingCharacter(\"racecar\"))        # Output: 'e'\n",
    "print(firstNonRepeatingCharacter(\"aabbccc\"))        # Output: -1\n"
   ]
  }
 ],
 "metadata": {
  "kernelspec": {
   "display_name": "Env1",
   "language": "python",
   "name": "python3"
  },
  "language_info": {
   "codemirror_mode": {
    "name": "ipython",
    "version": 3
   },
   "file_extension": ".py",
   "mimetype": "text/x-python",
   "name": "python",
   "nbconvert_exporter": "python",
   "pygments_lexer": "ipython3",
   "version": "3.11.9"
  }
 },
 "nbformat": 4,
 "nbformat_minor": 2
}
