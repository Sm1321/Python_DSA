{
 "cells": [
  {
   "cell_type": "markdown",
   "metadata": {},
   "source": [
    "## Intersection of two arrays\n",
    "- Array elements are included with Duplicates in It."
   ]
  },
  {
   "cell_type": "code",
   "execution_count": 8,
   "metadata": {},
   "outputs": [
    {
     "name": "stdout",
     "output_type": "stream",
     "text": [
      "Intersection: [2, 3, 4, 5, 6]\n"
     ]
    }
   ],
   "source": [
    "def intersection(a,b,n,m):\n",
    "    i,j,k = 0 , 0 ,0\n",
    "    result = [0 for _ in range(n + m)]\n",
    "    while i < n and j < m :\n",
    "        if a[i] < b[j] :\n",
    "            i+=1\n",
    "        elif a[i] > b[j] :\n",
    "            j+=1\n",
    "        else:\n",
    "            if k!=0 and a[i] == result[k - 1]:\n",
    "                i+=1\n",
    "                j+=1\n",
    "            else:\n",
    "                result[k] = a[i]\n",
    "                i+=1\n",
    "                j+=1\n",
    "                k+=1\n",
    "    print(\"Intersection:\", result[:k])\n",
    "\n",
    "#Example:- \n",
    "a = [1,2,3,4,4,5,6]\n",
    "b = [2,3,4,5,5,6,7]\n",
    "intersection(a,b,len(a),len(b))    "
   ]
  },
  {
   "cell_type": "markdown",
   "metadata": {},
   "source": [
    "### Intersection of Array With distinct elements"
   ]
  },
  {
   "cell_type": "code",
   "execution_count": 9,
   "metadata": {},
   "outputs": [
    {
     "name": "stdout",
     "output_type": "stream",
     "text": [
      "Intersection: [2, 3, 4, 5, 6]\n"
     ]
    }
   ],
   "source": [
    "def intersection(a,b,n,m):\n",
    "    i,j,k = 0 , 0 ,0\n",
    "    result = [0 for _ in range(n + m)]\n",
    "    while i < n and j < m :\n",
    "        if a[i] < b[j] :\n",
    "            i+=1\n",
    "        elif a[i] > b[j] :\n",
    "            j+=1\n",
    "        else:\n",
    "            result[k] = a[i]\n",
    "            i+=1\n",
    "            j+=1\n",
    "            k+=1\n",
    "    print(\"Intersection:\", result[:k])\n",
    "\n",
    "#Example:- \n",
    "a = [1,2,3,4,4,5,6]\n",
    "b = [2,3,4,5,5,6,7]\n",
    "intersection(a,b,len(a),len(b))    "
   ]
  },
  {
   "cell_type": "markdown",
   "metadata": {},
   "source": [
    "- Using the set Method"
   ]
  },
  {
   "cell_type": "code",
   "execution_count": 14,
   "metadata": {},
   "outputs": [
    {
     "data": {
      "text/plain": [
       "(5, [2, 3, 4, 5, 6])"
      ]
     },
     "execution_count": 14,
     "metadata": {},
     "output_type": "execute_result"
    }
   ],
   "source": [
    "def intersection(arr1,m,arr2,n):\n",
    "    inters = set()\n",
    "    for i in range(m):\n",
    "        inters.add(arr1[i])\n",
    "\n",
    "    res = 0\n",
    "    ans = []\n",
    "    for i in range(n):\n",
    "        if arr2[i] in inters:\n",
    "            res+=1\n",
    "            ans.append(arr2[i])\n",
    "            inters.remove(arr2[i])\n",
    "    return res,ans\n",
    "\n",
    "#Example:- \n",
    "a = [1,2,3,4,4,5,6]\n",
    "b = [2,3,4,5,5,6,7]\n",
    "intersection(a,len(a),b,len(b))               "
   ]
  },
  {
   "cell_type": "code",
   "execution_count": null,
   "metadata": {},
   "outputs": [],
   "source": []
  }
 ],
 "metadata": {
  "kernelspec": {
   "display_name": "Env1",
   "language": "python",
   "name": "python3"
  },
  "language_info": {
   "codemirror_mode": {
    "name": "ipython",
    "version": 3
   },
   "file_extension": ".py",
   "mimetype": "text/x-python",
   "name": "python",
   "nbconvert_exporter": "python",
   "pygments_lexer": "ipython3",
   "version": "3.11.9"
  }
 },
 "nbformat": 4,
 "nbformat_minor": 2
}
