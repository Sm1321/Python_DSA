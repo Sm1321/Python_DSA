{
 "cells": [
  {
   "cell_type": "markdown",
   "metadata": {},
   "source": [
    "### Count distinct elements in an array\n",
    "\n",
    "##### Given an unsorted array arr[] of length N, The task is to count all distinct elements in arr[].\n",
    "\n",
    "##### Examples: \n",
    "- Input :   arr[] = {10, 20, 20, 10, 30, 10}\n",
    "- Output : 3\n",
    "- Explanation: There are three distinct elements 10, 20, and 30.\n",
    "\n",
    "- Input :   arr[] = {10, 20, 20, 10, 20}\n",
    "- Output : 2"
   ]
  },
  {
   "cell_type": "markdown",
   "metadata": {},
   "source": [
    "- "
   ]
  },
  {
   "cell_type": "markdown",
   "metadata": {},
   "source": [
    "-  I/p :- l = [10,20,10,30,30,20]\n",
    "- o/p : 3\n",
    "- Because ,  10 ,20,30 are disticnt"
   ]
  },
  {
   "cell_type": "code",
   "execution_count": 2,
   "metadata": {},
   "outputs": [
    {
     "data": {
      "text/plain": [
       "[10, 20, 30]"
      ]
     },
     "execution_count": 2,
     "metadata": {},
     "output_type": "execute_result"
    }
   ],
   "source": [
    "def Count_Distinct(list1):\n",
    "    result_set = set()\n",
    "    for i in range(0,len(list1)):\n",
    "        if list1[i] not in result_set:\n",
    "            result_set.add(list1[i])\n",
    "    return list(result_set)\n",
    "\n",
    "\n",
    "###\n",
    "list1 = [10,20,30,10,20,30,20,30,10]\n",
    "Count_Distinct(list1)"
   ]
  },
  {
   "cell_type": "markdown",
   "metadata": {},
   "source": [
    "- Direct one line code"
   ]
  },
  {
   "cell_type": "code",
   "execution_count": 6,
   "metadata": {},
   "outputs": [
    {
     "data": {
      "text/plain": [
       "[10, 20, 30]"
      ]
     },
     "execution_count": 6,
     "metadata": {},
     "output_type": "execute_result"
    }
   ],
   "source": [
    "def Count_Distinct(list1):\n",
    "    return list(set(list1))\n",
    "\n",
    "###\n",
    "list1 = [10,20,30,10,20,30,20,30,10]\n",
    "Count_Distinct(list1)"
   ]
  },
  {
   "cell_type": "code",
   "execution_count": null,
   "metadata": {},
   "outputs": [],
   "source": []
  }
 ],
 "metadata": {
  "kernelspec": {
   "display_name": "base",
   "language": "python",
   "name": "python3"
  },
  "language_info": {
   "codemirror_mode": {
    "name": "ipython",
    "version": 3
   },
   "file_extension": ".py",
   "mimetype": "text/x-python",
   "name": "python",
   "nbconvert_exporter": "python",
   "pygments_lexer": "ipython3",
   "version": "3.12.7"
  }
 },
 "nbformat": 4,
 "nbformat_minor": 2
}
