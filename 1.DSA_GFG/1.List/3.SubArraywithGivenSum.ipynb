{
 "cells": [
  {
   "cell_type": "markdown",
   "metadata": {},
   "source": [
    "### Subarray with given sum"
   ]
  },
  {
   "cell_type": "code",
   "execution_count": 10,
   "metadata": {},
   "outputs": [
    {
     "name": "stdout",
     "output_type": "stream",
     "text": [
      "1 5 25 28 38 38 -1\n",
      "1 5 5 5 8 17 5 -1\n",
      "2 6 -1\n",
      "10 20 30 -1\n"
     ]
    }
   ],
   "source": [
    "def Subarray_with_Given_Sum(arr,given_sum):\n",
    "    curr = 0\n",
    "    s = 0\n",
    "    e = 0\n",
    "    n = len(arr)\n",
    "    for i in range(0,n):\n",
    "        curr+=arr[i]\n",
    "        print(curr,end =' ')\n",
    "        while(curr > given_sum):\n",
    "            curr-=arr[s]\n",
    "            s = s+1\n",
    "        if (curr == given_sum ):\n",
    "            return True    \n",
    "            #print(curr)   \n",
    "    return -1            \n",
    "\n",
    "##now you can call the function\n",
    "print(Subarray_with_Given_Sum([1,4,20,3,10,5],33))     \n",
    "##ex2\n",
    "print(Subarray_with_Given_Sum([1,4,0,0,3,10,5],7)) \n",
    "##ex2\n",
    "print(Subarray_with_Given_Sum([2,4],3)) \n",
    "##ex2\n",
    "print(Subarray_with_Given_Sum([10,20,30],1)) \n",
    "\n",
    "\n"
   ]
  }
 ],
 "metadata": {
  "kernelspec": {
   "display_name": "Python 3",
   "language": "python",
   "name": "python3"
  },
  "language_info": {
   "codemirror_mode": {
    "name": "ipython",
    "version": 3
   },
   "file_extension": ".py",
   "mimetype": "text/x-python",
   "name": "python",
   "nbconvert_exporter": "python",
   "pygments_lexer": "ipython3",
   "version": "3.12.5"
  }
 },
 "nbformat": 4,
 "nbformat_minor": 2
}
