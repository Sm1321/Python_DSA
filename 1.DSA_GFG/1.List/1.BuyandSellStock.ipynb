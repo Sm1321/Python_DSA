{
 "cells": [
  {
   "cell_type": "markdown",
   "metadata": {},
   "source": [
    "### Buy and sell stock"
   ]
  },
  {
   "cell_type": "markdown",
   "metadata": {},
   "source": []
  },
  {
   "cell_type": "markdown",
   "metadata": {},
   "source": []
  },
  {
   "cell_type": "code",
   "execution_count": 1,
   "metadata": {},
   "outputs": [],
   "source": [
    "import pandas as pd"
   ]
  },
  {
   "cell_type": "code",
   "execution_count": 12,
   "metadata": {},
   "outputs": [
    {
     "name": "stdout",
     "output_type": "stream",
     "text": [
      "13\n",
      "0\n",
      "11\n",
      "20\n"
     ]
    }
   ],
   "source": [
    "def BuyAndSellStock(arr):\n",
    "    n = len(arr)\n",
    "    ans = 0\n",
    "    prev_ele = 0\n",
    "    for i in range(n):\n",
    "        for j in range(i+1,n-1):\n",
    "            if arr[i] < arr[j]:\n",
    "                prev_ele = arr[i] #buy the stock\n",
    "                if arr[j] > arr[j+1]: #conforming that the present ele is greater than next ele\n",
    "                    ans+=arr[j] - arr[i] #the sell the stock\n",
    "                break        \n",
    "    #now handle the end case\n",
    "    if arr[-2] < arr[-1]:\n",
    "        ans+=(arr[-1] - prev_ele)                   \n",
    "    return ans \n",
    "\n",
    "##now you can call the function\n",
    "print(BuyAndSellStock([1,5,3,8,12]))     \n",
    "##ex2\n",
    "print(BuyAndSellStock([30,20,10])) \n",
    "##ex2\n",
    "print(BuyAndSellStock([1,5,3,1,2,8])) \n",
    "##ex2\n",
    "print(BuyAndSellStock([10,20,30])) \n",
    "#This wan't work in all the cases"
   ]
  },
  {
   "cell_type": "markdown",
   "metadata": {},
   "source": [
    "## Efficient Code - O(N)"
   ]
  },
  {
   "cell_type": "code",
   "execution_count": 13,
   "metadata": {},
   "outputs": [
    {
     "name": "stdout",
     "output_type": "stream",
     "text": [
      "13\n",
      "0\n",
      "11\n",
      "20\n"
     ]
    }
   ],
   "source": [
    "def BuyAndSellStockOptimal(arr):\n",
    "    n = len(arr)\n",
    "    total_profit = 0\n",
    "    for i in range(1,n):\n",
    "        if arr[i] > arr[i-1]:\n",
    "            total_profit+=arr[i] - arr[i-1]\n",
    "    return total_profit   \n",
    "\n",
    "##now you can call the function\n",
    "print(BuyAndSellStockOptimal([1,5,3,8,12]))     \n",
    "##ex2\n",
    "print(BuyAndSellStockOptimal([30,20,10])) \n",
    "##ex2\n",
    "print(BuyAndSellStockOptimal([1,5,3,1,2,8])) \n",
    "##ex2\n",
    "print(BuyAndSellStockOptimal([10,20,30])) \n",
    "#This wan't work in all the cases     "
   ]
  },
  {
   "cell_type": "code",
   "execution_count": null,
   "metadata": {},
   "outputs": [],
   "source": []
  }
 ],
 "metadata": {
  "kernelspec": {
   "display_name": "Python 3",
   "language": "python",
   "name": "python3"
  },
  "language_info": {
   "codemirror_mode": {
    "name": "ipython",
    "version": 3
   },
   "file_extension": ".py",
   "mimetype": "text/x-python",
   "name": "python",
   "nbconvert_exporter": "python",
   "pygments_lexer": "ipython3",
   "version": "3.12.5"
  }
 },
 "nbformat": 4,
 "nbformat_minor": 2
}
