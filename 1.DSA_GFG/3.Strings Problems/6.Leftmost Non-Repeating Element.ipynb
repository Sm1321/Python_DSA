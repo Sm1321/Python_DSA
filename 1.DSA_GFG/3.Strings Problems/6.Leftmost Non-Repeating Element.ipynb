{
 "cells": [
  {
   "cell_type": "markdown",
   "metadata": {},
   "source": [
    "#### Leftmost Non-Repeating Element"
   ]
  },
  {
   "cell_type": "markdown",
   "metadata": {},
   "source": [
    "- Given a string, find its first the index Leftmost  non-repeating character \n",
    "\n",
    "- `For example`, if the input string is `“GeeksforGeeks”`, then the output should be `‘f’` and if the input string is `“GeeksQuiz”`, then the output should be `‘G’`. \n",
    "\n"
   ]
  },
  {
   "cell_type": "code",
   "execution_count": null,
   "metadata": {},
   "outputs": [
    {
     "name": "stdout",
     "output_type": "stream",
     "text": [
      "5\n",
      "0\n",
      "0\n",
      "-1\n"
     ]
    }
   ],
   "source": [
    "def NonRep(str1):\n",
    "    freq = [0] * 256\n",
    "    for i in range(len(str1)):\n",
    "        freq[ord(str1[i])]+=1\n",
    "    for i in range(len(str1)):\n",
    "        if freq[ord(str1[i])]==1:\n",
    "            return i \n",
    "    return -1\n",
    "\n",
    "#call the function\n",
    "str1 = \"geeksforgeeks\"\n",
    "print(NonRep(str1))\n",
    "#call the function\n",
    "str1 = \"geeksQuiz\"\n",
    "print(NonRep(str1))                \n",
    "#call the function\n",
    "str1 = \"apple\"\n",
    "print(NonRep(str1))   \n",
    "#call the function\n",
    "str1 = \"abcabc\"\n",
    "print(NonRep(str1))   \n",
    "\n",
    "##This is the O(N) Solaution with two traversal "
   ]
  }
 ],
 "metadata": {
  "kernelspec": {
   "display_name": "base",
   "language": "python",
   "name": "python3"
  },
  "language_info": {
   "codemirror_mode": {
    "name": "ipython",
    "version": 3
   },
   "file_extension": ".py",
   "mimetype": "text/x-python",
   "name": "python",
   "nbconvert_exporter": "python",
   "pygments_lexer": "ipython3",
   "version": "3.12.7"
  }
 },
 "nbformat": 4,
 "nbformat_minor": 2
}
