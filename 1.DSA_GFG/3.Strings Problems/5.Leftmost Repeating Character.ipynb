{
 "cells": [
  {
   "cell_type": "markdown",
   "metadata": {},
   "source": [
    "### Leftmost Repeating Character\n",
    "\n",
    "- We are given a string s, we need to find out index of leftmost characters that is present in given string more than once.\n",
    "If there is no character which is repeating , then we need to print -1.\n",
    "\n",
    "- `For Example:` Let us consider a string: `str=\"abbcc\"`, then our answer will be 1 because character 'b' is the leftmost character which is repeating in given string str."
   ]
  },
  {
   "cell_type": "code",
   "execution_count": null,
   "metadata": {
    "vscode": {
     "languageId": "plaintext"
    }
   },
   "outputs": [],
   "source": []
  }
 ],
 "metadata": {
  "language_info": {
   "name": "python"
  }
 },
 "nbformat": 4,
 "nbformat_minor": 2
}
