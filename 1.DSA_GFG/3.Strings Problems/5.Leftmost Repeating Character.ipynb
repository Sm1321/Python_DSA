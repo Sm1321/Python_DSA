{
 "cells": [
  {
   "cell_type": "markdown",
   "metadata": {},
   "source": [
    "### Leftmost Repeating Character\n",
    "\n",
    "- We are given a string s, we need to find out index of leftmost characters that is present in given string more than once.\n",
    "If there is no character which is repeating , then we need to print -1.\n",
    "\n",
    "- `For Example:` Let us consider a string: `str=\"abbcc\"`, then our answer will be 1 because character 'b' is the leftmost character which is repeating in given string str."
   ]
  },
  {
   "cell_type": "code",
   "execution_count": 1,
   "metadata": {},
   "outputs": [
    {
     "name": "stdout",
     "output_type": "stream",
     "text": [
      "1\n"
     ]
    }
   ],
   "source": [
    "def leftmost(st) :\n",
    "    for i in range(len(st)) :\n",
    "        for j in range(i+1 , len(st)) :\n",
    "            if st[i] == st[j] :\n",
    "                return i \n",
    "            \n",
    "    return -1 \n",
    "    \n",
    "st = \"cabba\"\n",
    "print(leftmost(st))\n",
    "\n",
    "# Output\n",
    "# 1\n",
    "#  Time complexity: O(n2) where n is the size of string\n",
    "\n",
    "# Space complexity: O(1)\n",
    "\n"
   ]
  },
  {
   "cell_type": "markdown",
   "metadata": {},
   "source": [
    "- Efficeint solution"
   ]
  },
  {
   "cell_type": "code",
   "execution_count": null,
   "metadata": {},
   "outputs": [
    {
     "name": "stdout",
     "output_type": "stream",
     "text": [
      "1\n",
      "-1\n",
      "1\n",
      "0\n"
     ]
    }
   ],
   "source": [
    "def leftmost(st) :\n",
    "    freq_char = [0] * 256 #consider the this freq\n",
    "    for i in range(len(st)) :\n",
    "        freq_char[ord(st[i])]+=1\n",
    "                \n",
    "    #Now go in the st string \n",
    "    for i in range(len(st)):\n",
    "        if (freq_char[ord(st[i])]>1):\n",
    "            return i        \n",
    "    return -1 \n",
    "    \n",
    "st = \"cabba\"\n",
    "print(leftmost(st))\n",
    "st = \"abcd\"\n",
    "print(leftmost(st))\n",
    "st = \"cabba\"\n",
    "print(leftmost(st))\n",
    "st = \"geeksforgeeks\"\n",
    "print(leftmost(st))\n",
    "\n",
    "\n",
    "# Output\n",
    "# 1\n",
    "#  Time complexity: O(n) where n is the size of string, but it was the twice traversal of the Loop\n",
    "\n",
    "# Space complexity: O(1)\n",
    "\n"
   ]
  },
  {
   "cell_type": "markdown",
   "metadata": {},
   "source": [
    "- More Efficienct"
   ]
  },
  {
   "cell_type": "code",
   "execution_count": 8,
   "metadata": {},
   "outputs": [
    {
     "name": "stdout",
     "output_type": "stream",
     "text": [
      "1\n"
     ]
    }
   ],
   "source": [
    "# Leftmost Repeating Character\n",
    "# Efficient 1 \n",
    "\n",
    "import sys\n",
    "CHAR = 256\n",
    "def leftmost(st) :\n",
    "    findex = [-1] * CHAR\n",
    "    res = sys.maxsize\n",
    "    for i in range(len(st)) :\n",
    "        if (findex[ord(st[i])]==-1) :\n",
    "            findex[ord(st[i])] = i\n",
    "        else :\n",
    "            res = min(res,findex[ord(st[i])])\n",
    "    if res == sys.maxsize :\n",
    "        return -1\n",
    "    else :\n",
    "        return res\n",
    "        \n",
    "st = \"abccbd\"\n",
    "print(leftmost(st))"
   ]
  },
  {
   "cell_type": "code",
   "execution_count": null,
   "metadata": {},
   "outputs": [],
   "source": [
    "# Output\n",
    "# 1\n",
    "#  Time complexity: O(n) where n is the size of string,one time traversal\n",
    "\n",
    "# Space complexity: O(c) where c is constant ( size of list findex )."
   ]
  }
 ],
 "metadata": {
  "kernelspec": {
   "display_name": "base",
   "language": "python",
   "name": "python3"
  },
  "language_info": {
   "codemirror_mode": {
    "name": "ipython",
    "version": 3
   },
   "file_extension": ".py",
   "mimetype": "text/x-python",
   "name": "python",
   "nbconvert_exporter": "python",
   "pygments_lexer": "ipython3",
   "version": "3.12.7"
  }
 },
 "nbformat": 4,
 "nbformat_minor": 2
}
