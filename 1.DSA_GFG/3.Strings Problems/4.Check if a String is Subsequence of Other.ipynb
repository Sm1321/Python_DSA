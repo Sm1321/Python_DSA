{
 "cells": [
  {
   "cell_type": "markdown",
   "metadata": {},
   "source": [
    "### Check if a String is Subsequence of Other\n",
    "\n",
    "-  In this problem, we are given two strings s1 and s2 of different sizes. Our task is to find out that string s2 is a subsequence of string s1 or not.\n",
    "\n",
    "- Note: A subsequence is a sequence that can be derived from another sequence by deleting some elements without changing the order of the remaining elements. For example , subsequences of string \"abc\" are a, b, c, ab, ac, bc and abc.\n",
    "\n"
   ]
  },
  {
   "cell_type": "markdown",
   "metadata": {},
   "source": [
    "- `Noice solution:` We can create all possible subsequences of string s1 and check if any one of these subsequences matches our string s2 then we can say that string s2 is a subsequence of string s1 otherwise string s2 is not a subsequence of string s1.\n",
    "But the time complexity of this solution will be O(2n) because of generating all possible subsequences of string s1, so we will not be able to use this solution because we have better solutions.\n",
    "\n",
    "\n",
    "\n",
    "- `Better Solution:` The idea is simple, traverse both strings from one side to another side (say from left character to right). If we find a matching character, move ahead in both strings. Otherwise, move ahead only in s1. "
   ]
  },
  {
   "cell_type": "code",
   "execution_count": 5,
   "metadata": {},
   "outputs": [
    {
     "name": "stdout",
     "output_type": "stream",
     "text": [
      "True\n",
      "False\n",
      "True\n"
     ]
    }
   ],
   "source": [
    "def issubseq(s1,s2) :\n",
    "    i,j = 0,0\n",
    "    n = len(s1)\n",
    "    m = len(s2)\n",
    "    while i < n and j < m :\n",
    "        if s1[i]==s2[j]:\n",
    "            j = j + 1\n",
    "        i = i + 1\n",
    "    if j==m:\n",
    "        return True\n",
    "    return False \n",
    "\n",
    "\n",
    "#call the function\n",
    "s1 = \"Laptop\"\n",
    "s2 = \"ap\" \n",
    "print(issubseq(s1,s2))  \n",
    "#call the function\n",
    "s1 = \"Laptop\"\n",
    "s2 = \"pl\" \n",
    "print(issubseq(s1,s2))    \n",
    "#call the function\n",
    "s1 = \"ABCDEF\"\n",
    "s2 = \"ADE\"\n",
    "print(issubseq(s1,s2))\n"
   ]
  },
  {
   "cell_type": "markdown",
   "metadata": {},
   "source": [
    "\n",
    "`Time complexity:` Because we are traversing throughout the strings then, time complexity will be `O(max(n, m))`\n",
    "\n",
    "`Space complexity:` As we are only using two extra variables i and j, then space complexity will be `O(1)`"
   ]
  },
  {
   "cell_type": "code",
   "execution_count": null,
   "metadata": {},
   "outputs": [],
   "source": []
  }
 ],
 "metadata": {
  "kernelspec": {
   "display_name": "base",
   "language": "python",
   "name": "python3"
  },
  "language_info": {
   "codemirror_mode": {
    "name": "ipython",
    "version": 3
   },
   "file_extension": ".py",
   "mimetype": "text/x-python",
   "name": "python",
   "nbconvert_exporter": "python",
   "pygments_lexer": "ipython3",
   "version": "3.12.7"
  }
 },
 "nbformat": 4,
 "nbformat_minor": 2
}
