{
 "cells": [
  {
   "cell_type": "markdown",
   "metadata": {},
   "source": [
    "### Reverse words in a given string"
   ]
  },
  {
   "cell_type": "markdown",
   "metadata": {},
   "source": [
    "- Reverse words in a given string\n",
    "\n",
    "- Let the input string be `“i like this program very much”`. The function should change the string to `“much very program this like i”`"
   ]
  },
  {
   "cell_type": "code",
   "execution_count": 1,
   "metadata": {},
   "outputs": [
    {
     "name": "stdout",
     "output_type": "stream",
     "text": [
      "dsa to Welcome\n"
     ]
    }
   ],
   "source": [
    "# Reverse words in a string\n",
    "\n",
    "\n",
    "def reverse_word(s, start, end):\n",
    "\twhile start < end:\n",
    "\t\ts[start], s[end] = s[end], s[start]\n",
    "\t\tstart = start + 1\n",
    "\t\tend -= 1\n",
    "\n",
    "\n",
    "s = \"Welcome to dsa\"\n",
    "\n",
    "\n",
    "s = list(s)\n",
    "start = 0\n",
    "while True:\n",
    "\t\n",
    "\ttry:\n",
    "\t\tend = s.index(' ', start)\n",
    "\n",
    "\t\treverse_word(s, start, end - 1)\n",
    "\n",
    "\t\tstart = end + 1\n",
    "\n",
    "\texcept ValueError:\n",
    "\n",
    "\t\treverse_word(s, start, len(s) - 1)\n",
    "\t\tbreak\n",
    "\n",
    "s.reverse()\n",
    "\n",
    "s = \"\".join(s)\n",
    "\n",
    "print(s)"
   ]
  },
  {
   "cell_type": "code",
   "execution_count": null,
   "metadata": {},
   "outputs": [],
   "source": []
  }
 ],
 "metadata": {
  "kernelspec": {
   "display_name": "base",
   "language": "python",
   "name": "python3"
  },
  "language_info": {
   "codemirror_mode": {
    "name": "ipython",
    "version": 3
   },
   "file_extension": ".py",
   "mimetype": "text/x-python",
   "name": "python",
   "nbconvert_exporter": "python",
   "pygments_lexer": "ipython3",
   "version": "3.12.7"
  }
 },
 "nbformat": 4,
 "nbformat_minor": 2
}
