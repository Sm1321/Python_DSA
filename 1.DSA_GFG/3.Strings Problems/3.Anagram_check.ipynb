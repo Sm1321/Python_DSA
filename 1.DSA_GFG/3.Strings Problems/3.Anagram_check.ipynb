{
 "cells": [
  {
   "cell_type": "markdown",
   "metadata": {},
   "source": [
    "### Check for Anagram in Python"
   ]
  },
  {
   "cell_type": "markdown",
   "metadata": {},
   "source": [
    "#### Given two strings. The task is to check whether given strings are anagrams of each other or not. \n",
    "\n",
    "#### An anagram of a string is another string that contains the same characters, only the order of characters can be different. For example, “abcd” and “dabc” are an anagram of each other.\n",
    "\n",
    "##### Examples:\n",
    "\n",
    "- Input: str1 = “listen”  str2 = “silent”\n",
    "- Output: “Anagram”\n",
    "- Explanation: All characters of “listen” and “silent” are the same."
   ]
  },
  {
   "cell_type": "code",
   "execution_count": null,
   "metadata": {},
   "outputs": [
    {
     "data": {
      "text/plain": [
       "True"
      ]
     },
     "execution_count": 3,
     "metadata": {},
     "output_type": "execute_result"
    }
   ],
   "source": [
    "#Approch 1 -> To sort the strings \n",
    "s1= \"listen\"\n",
    "s2= \"silent\"\n",
    "\n",
    "def areAnagram(s1,s2):\n",
    "    if len(s1) != len(s2):\n",
    "        return False\n",
    "    s1=sorted(s1)\n",
    "    s2=sorted(s2)\n",
    "    return(s1==s2)\n",
    "\n",
    "\n",
    "#call the fun\n",
    "areAnagram(s1,s2)"
   ]
  },
  {
   "cell_type": "markdown",
   "metadata": {},
   "source": [
    "### Approch 2:-\n",
    "- Create a Temp Array of 256 size with zeros\n",
    "- Add the s1 stings as +1\n",
    "- Subtract the s2 strings as -1\n",
    "- now check the Temp array whci is hashing ,if all the items are 0 then it is anagram, else not the anagram "
   ]
  },
  {
   "cell_type": "code",
   "execution_count": 8,
   "metadata": {},
   "outputs": [
    {
     "name": "stdout",
     "output_type": "stream",
     "text": [
      "True\n"
     ]
    },
    {
     "data": {
      "text/plain": [
       "True"
      ]
     },
     "execution_count": 8,
     "metadata": {},
     "output_type": "execute_result"
    }
   ],
   "source": [
    "#Approch 1 -> To sort the strings \n",
    "s1= \"listen\"\n",
    "s2= \"silent\"\n",
    "\n",
    "def areAnagram(s1,s2):\n",
    "    if len(s1) != len(s2):\n",
    "        return False\n",
    "    temp_rr = [0] * 256 #create the array\n",
    "    for chars in range(len(s1)):\n",
    "       temp_rr[ord(s1[chars])]+=1\n",
    "       temp_rr[ord(s2[chars])]-=1\n",
    "    for i in range(len(temp_rr)):\n",
    "        if temp_rr[i]>0:\n",
    "            return False\n",
    "            \n",
    "    return True\n",
    "\n",
    "\n",
    "#call the fun\n",
    "print(areAnagram(s1,s2))\n",
    "s1= \"aabcad\"\n",
    "s2= \"dcbaaa\"\n",
    "areAnagram(s1,s2)"
   ]
  },
  {
   "cell_type": "code",
   "execution_count": null,
   "metadata": {},
   "outputs": [],
   "source": []
  }
 ],
 "metadata": {
  "kernelspec": {
   "display_name": "base",
   "language": "python",
   "name": "python3"
  },
  "language_info": {
   "codemirror_mode": {
    "name": "ipython",
    "version": 3
   },
   "file_extension": ".py",
   "mimetype": "text/x-python",
   "name": "python",
   "nbconvert_exporter": "python",
   "pygments_lexer": "ipython3",
   "version": "3.12.7"
  }
 },
 "nbformat": 4,
 "nbformat_minor": 2
}
