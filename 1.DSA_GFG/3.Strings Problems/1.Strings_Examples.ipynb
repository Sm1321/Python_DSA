{
 "cells": [
  {
   "cell_type": "markdown",
   "metadata": {},
   "source": [
    "## String Examples"
   ]
  },
  {
   "cell_type": "markdown",
   "metadata": {},
   "source": [
    "### Strings in Python\n",
    "- In Python, Strings are arrays of bytes representing Unicode characters."
   ]
  },
  {
   "cell_type": "code",
   "execution_count": null,
   "metadata": {},
   "outputs": [],
   "source": [
    "print(ord(\"a\"))     # chr to ord\n",
    "print(ord(\"A\"))\n",
    "print(chr(97))      # ord to chr\n",
    "print(chr(65))"
   ]
  },
  {
   "cell_type": "markdown",
   "metadata": {},
   "source": [
    "#### Indexing In String"
   ]
  },
  {
   "cell_type": "code",
   "execution_count": 1,
   "metadata": {},
   "outputs": [
    {
     "name": "stdout",
     "output_type": "stream",
     "text": [
      "geek\n",
      "g\n",
      "k\n",
      "e\n",
      "e\n"
     ]
    }
   ],
   "source": [
    "s = \"geek\"\n",
    "\n",
    "print(s)\n",
    "print(s[0])\n",
    "print(s[-1])\n",
    "print(s[1])\n",
    "print(s[-2])"
   ]
  },
  {
   "cell_type": "markdown",
   "metadata": {},
   "source": [
    "#### Strings are immutable"
   ]
  },
  {
   "cell_type": "code",
   "execution_count": 2,
   "metadata": {},
   "outputs": [
    {
     "ename": "TypeError",
     "evalue": "'str' object does not support item assignment",
     "output_type": "error",
     "traceback": [
      "\u001b[1;31m---------------------------------------------------------------------------\u001b[0m",
      "\u001b[1;31mTypeError\u001b[0m                                 Traceback (most recent call last)",
      "Cell \u001b[1;32mIn[2], line 2\u001b[0m\n\u001b[0;32m      1\u001b[0m s \u001b[38;5;241m=\u001b[39m \u001b[38;5;124m\"\u001b[39m\u001b[38;5;124mgeek\u001b[39m\u001b[38;5;124m\"\u001b[39m\n\u001b[1;32m----> 2\u001b[0m s[\u001b[38;5;241m0\u001b[39m] \u001b[38;5;241m=\u001b[39m \u001b[38;5;124m\"\u001b[39m\u001b[38;5;124me\u001b[39m\u001b[38;5;124m\"\u001b[39m  \u001b[38;5;66;03m# error: item assignment not supported\u001b[39;00m\n\u001b[0;32m      3\u001b[0m \u001b[38;5;28mprint\u001b[39m(s)\n",
      "\u001b[1;31mTypeError\u001b[0m: 'str' object does not support item assignment"
     ]
    }
   ],
   "source": [
    "s = \"geek\"\n",
    "s[0] = \"e\"  # error: item assignment not supported\n",
    "print(s)"
   ]
  },
  {
   "cell_type": "markdown",
   "metadata": {},
   "source": [
    "#### Multiline String"
   ]
  },
  {
   "cell_type": "code",
   "execution_count": 3,
   "metadata": {},
   "outputs": [
    {
     "name": "stdout",
     "output_type": "stream",
     "text": [
      " Hi,\n",
      "This is python course.\n",
      "Hope you are enjoying it. \n"
     ]
    }
   ],
   "source": [
    "s = \"\"\" Hi,\n",
    "This is python course.\n",
    "Hope you are enjoying it. \"\"\"\n",
    "print(s)"
   ]
  },
  {
   "cell_type": "markdown",
   "metadata": {},
   "source": [
    "- Escape Sequences and Raw Strings:"
   ]
  },
  {
   "cell_type": "code",
   "execution_count": 5,
   "metadata": {},
   "outputs": [
    {
     "name": "stdout",
     "output_type": "stream",
     "text": [
      "welcome tp Geek's course\n"
     ]
    }
   ],
   "source": [
    "s='welcome tp Geek\\'s course'\n",
    "print(s)"
   ]
  },
  {
   "cell_type": "code",
   "execution_count": 6,
   "metadata": {},
   "outputs": [
    {
     "name": "stdout",
     "output_type": "stream",
     "text": [
      "Hi \n",
      "welcome to the course\n"
     ]
    }
   ],
   "source": [
    "s=\"Hi \\nwelcome to the course\"\n",
    "print(s)"
   ]
  },
  {
   "cell_type": "code",
   "execution_count": 7,
   "metadata": {},
   "outputs": [
    {
     "name": "stdout",
     "output_type": "stream",
     "text": [
      "A simple \\ example\n",
      "Backslash at the end\\\n",
      "\\n\n",
      "\\t\n"
     ]
    },
    {
     "name": "stderr",
     "output_type": "stream",
     "text": [
      "<>:1: SyntaxWarning: invalid escape sequence '\\ '\n",
      "<>:1: SyntaxWarning: invalid escape sequence '\\ '\n",
      "C:\\Users\\Mohan\\AppData\\Local\\Temp\\ipykernel_13580\\2011211587.py:1: SyntaxWarning: invalid escape sequence '\\ '\n",
      "  s1=\"A simple \\ example\"\n"
     ]
    }
   ],
   "source": [
    "s1=\"A simple \\ example\"\n",
    "print(s1)\n",
    "s2=\"Backslash at the end\\\\\"\n",
    "print(s2)\n",
    "s3=\"\\\\n\"\n",
    "print(s3)\n",
    "s4=\"\\\\t\"\n",
    "print(s4)"
   ]
  },
  {
   "cell_type": "code",
   "execution_count": 8,
   "metadata": {},
   "outputs": [
    {
     "name": "stdout",
     "output_type": "stream",
     "text": [
      "c:\\project\n",
      "ame.py\n",
      "c:\\project\\name.py\n"
     ]
    },
    {
     "name": "stderr",
     "output_type": "stream",
     "text": [
      "<>:1: SyntaxWarning: invalid escape sequence '\\p'\n",
      "<>:1: SyntaxWarning: invalid escape sequence '\\p'\n",
      "C:\\Users\\Mohan\\AppData\\Local\\Temp\\ipykernel_13580\\2337859159.py:1: SyntaxWarning: invalid escape sequence '\\p'\n",
      "  s1=\"c:\\project\\name.py\"\n"
     ]
    }
   ],
   "source": [
    "s1=\"c:\\project\\name.py\"\n",
    "print(s1)\n",
    "\n",
    "s2=r\"c:\\project\\name.py\"\n",
    "print(s2)"
   ]
  },
  {
   "cell_type": "markdown",
   "metadata": {},
   "source": [
    "- Formatting the strings"
   ]
  },
  {
   "cell_type": "code",
   "execution_count": 9,
   "metadata": {},
   "outputs": [
    {
     "name": "stdout",
     "output_type": "stream",
     "text": [
      "lower case of ABC is abc\n",
      "upper case of abc is ABC\n"
     ]
    }
   ],
   "source": [
    "s1  = \"ABC\"\n",
    "s2 = \"abc\"\n",
    "\n",
    "print(f\"lower case of {s1} is {s1.lower()}\")\n",
    "print(f\"upper case of {s2} is {s2.upper()}\")"
   ]
  },
  {
   "cell_type": "code",
   "execution_count": 10,
   "metadata": {},
   "outputs": [
    {
     "name": "stdout",
     "output_type": "stream",
     "text": [
      "True\n",
      "True\n",
      "False\n",
      "True\n"
     ]
    }
   ],
   "source": [
    "s = \"GeeksforGeeks Python Course\"\n",
    "\n",
    "print(s.startswith(\"Geeks\"))\n",
    "\n",
    "print(s.endswith(\"Course\"))\n",
    "\n",
    "print(s.startswith(\"Geeks\", 1))     # start index\n",
    "\n",
    "print(s.startswith(\"Geeks\",8,len(s)))   # start index, last-index"
   ]
  },
  {
   "cell_type": "code",
   "execution_count": 11,
   "metadata": {},
   "outputs": [
    {
     "name": "stdout",
     "output_type": "stream",
     "text": [
      "['geeks', 'for', 'geeks']\n",
      "['geeks', ' for', ' geeks']\n",
      "geeksforgeeks python course\n",
      "geeksforgeeks, python, course\n"
     ]
    }
   ],
   "source": [
    "s1 = \"geeks for geeks\"\n",
    "\n",
    "print(s1.split())   # split by space ' '\n",
    "\n",
    "s2 = \"geeks, for, geeks\"\n",
    "print(s2.split(','))        # split by comma ','\n",
    "\n",
    "l = [\"geeksforgeeks\",\"python\",\"course\"]\n",
    "\n",
    "print(\" \".join(l))          # join by space\n",
    "\n",
    "print(\", \".join(l))         # join by comma"
   ]
  },
  {
   "cell_type": "code",
   "execution_count": 12,
   "metadata": {},
   "outputs": [
    {
     "name": "stdout",
     "output_type": "stream",
     "text": [
      "geeksforgeeks\n",
      "geeksforgeeks__\n",
      "__geeksforgeeks\n"
     ]
    }
   ],
   "source": [
    "s1 = \"__geeksforgeeks__\"\n",
    "\n",
    "print(s1.strip(\"_\"))   # strip from both side\n",
    "\n",
    "\n",
    "print(s1.lstrip('_'))  # strip from left side\n",
    "\n",
    "\n",
    "print(s1.rstrip(\"_\"))   # strip from right side"
   ]
  },
  {
   "cell_type": "code",
   "execution_count": 13,
   "metadata": {},
   "outputs": [
    {
     "name": "stdout",
     "output_type": "stream",
     "text": [
      "0\n",
      "-1\n",
      "10\n"
     ]
    }
   ],
   "source": [
    "s1 = \"geeks for geeks\"\n",
    "\n",
    "s2 = \"geeks\"\n",
    "\n",
    "print(s1.find(s2))\n",
    "\n",
    "print(s1.find(\"gfg\"))\n",
    "\n",
    "n = len(s1)\n",
    "\n",
    "print(s1.find(s2,1,n))"
   ]
  },
  {
   "cell_type": "code",
   "execution_count": null,
   "metadata": {},
   "outputs": [],
   "source": []
  },
  {
   "cell_type": "code",
   "execution_count": null,
   "metadata": {},
   "outputs": [],
   "source": []
  }
 ],
 "metadata": {
  "kernelspec": {
   "display_name": "base",
   "language": "python",
   "name": "python3"
  },
  "language_info": {
   "codemirror_mode": {
    "name": "ipython",
    "version": 3
   },
   "file_extension": ".py",
   "mimetype": "text/x-python",
   "name": "python",
   "nbconvert_exporter": "python",
   "pygments_lexer": "ipython3",
   "version": "3.12.7"
  }
 },
 "nbformat": 4,
 "nbformat_minor": 2
}
