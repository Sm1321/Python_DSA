{
 "cells": [
  {
   "cell_type": "markdown",
   "metadata": {},
   "source": [
    "### Reverse words in a given string"
   ]
  },
  {
   "cell_type": "markdown",
   "metadata": {
    "vscode": {
     "languageId": "plaintext"
    }
   },
   "source": [
    "- Let the input string be “i like this program very much”. The function should change the string to “much very program this like i”\n",
    "reverse-words"
   ]
  },
  {
   "cell_type": "markdown",
   "metadata": {},
   "source": [
    "`Examples: `\n",
    "\n",
    "`Input:` s = “geeks quiz practice code” \n",
    "\n",
    "`Output:` s = “code practice quiz geeks”"
   ]
  },
  {
   "cell_type": "code",
   "execution_count": 6,
   "metadata": {},
   "outputs": [
    {
     "name": "stdout",
     "output_type": "stream",
     "text": [
      "DSA to Welcome\n",
      "Programming to Welcome\n",
      "young still night The\n"
     ]
    }
   ],
   "source": [
    "def reverse_string(s, b, e):\n",
    "    # Convert string to list to allow mutation\n",
    "    s = list(s)\n",
    "    \n",
    "    while b < e:\n",
    "        s[b], s[e] = s[e], s[b]\n",
    "        b += 1\n",
    "        e -= 1\n",
    "    \n",
    "    return ''.join(s)\n",
    "\n",
    "# Reverse the Words\n",
    "def reverse_words(s):\n",
    "    s = list(s)  # Convert to list to allow in-place modification\n",
    "    n = len(s)\n",
    "    b = 0\n",
    "    \n",
    "    # Reverse each word individually\n",
    "    for e in range(n):\n",
    "        if s[e] == ' ':\n",
    "            s = reverse_string(s, b, e - 1)\n",
    "            b = e + 1\n",
    "    \n",
    "    s = reverse_string(s, b, n - 1)  # Reverse the last word\n",
    "    s = reverse_string(s, 0, n - 1)  # Reverse the entire string\n",
    "    \n",
    "    return s\n",
    "\n",
    "# Test cases\n",
    "print(reverse_words(\"Welcome to DSA\"))\n",
    "print(reverse_words(\"Welcome to Programming\"))\n",
    "print(reverse_words(\"The night still young\"))\n"
   ]
  }
 ],
 "metadata": {
  "kernelspec": {
   "display_name": "base",
   "language": "python",
   "name": "python3"
  },
  "language_info": {
   "codemirror_mode": {
    "name": "ipython",
    "version": 3
   },
   "file_extension": ".py",
   "mimetype": "text/x-python",
   "name": "python",
   "nbconvert_exporter": "python",
   "pygments_lexer": "ipython3",
   "version": "3.12.7"
  }
 },
 "nbformat": 4,
 "nbformat_minor": 2
}
