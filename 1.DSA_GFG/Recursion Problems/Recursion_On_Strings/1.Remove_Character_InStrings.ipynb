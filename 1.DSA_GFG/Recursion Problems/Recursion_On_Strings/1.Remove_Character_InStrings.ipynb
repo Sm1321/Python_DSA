{
 "cells": [
  {
   "cell_type": "code",
   "execution_count": null,
   "metadata": {},
   "outputs": [],
   "source": []
  },
  {
   "cell_type": "markdown",
   "metadata": {},
   "source": [
    "### Remove the Chaacter from string with Recusion"
   ]
  },
  {
   "cell_type": "code",
   "execution_count": 1,
   "metadata": {},
   "outputs": [
    {
     "name": "stdout",
     "output_type": "stream",
     "text": [
      "hell wrld\n"
     ]
    }
   ],
   "source": [
    "def remove_character(s: str, char_to_remove: str) -> str:\n",
    "    # Base case: if the string is empty, return it\n",
    "    if not s:\n",
    "        return \"\"\n",
    "    \n",
    "    # Check the first character of the string\n",
    "    if s[0] == char_to_remove:\n",
    "        # If it matches, skip this character and continue with the rest of the string\n",
    "        return remove_character(s[1:], char_to_remove)\n",
    "    else:\n",
    "        # If it does not match, include the first character and continue with the rest\n",
    "        return s[0] + remove_character(s[1:], char_to_remove)\n",
    "\n",
    "# Example usage\n",
    "input_string = \"hello world\"\n",
    "character_to_remove = \"o\"\n",
    "result = remove_character(input_string, character_to_remove)\n",
    "print(result)  # Output: hell wrld \n"
   ]
  },
  {
   "cell_type": "code",
   "execution_count": null,
   "metadata": {},
   "outputs": [],
   "source": []
  },
  {
   "cell_type": "code",
   "execution_count": 2,
   "metadata": {},
   "outputs": [
    {
     "name": "stdout",
     "output_type": "stream",
     "text": [
      "hell wrld\n"
     ]
    }
   ],
   "source": [
    "def remove_character(s: str, char_to_remove: str, index: int = 0) -> str:\n",
    "    # Base case: if the index reaches the length of the string, return an empty string\n",
    "    if index == len(s):\n",
    "        return \"\"\n",
    "\n",
    "    # Recursive case\n",
    "    if s[index] == char_to_remove:\n",
    "        # If the current character matches, skip it and continue with the next index\n",
    "        return remove_character(s, char_to_remove, index + 1)\n",
    "    else:\n",
    "        # If it doesn't match, include the current character and continue with the next index\n",
    "        return s[index] + remove_character(s, char_to_remove, index + 1)\n",
    "\n",
    "# Example usage\n",
    "input_string = \"hello world\"\n",
    "character_to_remove = \"o\"\n",
    "result = remove_character(input_string, character_to_remove)\n",
    "print(result)  # Output: hell wrld\n"
   ]
  }
 ],
 "metadata": {
  "kernelspec": {
   "display_name": "Python 3",
   "language": "python",
   "name": "python3"
  },
  "language_info": {
   "codemirror_mode": {
    "name": "ipython",
    "version": 3
   },
   "file_extension": ".py",
   "mimetype": "text/x-python",
   "name": "python",
   "nbconvert_exporter": "python",
   "pygments_lexer": "ipython3",
   "version": "3.11.11"
  }
 },
 "nbformat": 4,
 "nbformat_minor": 2
}
