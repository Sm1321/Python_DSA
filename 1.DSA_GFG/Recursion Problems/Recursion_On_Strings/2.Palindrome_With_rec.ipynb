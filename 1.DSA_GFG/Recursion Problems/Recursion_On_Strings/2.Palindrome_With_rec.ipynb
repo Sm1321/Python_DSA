{
 "cells": [
  {
   "cell_type": "markdown",
   "metadata": {},
   "source": [
    "### Palindrome With Recursion"
   ]
  },
  {
   "cell_type": "code",
   "execution_count": 13,
   "metadata": {},
   "outputs": [
    {
     "name": "stdout",
     "output_type": "stream",
     "text": [
      "True\n",
      "True\n",
      "False\n",
      "False\n",
      "False\n"
     ]
    }
   ],
   "source": [
    "def Pali_Rec(s: str, right: int, left: int) -> bool:\n",
    "    # Base case: if left index crosses the right index\n",
    "    if left >= right:\n",
    "        return True\n",
    "    # Compare characters at left and right indices\n",
    "    if s[right] != s[left]:\n",
    "        return False\n",
    "    # Recursive call with updated indices\n",
    "    return Pali_Rec(s, right - 1, left + 1)\n",
    "\n",
    "# Call the function with case insensitive comparison\n",
    "def is_palindrome(s: str) -> bool:\n",
    "    # Convert the string to lowercase to ignore case\n",
    "    #s = s.lower()\n",
    "    n = len(s)\n",
    "    return Pali_Rec(s, n - 1, 0)\n",
    "\n",
    "# Example usage\n",
    "print(is_palindrome(\"nitin\"))        # Output: True\n",
    "print(is_palindrome(\"MADAM\"))        # Output: True\n",
    "print(is_palindrome(\"MADaM\"))        # Output: True\n",
    "print(is_palindrome(\"malAYalam\"))    # Output: True\n",
    "print(is_palindrome(\"hello\"))        # Output: False\n"
   ]
  },
  {
   "cell_type": "code",
   "execution_count": 14,
   "metadata": {},
   "outputs": [
    {
     "name": "stdout",
     "output_type": "stream",
     "text": [
      "True\n",
      "True\n",
      "True\n",
      "True\n",
      "False\n"
     ]
    }
   ],
   "source": [
    "def is_palindrome(s: str, right: int = None, left: int = 0):\n",
    "    \"\"\"\n",
    "    Function to check if a string is a palindrome using recursion.\n",
    "    \n",
    "    Parameters:\n",
    "    s (str): The string to check.\n",
    "    right (int): The index of the rightmost character to check.\n",
    "    left (int): The index of the leftmost character to check.\n",
    "    \n",
    "    Returns:\n",
    "    bool: True if the string is a palindrome, False otherwise.\n",
    "    \"\"\"\n",
    "    # Initialize right on the first call\n",
    "    if right is None:\n",
    "        right = len(s) - 1\n",
    "    \n",
    "    # Base case: if left index crosses the right index\n",
    "    if left >= right:\n",
    "        return True\n",
    "    \n",
    "    # Compare characters at left and right indices (case insensitive)\n",
    "    if s[left].lower() != s[right].lower():\n",
    "        return False\n",
    "    \n",
    "    # Recursive call with updated indices\n",
    "    return is_palindrome(s, right - 1, left + 1)\n",
    "\n",
    "\n",
    "# Example usage:\n",
    "print(is_palindrome(\"nitin\"))        # Output: True\n",
    "print(is_palindrome(\"MADAM\"))        # Output: True\n",
    "print(is_palindrome(\"MADaM\"))        # Output: True\n",
    "print(is_palindrome(\"malAYalam\"))    # Output: True\n",
    "print(is_palindrome(\"hello\"))        # Output: False\n"
   ]
  },
  {
   "cell_type": "code",
   "execution_count": 19,
   "metadata": {},
   "outputs": [
    {
     "name": "stdout",
     "output_type": "stream",
     "text": [
      "['abc', 'ab', 'ac', 'a', 'bc', 'b', 'c', '']\n"
     ]
    }
   ],
   "source": [
    "def get_subsequences(s, index=0, current=\"\"):\n",
    "    \"\"\"\n",
    "    Function to return all subsequences of a given string using a single function and without slicing.\n",
    "    \n",
    "    Parameters:\n",
    "    s (str): The input string.\n",
    "    index (int): The current index in the string.\n",
    "    current (str): The current subsequence being built.\n",
    "    \n",
    "    Returns:\n",
    "    list: A list containing all subsequences of the string.\n",
    "    \"\"\"\n",
    "    # Base case: if the index reaches the end of the string, return the current subsequence in a list\n",
    "    if index == len(s):\n",
    "        return [current]\n",
    "    \n",
    "    # Recursive calls:\n",
    "    # 1. Include the current character\n",
    "    include_current = get_subsequences(s, index + 1, current + s[index])\n",
    "    \n",
    "    # 2. Exclude the current character\n",
    "    exclude_current = get_subsequences(s, index + 1, current)\n",
    "    \n",
    "    # Combine the results from both recursive calls\n",
    "    return include_current + exclude_current\n",
    "\n",
    "# Example usage\n",
    "print(get_subsequences(\"abc\"))\n"
   ]
  },
  {
   "cell_type": "code",
   "execution_count": 20,
   "metadata": {},
   "outputs": [
    {
     "data": {
      "text/plain": [
       "['abc', 'ab']"
      ]
     },
     "execution_count": 20,
     "metadata": {},
     "output_type": "execute_result"
    }
   ],
   "source": [
    "['abc'] + ['ab'] #This was happendin at the last step \n",
    "# return include_current + exclude_current"
   ]
  },
  {
   "cell_type": "markdown",
   "metadata": {},
   "source": [
    "### Print the SubSequences "
   ]
  },
  {
   "cell_type": "code",
   "execution_count": 25,
   "metadata": {},
   "outputs": [
    {
     "name": "stdout",
     "output_type": "stream",
     "text": [
      "abc\n",
      "ab\n",
      "ac\n",
      "a\n",
      "bc\n",
      "b\n",
      "c\n",
      "\n",
      "None\n"
     ]
    }
   ],
   "source": [
    "def get_subsequences(s, index=0, current=\"\"):\n",
    "    \"\"\"\n",
    "    Function to return all subsequences of a given string using a single function and without slicing.\n",
    "    \n",
    "    Parameters:\n",
    "    s (str): The input string.\n",
    "    index (int): The current index in the string.\n",
    "    current (str): The current subsequence being built.\n",
    "    \n",
    "    Returns:\n",
    "    list: A list containing all subsequences of the string.\n",
    "    \"\"\"\n",
    "    # Base case: if the index reaches the end of the string, return the current subsequence in a list\n",
    "    if index == len(s):\n",
    "        print(current)\n",
    "        return \n",
    "    \n",
    "    # Recursive calls:\n",
    "    # 1. Include the current character\n",
    "    get_subsequences(s, index + 1, current + s[index])\n",
    "    \n",
    "    # 2. Exclude the current character\n",
    "    get_subsequences(s, index + 1, current)\n",
    "    \n",
    "\n",
    "\n",
    "# Example usage\n",
    "print(get_subsequences(\"abc\"))\n"
   ]
  },
  {
   "cell_type": "code",
   "execution_count": 26,
   "metadata": {},
   "outputs": [
    {
     "data": {
      "text/plain": [
       "['cba', 'cb', 'ca', 'c', 'ba', 'b', 'a', '']"
      ]
     },
     "execution_count": 26,
     "metadata": {},
     "output_type": "execute_result"
    }
   ],
   "source": [
    "def subsequences(s,index:int = None,current = \"\"):\n",
    "    \"\"\"\n",
    "    Function to generate all subsequences of a string using recursion.\n",
    "    \n",
    "    Parameters:\n",
    "    s (str): The string to generate subsequences from.\n",
    "    \n",
    "    Returns:\n",
    "    list of str: A list containing all subsequences of the string.\n",
    "    \"\"\"\n",
    "    if index is None: #TO Give the index\n",
    "        index = len(s) - 1\n",
    "        \n",
    "    if index < 0: #Base Case\n",
    "        return [current]\n",
    "    # Your code here\n",
    "    \n",
    "    take_char = subsequences(s,index - 1,current +s[index]) #Take the characer\n",
    "    not_take_char = subsequences(s,index - 1,current)#NOT Take the characer\n",
    "    return take_char + not_take_char        \n",
    "    \n",
    "    \n",
    "\n",
    "\n",
    "\n",
    "\n",
    "\n",
    "s = \"abc\"\n",
    "subsequences(s)\n"
   ]
  },
  {
   "cell_type": "code",
   "execution_count": 31,
   "metadata": {},
   "outputs": [
    {
     "name": "stdout",
     "output_type": "stream",
     "text": [
      "['', 'a', 'b', 'ba', 'c', 'ca', 'cb', 'cba']\n",
      "['', 'a']\n"
     ]
    }
   ],
   "source": [
    "def subsequences(s, index=None, current=\"\"):\n",
    "    \"\"\"\n",
    "    Function to generate all subsequences of a string using recursion.\n",
    "    \n",
    "    Parameters:\n",
    "    s (str): The string to generate subsequences from.\n",
    "    \n",
    "    Returns:\n",
    "    list of str: A list containing all subsequences of the string.\n",
    "    \"\"\"\n",
    "    if index is None:  # Initialize index\n",
    "        index = len(s) - 1\n",
    "        \n",
    "    # Base case: if the index is less than 0, return the current subsequence\n",
    "    if index < 0:\n",
    "        return [current]  # Return the current formed subsequence\n",
    "\n",
    "    # Recursive case:\n",
    "    # Exclude the current character first\n",
    "    exclude_current = subsequences(s, index - 1, current)\n",
    "\n",
    "    # Include the current character\n",
    "    include_current = subsequences(s, index - 1, current + s[index])\n",
    "    \n",
    "    # Combine results from excluding and including the current character\n",
    "    return exclude_current + include_current\n",
    "\n",
    "# Example usage:\n",
    "print(subsequences(\"abc\"))  # Output: ['', 'a', 'b', 'ab', 'c', 'ac', 'bc', 'abc']\n",
    "print(subsequences(\"a\"))     # Output: ['', 'a']\n"
   ]
  },
  {
   "cell_type": "code",
   "execution_count": 36,
   "metadata": {},
   "outputs": [
    {
     "name": "stdout",
     "output_type": "stream",
     "text": [
      "['abc', 'ab', 'ac', 'a', 'bc', 'b', 'c', '']\n",
      "['a', '']\n"
     ]
    }
   ],
   "source": [
    "def subsequences(s, index=0, current=\"\"):\n",
    "    \"\"\"\n",
    "    Function to generate all subsequences of a string using recursion without slicing.\n",
    "    \n",
    "    Parameters:\n",
    "    s (str): The string to generate subsequences from.\n",
    "    index (int): The current index in the string.\n",
    "    current (str): The current subsequence being formed.\n",
    "    \n",
    "    Returns:\n",
    "    list of str: A list containing all subsequences of the string.\n",
    "    \"\"\"\n",
    "    # Base case: if the index is equal to the length of the string, return the current subsequence\n",
    "    if index == len(s):\n",
    "        return [current]  # Return the current formed subsequence\n",
    "\n",
    "    # Recursive case\n",
    "    # Include the current character\n",
    "    include_current = subsequences(s, index + 1, current + s[index])\n",
    "    \n",
    "    # Exclude the current character\n",
    "    exclude_current = subsequences(s, index + 1, current)\n",
    "\n",
    "    # Combine results from including and excluding the current character\n",
    "    return include_current + exclude_current\n",
    "\n",
    "# Example usage:\n",
    "print(subsequences(\"abc\"))  # Output: ['', 'c', 'b', 'bc', 'a', 'ac', 'ab', 'abc']\n",
    "print(subsequences(\"a\"))     # Output: ['', 'a']\n"
   ]
  }
 ],
 "metadata": {
  "kernelspec": {
   "display_name": "Python 3",
   "language": "python",
   "name": "python3"
  },
  "language_info": {
   "codemirror_mode": {
    "name": "ipython",
    "version": 3
   },
   "file_extension": ".py",
   "mimetype": "text/x-python",
   "name": "python",
   "nbconvert_exporter": "python",
   "pygments_lexer": "ipython3",
   "version": "3.12.5"
  }
 },
 "nbformat": 4,
 "nbformat_minor": 2
}
