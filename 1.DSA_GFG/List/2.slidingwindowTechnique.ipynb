{
 "cells": [
  {
   "cell_type": "markdown",
   "metadata": {},
   "source": [
    "### Sliding window technique"
   ]
  },
  {
   "cell_type": "code",
   "execution_count": 1,
   "metadata": {},
   "outputs": [],
   "source": [
    "import pandas as pd"
   ]
  },
  {
   "cell_type": "markdown",
   "metadata": {},
   "source": [
    "#### Approch 1 \n",
    "- Based on the O(n*k) Solution"
   ]
  },
  {
   "cell_type": "code",
   "execution_count": 6,
   "metadata": {},
   "outputs": [
    {
     "name": "stdout",
     "output_type": "stream",
     "text": [
      "45\n",
      "96\n",
      "10\n",
      "30\n"
     ]
    }
   ],
   "source": [
    "def Slidingwindow(arr,k):\n",
    "    n = len(arr)\n",
    "    total_sum = 0\n",
    "    curr_sum = 0\n",
    "    i = 0\n",
    "    while (i+k-1)<n:\n",
    "        curr_sum = 0\n",
    "        for j in range(0,k):\n",
    "            curr_sum+=arr[i+j]\n",
    "        i = i + 1    \n",
    "        total_sum = max(total_sum,curr_sum)\n",
    "    return total_sum        \n",
    "\n",
    "\n",
    "##now you can call the function\n",
    "print(Slidingwindow([1,8,30,-5,20,7],3))     \n",
    "##ex2\n",
    "print( Slidingwindow([5,-10,6,90,3],2)) \n",
    "##ex2\n",
    "print( Slidingwindow([1,5,3,1,2,8],2)) \n",
    "##ex2\n",
    "print( Slidingwindow([10,20,30],1)) \n"
   ]
  },
  {
   "cell_type": "markdown",
   "metadata": {},
   "source": [
    "#### Approch 2\n",
    "- O(N) Solution"
   ]
  },
  {
   "cell_type": "code",
   "execution_count": 9,
   "metadata": {},
   "outputs": [
    {
     "name": "stdout",
     "output_type": "stream",
     "text": [
      "45\n",
      "96\n",
      "10\n",
      "30\n"
     ]
    }
   ],
   "source": [
    "def Slidingwindow_optimal(arr,k):\n",
    "    curr = 0\n",
    "    for i in range(0,k):\n",
    "        curr+=arr[i]\n",
    "    n = len(arr)\n",
    "    res = curr    \n",
    "    for j in range(k,n):\n",
    "        curr =  (curr+arr[j]-arr[j-k]) #add the cureent window ele and subtract the first ele of the window\n",
    "        res = max(curr,res)\n",
    "    return res   \n",
    "\n",
    "\n",
    "##now you can call the function\n",
    "print(Slidingwindow_optimal([1,8,30,-5,20,7],3))     \n",
    "##ex2\n",
    "print(Slidingwindow_optimal([5,-10,6,90,3],2)) \n",
    "##ex2\n",
    "print(Slidingwindow_optimal([1,5,3,1,2,8],2)) \n",
    "##ex2\n",
    "print(Slidingwindow_optimal([10,20,30],1)) \n",
    "\n",
    "\n"
   ]
  }
 ],
 "metadata": {
  "kernelspec": {
   "display_name": "Python 3",
   "language": "python",
   "name": "python3"
  },
  "language_info": {
   "codemirror_mode": {
    "name": "ipython",
    "version": 3
   },
   "file_extension": ".py",
   "mimetype": "text/x-python",
   "name": "python",
   "nbconvert_exporter": "python",
   "pygments_lexer": "ipython3",
   "version": "3.12.5"
  }
 },
 "nbformat": 4,
 "nbformat_minor": 2
}
