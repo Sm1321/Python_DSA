{
 "cells": [
  {
   "cell_type": "markdown",
   "metadata": {},
   "source": [
    "### More than n/k occurence"
   ]
  },
  {
   "cell_type": "code",
   "execution_count": 1,
   "metadata": {},
   "outputs": [],
   "source": [
    "# Given an array of size n and an integer k, find all elements in the array that appear more than n/k times. \n",
    "\n",
    "# Examples:\n",
    "\n",
    "# Input: arr[] = {3, 1, 2, 2, 1, 2, 3, 3}, k = 4\n",
    "# Output: {2, 3}\n",
    "# Explanation: Here n/k is 8/4 = 2, therefore 2 appears 3 times in the array that is greater than 2 and 3 appears 3 times in the array that is greater than 2\n",
    "\n",
    "# Input: arr[] = {9, 8, 7, 9, 2, 9, 7}, k = 3\n",
    "# Output: {9}\n",
    "# Explanation: Here n/k is 7/3 = 2, therefore 9 appears 3 times in the array that is greater than 2."
   ]
  },
  {
   "cell_type": "code",
   "execution_count": 14,
   "metadata": {},
   "outputs": [
    {
     "name": "stdout",
     "output_type": "stream",
     "text": [
      "[2, 3]\n",
      "[9]\n",
      "[30]\n"
     ]
    }
   ],
   "source": [
    "def Count_Occ_by_k(nums,k):\n",
    "    nums.sort()   #sort the nums \n",
    "    i  = 1  \n",
    "    n = len(nums)\n",
    "    count = 1\n",
    "    result = []\n",
    "    while i < n:\n",
    "        while( i < n and nums[i]==nums[i - 1]):#because if the prevsious ele are same we needed to keep the count\n",
    "            count+=1\n",
    "            i = i + 1\n",
    "        if (count >n//k):\n",
    "            result.append(nums[i-1])\n",
    "        count = 1\n",
    "        i = i + 1\n",
    "    return result\n",
    "\n",
    "\n",
    "\n",
    "#Example:-\n",
    "nums = [3,1,2,2,1,2,3,3]\n",
    "k = 4\n",
    "print(Count_Occ_by_k(nums,k))\n",
    "#Example:-\n",
    "nums = [9, 8, 7, 9, 2, 9, 7]\n",
    "k = 3\n",
    "print(Count_Occ_by_k(nums,k))\n",
    "#Example:-\n",
    "nums = [30,10,20,30,30,40,30,40,30]\n",
    "k = 2\n",
    "print(Count_Occ_by_k(nums,k))\n",
    "\n"
   ]
  },
  {
   "cell_type": "markdown",
   "metadata": {},
   "source": [
    "### With Hashing"
   ]
  },
  {
   "cell_type": "code",
   "execution_count": null,
   "metadata": {},
   "outputs": [
    {
     "name": "stdout",
     "output_type": "stream",
     "text": [
      "[2, 3]\n",
      "[9]\n",
      "[30]\n"
     ]
    }
   ],
   "source": [
    "def Count_Occ_by_k(nums,k):\n",
    "    nums.sort()   #sort the nums \n",
    "    i  = 1  \n",
    "    n = len(nums)\n",
    "    count = 1\n",
    "    result = []\n",
    "    temp_dict = dict()\n",
    "    #store the values in the dict -> key,value\n",
    "    for ele in nums:\n",
    "        if ele in temp_dict:\n",
    "            temp_dict[ele]+=1\n",
    "        else:\n",
    "            temp_dict[ele] = 1\n",
    "\n",
    "    ##Now look up the dict , store whose values of keys getarter than,(n//k)\n",
    "    for key,values in temp_dict.items():\n",
    "        if values > (n//k):\n",
    "            result.append(key)\n",
    "\n",
    "    return result \n",
    "\n",
    "\n",
    "\n",
    "#Example:-\n",
    "nums = [3,1,2,2,1,2,3,3]\n",
    "k = 4\n",
    "print(Count_Occ_by_k(nums,k))\n",
    "#Example:-\n",
    "nums = [9, 8, 7, 9, 2, 9, 7]\n",
    "k = 3\n",
    "print(Count_Occ_by_k(nums,k))\n",
    "#Example:-\n",
    "nums = [30,10,20,30,30,40,30,40,30]\n",
    "k = 2\n",
    "print(Count_Occ_by_k(nums,k))\n",
    "\n"
   ]
  }
 ],
 "metadata": {
  "kernelspec": {
   "display_name": "base",
   "language": "python",
   "name": "python3"
  },
  "language_info": {
   "codemirror_mode": {
    "name": "ipython",
    "version": 3
   },
   "file_extension": ".py",
   "mimetype": "text/x-python",
   "name": "python",
   "nbconvert_exporter": "python",
   "pygments_lexer": "ipython3",
   "version": "3.12.7"
  }
 },
 "nbformat": 4,
 "nbformat_minor": 2
}
