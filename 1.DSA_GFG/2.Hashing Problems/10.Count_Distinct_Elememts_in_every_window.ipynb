{
 "cells": [
  {
   "cell_type": "markdown",
   "metadata": {},
   "source": [
    "### Count distinct elements in every window of size k"
   ]
  },
  {
   "cell_type": "code",
   "execution_count": null,
   "metadata": {},
   "outputs": [],
   "source": [
    "### Time Complexity of this approch is :- O(n * k)\n",
    "### Space Complxity of this approch is :- (n)"
   ]
  },
  {
   "cell_type": "code",
   "execution_count": 25,
   "metadata": {},
   "outputs": [
    {
     "name": "stdout",
     "output_type": "stream",
     "text": [
      "[2, 3, 4, 3]\n",
      "[3, 3]\n",
      "[1, 1]\n"
     ]
    }
   ],
   "source": [
    "def CountDistinct(nums, k):\n",
    "    n = len(nums)\n",
    "    result = []\n",
    "    # Iterate over each window of size k\n",
    "    for i in range(n - k + 1):\n",
    "        window = nums[i:i + k]  # Extract window\n",
    "        distinct_count = len(set(window))  # Count distinct elements using a set\n",
    "        result.append(distinct_count)\n",
    "\n",
    "    return result\n",
    "\n",
    "# Example Usage:\n",
    "nums = [10, 20, 20, 10, 30, 40, 10]\n",
    "k = 4\n",
    "print(CountDistinct(nums, k))  # Output: [2, 3, 4, 3]\n",
    "# Example Usage:\n",
    "nums = [10, 20, 30, 40]\n",
    "k = 3\n",
    "print(CountDistinct(nums, k))  # Output: [3, 3]\n",
    "# Example Usage:\n",
    "nums = [10,10,10,10]\n",
    "k = 3\n",
    "print(CountDistinct(nums, k))  # Output: [1, 1]"
   ]
  },
  {
   "cell_type": "code",
   "execution_count": 26,
   "metadata": {},
   "outputs": [
    {
     "name": "stdout",
     "output_type": "stream",
     "text": [
      "[2, 3, 4, 3]\n",
      "[3, 3]\n"
     ]
    }
   ],
   "source": [
    "def CountDistinct(nums, k):\n",
    "    n = len(nums)\n",
    "    result = []\n",
    "\n",
    "    # Iterate over each window of size k\n",
    "    for i in range(n - k + 1):\n",
    "        window = []  # Manually create the window using a loop\n",
    "        for j in range(i, i + k):  \n",
    "            window.append(nums[j])  # Add elements to the window\n",
    "\n",
    "        distinct_count = len(set(window))  # Count distinct elements\n",
    "        result.append(distinct_count)\n",
    "\n",
    "    return result\n",
    "\n",
    "# Example Usage:\n",
    "nums = [10, 20, 20, 10, 30, 40, 10]\n",
    "k = 4\n",
    "print(CountDistinct(nums, k))  # Output: [2, 3, 4, 3]\n",
    "\n",
    "nums = [10, 20, 30, 40]\n",
    "k = 3\n",
    "print(CountDistinct(nums, k))  # Output: [3, 3]\n"
   ]
  },
  {
   "cell_type": "code",
   "execution_count": null,
   "metadata": {},
   "outputs": [],
   "source": []
  },
  {
   "cell_type": "markdown",
   "metadata": {},
   "source": [
    "#### Count distinct numbers in all windows of size K using hashing:"
   ]
  },
  {
   "cell_type": "code",
   "execution_count": null,
   "metadata": {},
   "outputs": [],
   "source": []
  }
 ],
 "metadata": {
  "kernelspec": {
   "display_name": "base",
   "language": "python",
   "name": "python3"
  },
  "language_info": {
   "codemirror_mode": {
    "name": "ipython",
    "version": 3
   },
   "file_extension": ".py",
   "mimetype": "text/x-python",
   "name": "python",
   "nbconvert_exporter": "python",
   "pygments_lexer": "ipython3",
   "version": "3.12.7"
  }
 },
 "nbformat": 4,
 "nbformat_minor": 2
}
