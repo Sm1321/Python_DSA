{
 "cells": [
  {
   "cell_type": "markdown",
   "metadata": {},
   "source": [
    "### First Repeating Element\n",
    "\n",
    "#### Given an array arr[], find the first repeating element. The element should occur more than once and the index of its first occurrence should be the smallest.\n",
    "\n",
    "#### Note:- The position you return should be according to 1-based indexing. \n",
    "\n",
    "#### Examples:\n",
    "- Input: arr[] = [1, 5, 3, 4, 3, 5, 6]\n",
    "- Output: 2\n",
    "    - Explanation: 5 appears twice and its first appearance is at index 2 which is less than 3 whose first the occurring index is 3.\n",
    "\n",
    "- Input: arr[] = [1, 2, 3, 4]\n",
    "- Output: -1\n",
    "    - Explanation: All elements appear only once so answer is -1."
   ]
  },
  {
   "cell_type": "code",
   "execution_count": 8,
   "metadata": {},
   "outputs": [
    {
     "name": "stdout",
     "output_type": "stream",
     "text": [
      "2\n",
      "-1\n"
     ]
    }
   ],
   "source": [
    "#User function Template for python3\n",
    "\n",
    "def firstRepeated(arr):    \n",
    "    #arr : given array\n",
    "    #n : size of the array\n",
    "    ele_dict = {}\n",
    "    for i in range(0,len(arr)):\n",
    "        if arr[i] in ele_dict:\n",
    "            ele_dict[arr[i]]+=1\n",
    "        else:\n",
    "            ele_dict[arr[i]] = 1\n",
    "    #No traverse through the Array elemensts and to get the order\n",
    "    for i in range(len(arr)):\n",
    "        if ele_dict[arr[i]] > 1:\n",
    "            return i + 1\n",
    "    return -1        \n",
    "    \n",
    "\n",
    "\n",
    "arr = [1, 5, 3, 4, 3, 5, 6]\n",
    "print(firstRepeated(arr))\n",
    "arr = [1, 2, 3, 4]\n",
    "print(firstRepeated(arr))\n"
   ]
  }
 ],
 "metadata": {
  "kernelspec": {
   "display_name": "Env1",
   "language": "python",
   "name": "python3"
  },
  "language_info": {
   "codemirror_mode": {
    "name": "ipython",
    "version": 3
   },
   "file_extension": ".py",
   "mimetype": "text/x-python",
   "name": "python",
   "nbconvert_exporter": "python",
   "pygments_lexer": "ipython3",
   "version": "3.11.9"
  }
 },
 "nbformat": 4,
 "nbformat_minor": 2
}
