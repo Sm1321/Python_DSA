{
 "cells": [
  {
   "cell_type": "markdown",
   "metadata": {},
   "source": [
    "### Winner of an election\n",
    "\n",
    "#### Given an array of n names arr of candidates in an election, where each name is a string of lowercase characters. A candidate name in the array represents a vote casted to the candidate. Print the name of the candidate that received the maximum count of votes. If there is a draw between two candidates, then print lexicographically smaller name.\n",
    "\n",
    "##### Examples :\n",
    "- Input: n = 13\n",
    "- arr[] = {john,johnny,jackie,johnny,john,jackie,jamie,jamie,john,johnny,jamie,johnny,john}\n",
    "- Output: john 4\n",
    "\n",
    "Explanation: john has 4 votes casted for him, but so does johnny. john is lexicographically smaller, so we print john and the votes he received.\n",
    "\n",
    "- Input: n = 3\n",
    "- arr[] = {andy,blake,clark}\n",
    "- Output: Andy 1\n",
    "Explanation: All the candidates get 1 votes each. We print andy as it is lexicographically smaller.\n",
    "\n",
    "#### Your Task:\n",
    "You only need to complete the function winner() that takes an array of strings arr, and length of arr n as parameters and returns an array of string of length 2. First element of the array should be the name of the candidate and second element should be the number of votes that candidate got in string format."
   ]
  },
  {
   "cell_type": "code",
   "execution_count": 1,
   "metadata": {},
   "outputs": [
    {
     "name": "stdout",
     "output_type": "stream",
     "text": [
      "['john', '4']\n",
      "['andy', '1']\n"
     ]
    }
   ],
   "source": [
    "def winner(arr, n):\n",
    "    vote_count = {}  # Dictionary to store vote counts\n",
    "\n",
    "    # Count votes for each candidate\n",
    "    for name in arr:\n",
    "        if name in vote_count:\n",
    "            vote_count[name] += 1\n",
    "        else:\n",
    "            vote_count[name] = 1\n",
    "\n",
    "    # Find the candidate with maximum votes (and handle ties lexicographically)\n",
    "    max_votes = max(vote_count.values())  # Get max votes\n",
    "    candidates = [name for name, votes in vote_count.items() if votes == max_votes]\n",
    "\n",
    "    return [min(candidates), str(max_votes)]  # Lexicographically smallest name with max votes\n",
    "\n",
    "# Example usage:\n",
    "arr1 = [\"john\", \"johnny\", \"jackie\", \"johnny\", \"john\", \"jackie\", \"jamie\",\n",
    "        \"jamie\", \"john\", \"johnny\", \"jamie\", \"johnny\", \"john\"]\n",
    "n1 = len(arr1)\n",
    "\n",
    "arr2 = [\"andy\", \"blake\", \"clark\"]\n",
    "n2 = len(arr2)\n",
    "\n",
    "print(winner(arr1, n1))  # Output: ['john', '4']\n",
    "print(winner(arr2, n2))  # Output: ['andy', '1']\n"
   ]
  }
 ],
 "metadata": {
  "kernelspec": {
   "display_name": "Env1",
   "language": "python",
   "name": "python3"
  },
  "language_info": {
   "codemirror_mode": {
    "name": "ipython",
    "version": 3
   },
   "file_extension": ".py",
   "mimetype": "text/x-python",
   "name": "python",
   "nbconvert_exporter": "python",
   "pygments_lexer": "ipython3",
   "version": "3.11.9"
  }
 },
 "nbformat": 4,
 "nbformat_minor": 2
}
