{
 "cells": [
  {
   "cell_type": "markdown",
   "metadata": {},
   "source": [
    "## Longest Consecutive Subsequence"
   ]
  },
  {
   "cell_type": "markdown",
   "metadata": {},
   "source": [
    "##### Input: arr[] = {1, 9, 3, 10, 4, 20, 2}\n",
    "- Output: 4\n",
    "##### Explanation: The subsequence 1, 3, 4, 2 is the longest subsequence of consecutive elements\n",
    "\n",
    "##### Input: arr[] = {36, 41, 56, 35, 44, 33, 34, 92, 43, 32, 42}\n",
    "- Output: 5\n",
    "##### Explanation: The subsequence 36, 35, 33, 34, 32 is the longest subsequence of consecutive elements."
   ]
  },
  {
   "cell_type": "code",
   "execution_count": 1,
   "metadata": {},
   "outputs": [
    {
     "data": {
      "text/plain": [
       "4"
      ]
     },
     "execution_count": 1,
     "metadata": {},
     "output_type": "execute_result"
    }
   ],
   "source": [
    "from typing import List\n",
    "\n",
    "class Solution:\n",
    "    def longestConsecutive(self, nums: List[int]) -> int:\n",
    "        if not nums:\n",
    "            return 0\n",
    "\n",
    "        cons_set = set(nums)  # Convert list to set for O(1) lookups\n",
    "        longest = 0\n",
    "\n",
    "        for num in cons_set:\n",
    "            if num - 1 not in cons_set:  # Only check for the start of a sequence\n",
    "                curr_num = num\n",
    "                curr_streak = 1\n",
    "\n",
    "                while curr_num + 1 in cons_set:\n",
    "                    curr_num += 1\n",
    "                    curr_streak += 1  # Increase streak count\n",
    "\n",
    "                longest = max(longest, curr_streak)  # Store max sequence length\n",
    "\n",
    "        return longest\n",
    "### EX:-        \n",
    "nums = [100, 4, 200, 1, 3, 2]\n",
    "s = Solution()\n",
    "s.longestConsecutive(nums)\n"
   ]
  }
 ],
 "metadata": {
  "kernelspec": {
   "display_name": "base",
   "language": "python",
   "name": "python3"
  },
  "language_info": {
   "codemirror_mode": {
    "name": "ipython",
    "version": 3
   },
   "file_extension": ".py",
   "mimetype": "text/x-python",
   "name": "python",
   "nbconvert_exporter": "python",
   "pygments_lexer": "ipython3",
   "version": "3.12.7"
  }
 },
 "nbformat": 4,
 "nbformat_minor": 2
}
