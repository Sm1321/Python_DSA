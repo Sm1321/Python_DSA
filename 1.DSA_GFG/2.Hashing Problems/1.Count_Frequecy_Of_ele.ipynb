{
 "cells": [
  {
   "cell_type": "markdown",
   "metadata": {},
   "source": [
    "#### Count the Frequencies of the Elements"
   ]
  },
  {
   "cell_type": "markdown",
   "metadata": {},
   "source": [
    "- Use the Dictionary to store the Key : value pairs"
   ]
  },
  {
   "cell_type": "code",
   "execution_count": 1,
   "metadata": {},
   "outputs": [
    {
     "name": "stdout",
     "output_type": "stream",
     "text": [
      "10   2\n",
      "20   2\n",
      "30   1\n"
     ]
    }
   ],
   "source": [
    "def countFreq(arr, n):\n",
    "    hmp=dict()\n",
    "    for i in range(n):\n",
    "        if arr[i] in hmp.keys():\n",
    "            hmp[arr[i]]+=1 \n",
    "        else:\n",
    "            hmp[arr[i]]=1 \n",
    "    for x in hmp:\n",
    "        print(x, \" \", hmp[x])\n",
    "    \n",
    "    \n",
    "n=5\n",
    "arr=[10, 20, 20, 30, 10]\n",
    "countFreq(arr, n)"
   ]
  },
  {
   "cell_type": "code",
   "execution_count": null,
   "metadata": {},
   "outputs": [],
   "source": []
  }
 ],
 "metadata": {
  "kernelspec": {
   "display_name": "base",
   "language": "python",
   "name": "python3"
  },
  "language_info": {
   "codemirror_mode": {
    "name": "ipython",
    "version": 3
   },
   "file_extension": ".py",
   "mimetype": "text/x-python",
   "name": "python",
   "nbconvert_exporter": "python",
   "pygments_lexer": "ipython3",
   "version": "3.12.7"
  }
 },
 "nbformat": 4,
 "nbformat_minor": 2
}
