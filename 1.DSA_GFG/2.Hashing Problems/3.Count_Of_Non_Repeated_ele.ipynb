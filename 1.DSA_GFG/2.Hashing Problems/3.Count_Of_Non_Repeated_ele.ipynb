{
 "cells": [
  {
   "cell_type": "markdown",
   "metadata": {},
   "source": [
    "### Count Non-Repeated Elements\n",
    "\n",
    "#### You are given an array of integers arr[]. You need to print the count of non-repeated elements in the array.\n",
    "\n",
    "##### Example 1:\n",
    "- Input: arr[] = [1, 1, 2, 2, 3, 3, 4, 5, 6, 7]\n",
    "- Output: 4\n",
    "- Explanation: 4, 5, 6 and 7 are the elements with frequency 1 and rest elements are repeated so the number of non-repeated elements are 4.\n",
    "\n",
    "##### Input: arr[] = [10, 20, 30, 40, 10]\n",
    "- Output: 3\n",
    "- Explanation: 20, 30, 40 are the elements with the frequency 1 and 10 is the repeated element to number of non-repeated elements are 3."
   ]
  },
  {
   "cell_type": "code",
   "execution_count": 2,
   "metadata": {},
   "outputs": [
    {
     "data": {
      "text/plain": [
       "4"
      ]
     },
     "execution_count": 2,
     "metadata": {},
     "output_type": "execute_result"
    }
   ],
   "source": [
    "\n",
    "    \n",
    "#Complete this code\n",
    "#Function to return the count of non-repeated elements in the array.\n",
    "def countNonRepeated(arr):\n",
    "    #Your code here\n",
    "    non_rep_dict = dict()\n",
    "    #fill the Count in the dict\n",
    "    for i in range(0,len(arr)):\n",
    "        if arr[i] in non_rep_dict:\n",
    "            non_rep_dict[arr[i]]+=1\n",
    "        else:\n",
    "            non_rep_dict[arr[i]] = 1\n",
    "    ## \n",
    "    #check the elements  whcih are 1 count\n",
    "    count = 0\n",
    "    for ele in non_rep_dict.values():\n",
    "        if ele == 1:\n",
    "            count+=1\n",
    "    return count        \n",
    "                \n",
    "                \n",
    "                \n",
    "\n",
    "list1 = [1,1,2,2,3,3,4,5,6,7]\n",
    "countNonRepeated(list1)\n"
   ]
  }
 ],
 "metadata": {
  "kernelspec": {
   "display_name": "base",
   "language": "python",
   "name": "python3"
  },
  "language_info": {
   "codemirror_mode": {
    "name": "ipython",
    "version": 3
   },
   "file_extension": ".py",
   "mimetype": "text/x-python",
   "name": "python",
   "nbconvert_exporter": "python",
   "pygments_lexer": "ipython3",
   "version": "3.12.7"
  }
 },
 "nbformat": 4,
 "nbformat_minor": 2
}
