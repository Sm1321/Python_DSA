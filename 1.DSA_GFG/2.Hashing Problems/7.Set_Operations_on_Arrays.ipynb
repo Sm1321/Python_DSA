{
 "cells": [
  {
   "cell_type": "markdown",
   "metadata": {},
   "source": [
    "## Intersection of two arrays\n",
    "- Array elements are included with Duplicates in It."
   ]
  },
  {
   "cell_type": "code",
   "execution_count": 8,
   "metadata": {},
   "outputs": [
    {
     "name": "stdout",
     "output_type": "stream",
     "text": [
      "Intersection: [2, 3, 4, 5, 6]\n"
     ]
    }
   ],
   "source": [
    "def intersection(a,b,n,m):\n",
    "    i,j,k = 0 , 0 ,0\n",
    "    result = [0 for _ in range(n + m)]\n",
    "    while i < n and j < m :\n",
    "        if a[i] < b[j] :\n",
    "            i+=1\n",
    "        elif a[i] > b[j] :\n",
    "            j+=1\n",
    "        else:\n",
    "            if k!=0 and a[i] == result[k - 1]:\n",
    "                i+=1\n",
    "                j+=1\n",
    "            else:\n",
    "                result[k] = a[i]\n",
    "                i+=1\n",
    "                j+=1\n",
    "                k+=1\n",
    "    print(\"Intersection:\", result[:k])\n",
    "\n",
    "#Example:- \n",
    "a = [1,2,3,4,4,5,6]\n",
    "b = [2,3,4,5,5,6,7]\n",
    "intersection(a,b,len(a),len(b))    "
   ]
  },
  {
   "cell_type": "markdown",
   "metadata": {},
   "source": [
    "### Intersection of Array With distinct elements"
   ]
  },
  {
   "cell_type": "code",
   "execution_count": 9,
   "metadata": {},
   "outputs": [
    {
     "name": "stdout",
     "output_type": "stream",
     "text": [
      "Intersection: [2, 3, 4, 5, 6]\n"
     ]
    }
   ],
   "source": [
    "def intersection(a,b,n,m):\n",
    "    i,j,k = 0 , 0 ,0\n",
    "    result = [0 for _ in range(n + m)]\n",
    "    while i < n and j < m :\n",
    "        if a[i] < b[j] :\n",
    "            i+=1\n",
    "        elif a[i] > b[j] :\n",
    "            j+=1\n",
    "        else:\n",
    "            result[k] = a[i]\n",
    "            i+=1\n",
    "            j+=1\n",
    "            k+=1\n",
    "    print(\"Intersection:\", result[:k])\n",
    "\n",
    "#Example:- \n",
    "a = [1,2,3,4,4,5,6]\n",
    "b = [2,3,4,5,5,6,7]\n",
    "intersection(a,b,len(a),len(b))    "
   ]
  },
  {
   "cell_type": "markdown",
   "metadata": {},
   "source": [
    "- Using the set Method"
   ]
  },
  {
   "cell_type": "code",
   "execution_count": 14,
   "metadata": {},
   "outputs": [
    {
     "data": {
      "text/plain": [
       "(5, [2, 3, 4, 5, 6])"
      ]
     },
     "execution_count": 14,
     "metadata": {},
     "output_type": "execute_result"
    }
   ],
   "source": [
    "def intersection(arr1,m,arr2,n):\n",
    "    inters = set()\n",
    "    for i in range(m):\n",
    "        inters.add(arr1[i])\n",
    "\n",
    "    res = 0\n",
    "    ans = []\n",
    "    for i in range(n):\n",
    "        if arr2[i] in inters:\n",
    "            res+=1\n",
    "            ans.append(arr2[i])\n",
    "            inters.remove(arr2[i])\n",
    "    return res,ans\n",
    "\n",
    "#Example:- \n",
    "a = [1,2,3,4,4,5,6]\n",
    "b = [2,3,4,5,5,6,7]\n",
    "intersection(a,len(a),b,len(b))               "
   ]
  },
  {
   "cell_type": "markdown",
   "metadata": {},
   "source": [
    "### Intersection of Arrays with Distinct\n",
    "\n",
    "#### Given two unsorted integer arrays a[] and b[] each consisting of distinct elements, the task is to return the count of elements in the intersection (or common elements) of the two arrays.\n",
    "\n",
    "- Intersection of two arrays can be defined as the set containing distinct common elements between the two arrays. "
   ]
  },
  {
   "cell_type": "code",
   "execution_count": 16,
   "metadata": {},
   "outputs": [
    {
     "data": {
      "text/plain": [
       "1"
      ]
     },
     "execution_count": 16,
     "metadata": {},
     "output_type": "execute_result"
    }
   ],
   "source": [
    "class Solution:\n",
    "    def numberofElementsInIntersection(self, a, b):\n",
    "        # Use set to store unique elements from 'a'\n",
    "        interset_lst = set(a)\n",
    "        \n",
    "        # Find common elements\n",
    "        res = set()\n",
    "        for ele in b:\n",
    "            if ele in interset_lst:\n",
    "                res.add(ele)  # Use set to ensure uniqueness\n",
    "        \n",
    "        return len(res)  # Return count of distinct common elements\n",
    "\n",
    "\n",
    "A = Solution()\n",
    "#Example:- \n",
    "a = [89, 24, 75, 11, 23]\n",
    "b = [89, 2, 4]\n",
    "A.numberofElementsInIntersection(a,b)"
   ]
  },
  {
   "cell_type": "markdown",
   "metadata": {},
   "source": [
    "##### Union of Two Unsorted Arrays\n",
    "### First of all we sort both arrays and proceed as below:\n",
    " Union\n",
    "- Iterate in while loop until any one array is finished.\n",
    "- In each iteration we look for smaller in both arrays and we print it and increment its pointer only if it is not same as the last element printed in union.\n",
    "- After we finish while we iterate the remaining of two array in the similar way as above and print the union."
   ]
  },
  {
   "cell_type": "code",
   "execution_count": null,
   "metadata": {},
   "outputs": [],
   "source": []
  }
 ],
 "metadata": {
  "kernelspec": {
   "display_name": "Env1",
   "language": "python",
   "name": "python3"
  },
  "language_info": {
   "codemirror_mode": {
    "name": "ipython",
    "version": 3
   },
   "file_extension": ".py",
   "mimetype": "text/x-python",
   "name": "python",
   "nbconvert_exporter": "python",
   "pygments_lexer": "ipython3",
   "version": "3.11.9"
  }
 },
 "nbformat": 4,
 "nbformat_minor": 2
}
