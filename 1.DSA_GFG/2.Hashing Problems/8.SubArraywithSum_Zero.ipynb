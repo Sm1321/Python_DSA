{
 "cells": [
  {
   "cell_type": "markdown",
   "metadata": {},
   "source": [
    "## Subarray with Sum Zero"
   ]
  },
  {
   "cell_type": "code",
   "execution_count": 4,
   "metadata": {},
   "outputs": [
    {
     "name": "stdout",
     "output_type": "stream",
     "text": [
      "True\n",
      "True\n",
      "False\n",
      "True\n"
     ]
    }
   ],
   "source": [
    "def isZeroSum(arr):\n",
    "    n = len(arr)\n",
    "    pre_sum  = 0\n",
    "    h = set() #set \n",
    "    for i in range(0,n):\n",
    "        pre_sum+=arr[i]\n",
    "        if pre_sum == 0 or pre_sum in h:\n",
    "            return True \n",
    "        h.add(pre_sum)\n",
    "    return False \n",
    "\n",
    "\n",
    "## Example:-\n",
    "arr = [1,4,13,-3,-10,5]\n",
    "print(isZeroSum(arr))\n",
    "## Example:-\n",
    "arr = [-1,4,-3,5,1]\n",
    "print(isZeroSum(arr))\n",
    "## Example:-\n",
    "arr = [3,1,-2,5,6]\n",
    "print(isZeroSum(arr))\n",
    "## Example:-\n",
    "arr = [5,6,0,8]\n",
    "print(isZeroSum(arr))\n",
    "\n",
    "\n"
   ]
  },
  {
   "cell_type": "code",
   "execution_count": null,
   "metadata": {},
   "outputs": [],
   "source": []
  }
 ],
 "metadata": {
  "kernelspec": {
   "display_name": "Env1",
   "language": "python",
   "name": "python3"
  },
  "language_info": {
   "codemirror_mode": {
    "name": "ipython",
    "version": 3
   },
   "file_extension": ".py",
   "mimetype": "text/x-python",
   "name": "python",
   "nbconvert_exporter": "python",
   "pygments_lexer": "ipython3",
   "version": "3.11.9"
  }
 },
 "nbformat": 4,
 "nbformat_minor": 2
}
