{
 "cells": [
  {
   "cell_type": "markdown",
   "metadata": {},
   "source": [
    "### Length of the Longest Word\n",
    "- Problem Description:\n",
    "\n",
    "You are given a string s. Your task is to find the length of the longest word in the string. A word is defined as a sequence of characters separated by spaces. Do not use any built-in functions for string manipulation.\n",
    "\n",
    "\n",
    "\n",
    "Input:\n",
    "\n",
    "A string s, where the length of s is between 1 and 1000 characters.\n",
    "\n",
    "\n",
    "\n",
    "Output:\n",
    "\n",
    "An integer representing the length of the longest word in the string.\n",
    "\n",
    "\n",
    "\n",
    "Example:\n",
    "\n",
    "Input: s = \"The quick brown fox jumps over the lazy dog\"\n",
    "Output: 5\n",
    " \n",
    "Input: s = \"Hello World\"\n",
    "Output: 5\n"
   ]
  },
  {
   "cell_type": "code",
   "execution_count": null,
   "metadata": {
    "vscode": {
     "languageId": "plaintext"
    }
   },
   "outputs": [],
   "source": [
    "def longest_word_length(s):\n",
    "    \"\"\"\n",
    "    Function to find the length of the longest word in a string without using built-in functions.\n",
    "    \n",
    "    Parameters:\n",
    "    s (str): The input string.\n",
    "    \n",
    "    Returns:\n",
    "    int: The length of the longest word.\n",
    "    \"\"\"\n",
    "    # Your code here\n",
    "    max_len = 0\n",
    "    c_len = 0\n",
    "    n = len(s)\n",
    "    for i in range(0,n):\n",
    "        if(s[i]!=' '): #\n",
    "            c_len+=1\n",
    "        else:    \n",
    "            max_len = max(c_len,max_len)\n",
    "            c_len = 0\n",
    "    #Check at the end of loop\n",
    "    max_len = max(c_len,max_len)#bcz of last word may have the longest ,it will not come tp else part,bcz of no space on after that word\n",
    "    return max_len    \n",
    "    \n"
   ]
  }
 ],
 "metadata": {
  "language_info": {
   "name": "python"
  }
 },
 "nbformat": 4,
 "nbformat_minor": 2
}
