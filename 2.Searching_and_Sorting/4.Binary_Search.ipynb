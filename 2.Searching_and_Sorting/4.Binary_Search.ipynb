{
 "cells": [
  {
   "cell_type": "code",
   "execution_count": null,
   "metadata": {},
   "outputs": [],
   "source": []
  },
  {
   "cell_type": "markdown",
   "metadata": {},
   "source": [
    "### Binary Search Code - loop"
   ]
  },
  {
   "cell_type": "code",
   "execution_count": 1,
   "metadata": {},
   "outputs": [
    {
     "name": "stdout",
     "output_type": "stream",
     "text": [
      "Element found at index 3\n"
     ]
    }
   ],
   "source": [
    "def binary_search(arr, target):\n",
    "    left = 0\n",
    "    right = len(arr) - 1\n",
    "\n",
    "    while left <= right:\n",
    "        mid = (left + right) // 2\n",
    "\n",
    "        # Check if the target is present at mid\n",
    "        if arr[mid] == target:\n",
    "            return mid  # Return the index of the target\n",
    "\n",
    "        # If target is greater, ignore the left half\n",
    "        elif arr[mid] < target:\n",
    "            left = mid + 1\n",
    "\n",
    "        # If target is smaller, ignore the right half\n",
    "        else:\n",
    "            right = mid - 1\n",
    "\n",
    "    # Target is not present in the array\n",
    "    return -1\n",
    "\n",
    "# Example usage\n",
    "arr = [1, 3, 5, 7, 9, 11, 13, 15]\n",
    "target = 7\n",
    "result = binary_search(arr, target)\n",
    "\n",
    "if result != -1:\n",
    "    print(f\"Element found at index {result}\")\n",
    "else:\n",
    "    print(\"Element not found\")\n"
   ]
  },
  {
   "cell_type": "markdown",
   "metadata": {},
   "source": [
    "#### Lower Bound"
   ]
  },
  {
   "cell_type": "markdown",
   "metadata": {},
   "source": [
    "- Lower Bound \n",
    "- Ex: \n",
    " - [3,5,8,15,19,19,19]\n",
    " - x = 8 , o/p:- 2\n",
    " - x = 9 , o/p:- 3\n",
    " - x = 16 , o/p:- 4\n",
    " - x = 20 , o/p:- 5"
   ]
  },
  {
   "cell_type": "code",
   "execution_count": 15,
   "metadata": {},
   "outputs": [
    {
     "name": "stdout",
     "output_type": "stream",
     "text": [
      "Element found at index 3\n"
     ]
    }
   ],
   "source": [
    "def binary_search_lowerBound(arr, target):\n",
    "    left = 0\n",
    "    right = len(arr) - 1\n",
    "    ans = -1\n",
    "    while left <= right:\n",
    "        mid = (left + right) // 2\n",
    "        #if arr[mid] is greater ,the store that index and go right\n",
    "        if arr[mid] >= target:\n",
    "            right = mid - 1\n",
    "            ans = mid\n",
    "\n",
    "        # if not ,go for right\n",
    "        else:\n",
    "            left = mid + 1\n",
    "\n",
    "    # Return the answer \n",
    "    return ans\n",
    "\n",
    "# Example usage\n",
    "arr = [1, 3, 5, 7, 9, 11, 13, 15]\n",
    "target = 7\n",
    "result = binary_search_lowerBound(arr, target)\n",
    "\n",
    "if result != -1:\n",
    "    print(f\"Element found at index {result}\")\n",
    "else:\n",
    "    print(\"Element not found\")\n"
   ]
  },
  {
   "cell_type": "markdown",
   "metadata": {},
   "source": [
    "#### Upper Bound"
   ]
  },
  {
   "cell_type": "code",
   "execution_count": 5,
   "metadata": {},
   "outputs": [
    {
     "name": "stdout",
     "output_type": "stream",
     "text": [
      "Element found at index 4\n"
     ]
    }
   ],
   "source": [
    "def binary_search_lowerBound(arr, target):\n",
    "    left = 0\n",
    "    right = len(arr) - 1\n",
    "    ans = -1\n",
    "    while left <= right:\n",
    "        mid = (left + right) // 2\n",
    "        #if arr[mid] is greater ,the store that index and go right\n",
    "        if arr[mid] > target:\n",
    "            right = mid - 1\n",
    "            ans = mid\n",
    "\n",
    "        # if not ,go for right\n",
    "        else:\n",
    "            left = mid + 1\n",
    "\n",
    "    # Return the answer \n",
    "    return ans\n",
    "\n",
    "# Example usage\n",
    "arr = [1, 3, 5, 7, 9, 11, 13, 15]\n",
    "target = 7\n",
    "result = binary_search_lowerBound(arr, target)\n",
    "\n",
    "if result != -1:\n",
    "    print(f\"Element found at index {result}\")\n",
    "else:\n",
    "    print(\"Element not found\")\n"
   ]
  },
  {
   "cell_type": "code",
   "execution_count": 13,
   "metadata": {},
   "outputs": [
    {
     "name": "stdout",
     "output_type": "stream",
     "text": [
      "Element found at index 4\n",
      "Element found at index 7\n"
     ]
    }
   ],
   "source": [
    "def binary_search_UpperBound(arr, target):\n",
    "    left = 0\n",
    "    right = len(arr) - 1\n",
    "    ans = -1\n",
    "    while left <= right:\n",
    "        mid = (left + right) // 2\n",
    "        #if arr[mid] is greater ,the store that index and go right\n",
    "        if arr[mid] > target:\n",
    "            right = mid - 1\n",
    "            ans = mid #store it\n",
    "\n",
    "        # if not ,go for right\n",
    "        else:\n",
    "            left = mid + 1\n",
    "            \n",
    "\n",
    "    # Return the answer \n",
    "    return ans\n",
    "\n",
    "# Example usage\n",
    "arr = [1, 3, 5, 7, 9, 11, 13, 15]\n",
    "target = 7\n",
    "result = binary_search_UpperBound(arr, target)\n",
    "\n",
    "if result != -1:\n",
    "    print(f\"Element found at index {result}\")\n",
    "else:\n",
    "    print(\"Element not found\")\n",
    "\n",
    "\n",
    "# Example usage\n",
    "arr = [1,2,3,3,5,8,8,10,10,11]\n",
    "target = 9\n",
    "result = binary_search_lowerBound(arr, target)\n",
    "\n",
    "if result != -1:\n",
    "    print(f\"Element found at index {result}\")\n",
    "else:\n",
    "    print(\"Element not found\")    \n"
   ]
  },
  {
   "cell_type": "markdown",
   "metadata": {},
   "source": [
    "- UpperBound is smallest indx such that arr[indx] > x\n",
    "\n",
    "ex:-\n",
    "\n",
    "[2,3,6,7,8,8,11,11,11,12]\n",
    "\n",
    "n = 10\n",
    "\n",
    "\n",
    "i/p:-x = 6 ,o/p:- indx = 3\n",
    "\n",
    "\n",
    "i/p:- x = 12,o/p:- indx = 10\n",
    "\n",
    "\n",
    "i/p:- x = 13,o/p:- indx = 10\n",
    "\n",
    "\n",
    "i/p:- x = 0,o/p:- indx = 0\n",
    "\n",
    "\n",
    "i/p:- x = 11,o/p:- indx = 9"
   ]
  },
  {
   "cell_type": "code",
   "execution_count": null,
   "metadata": {},
   "outputs": [],
   "source": []
  },
  {
   "cell_type": "markdown",
   "metadata": {},
   "source": [
    "## Find the Floor and the Ceil Value"
   ]
  },
  {
   "cell_type": "code",
   "execution_count": 22,
   "metadata": {},
   "outputs": [
    {
     "name": "stdout",
     "output_type": "stream",
     "text": [
      "The floor and ceil are: 4 7\n"
     ]
    }
   ],
   "source": [
    "def findFloor(arr, n, x):\n",
    "    low = 0\n",
    "    high = n - 1\n",
    "    ans = -1\n",
    "\n",
    "    while low <= high:\n",
    "        mid = (low + high) // 2\n",
    "        # Check if arr[mid] is less than or equal to x\n",
    "        if arr[mid] <= x:\n",
    "            ans = arr[mid]  # This might be the floor\n",
    "            low = mid + 1  # Look for a larger value on the right\n",
    "        else:\n",
    "            high = mid - 1  # Look for a smaller value on the left\n",
    "\n",
    "    return ans\n",
    "\n",
    "def findCeil(arr, n, x):\n",
    "    low = 0\n",
    "    high = n - 1\n",
    "    ans = -1\n",
    "\n",
    "    while low <= high:\n",
    "        mid = (low + high) // 2\n",
    "        # Check if arr[mid] is greater than or equal to x\n",
    "        if arr[mid] >= x:\n",
    "            ans = arr[mid]  # This might be the ceil\n",
    "            high = mid - 1  # Look for a smaller value on the left\n",
    "        else:\n",
    "            low = mid + 1  # Look for a larger value on the right\n",
    "\n",
    "    return ans\n",
    "\n",
    "def getFloorAndCeil(arr, n, x):\n",
    "    f = findFloor(arr, n, x)\n",
    "    c = findCeil(arr, n, x)\n",
    "    return (f, c)\n",
    "\n",
    "# Example usage\n",
    "arr = [3, 4, 4, 7, 8, 10]\n",
    "n = 6\n",
    "x = 5\n",
    "ans = getFloorAndCeil(arr, n, x)\n",
    "print(\"The floor and ceil are:\", ans[0], ans[1])\n"
   ]
  },
  {
   "cell_type": "markdown",
   "metadata": {},
   "source": [
    "- Using one Loop"
   ]
  },
  {
   "cell_type": "code",
   "execution_count": 24,
   "metadata": {},
   "outputs": [
    {
     "name": "stdout",
     "output_type": "stream",
     "text": [
      "The floor and ceil are: 4 7\n",
      "The floor and ceil are: 20 30\n"
     ]
    }
   ],
   "source": [
    "def findFloorAndCeil(arr, n, x):\n",
    "    low = 0\n",
    "    high = n - 1\n",
    "    floor = -1\n",
    "    ceil = -1\n",
    "\n",
    "    while low <= high:\n",
    "        mid = (low + high) // 2\n",
    "        \n",
    "        # Check if the mid element is equal to x\n",
    "        if arr[mid] == x:\n",
    "            return (arr[mid], arr[mid])  # Both floor and ceil are the same\n",
    "\n",
    "        # If arr[mid] is less than x, it's a candidate for the floor\n",
    "        if arr[mid] < x:\n",
    "            floor = arr[mid]  # Update floor\n",
    "            low = mid + 1  # Look for a larger floor\n",
    "        else:\n",
    "            ceil = arr[mid]  # Update ceil\n",
    "            high = mid - 1  # Look for a smaller ceil\n",
    "\n",
    "    return (floor, ceil)\n",
    "\n",
    "# Example usage\n",
    "arr = [3, 4, 4, 7, 8, 10]\n",
    "n = 6\n",
    "x = 5\n",
    "ans = findFloorAndCeil(arr, n, x)\n",
    "print(\"The floor and ceil are:\", ans[0], ans[1])\n",
    "\n",
    "\n",
    "# Example usage\n",
    "arr = [10,20,30,40,50]\n",
    "n = 5\n",
    "x = 25\n",
    "ans = getFloorAndCeil(arr, n, x)\n",
    "print(\"The floor and ceil are:\", ans[0], ans[1])\n"
   ]
  }
 ],
 "metadata": {
  "kernelspec": {
   "display_name": "Python 3",
   "language": "python",
   "name": "python3"
  },
  "language_info": {
   "codemirror_mode": {
    "name": "ipython",
    "version": 3
   },
   "file_extension": ".py",
   "mimetype": "text/x-python",
   "name": "python",
   "nbconvert_exporter": "python",
   "pygments_lexer": "ipython3",
   "version": "3.12.5"
  }
 },
 "nbformat": 4,
 "nbformat_minor": 2
}
