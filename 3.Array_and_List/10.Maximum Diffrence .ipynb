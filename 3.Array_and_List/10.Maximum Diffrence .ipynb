{
 "cells": [
  {
   "cell_type": "code",
   "execution_count": null,
   "metadata": {},
   "outputs": [],
   "source": []
  },
  {
   "cell_type": "markdown",
   "metadata": {},
   "source": [
    "### Maximum Difference Problem with Order !!!\n",
    "\n",
    "Our Task: Given an array arr[] of integers, find out the maximum difference between any two elements such that the larger element appears after the smaller number. \n",
    "\n",
    "\n",
    " \n",
    "Examples : \n",
    "\n",
    "Input : arr = {2, 3, 10, 6, 4, 8, 1}\n",
    "Output : 8\n",
    "Explanation : The maximum difference is between 10 and 2.\n",
    "\n",
    "Input : arr = {7, 9, 5, 6, 3, 2}\n",
    "Output : 2\n",
    "Explanation : The maximum difference is between 9 and 7."
   ]
  },
  {
   "cell_type": "code",
   "execution_count": 10,
   "metadata": {},
   "outputs": [
    {
     "data": {
      "text/plain": [
       "10"
      ]
     },
     "execution_count": 10,
     "metadata": {},
     "output_type": "execute_result"
    }
   ],
   "source": [
    "def max_difffence_naive(lst):\n",
    "    n = len(lst)\n",
    "    res = lst[1] - lst[0]\n",
    "    for i in range(0,n-1):\n",
    "        for j in range(i+1,n):\n",
    "            res = max(res,lst[j]-lst[i])\n",
    "    return res \n",
    "\n",
    "\n",
    "\n",
    "\n",
    "######\n",
    "max_difffence_naive([2,3,10,6,4,1,11])\n"
   ]
  },
  {
   "cell_type": "code",
   "execution_count": 13,
   "metadata": {},
   "outputs": [
    {
     "data": {
      "text/plain": [
       "10"
      ]
     },
     "execution_count": 13,
     "metadata": {},
     "output_type": "execute_result"
    }
   ],
   "source": [
    "def max_difffence_efficient(lst):\n",
    "    n = len(lst)\n",
    "    min_value = lst[0]\n",
    "    res = lst[1] - lst[0]\n",
    "    for i in range(0,n):\n",
    "        res = max(res,lst[i] - min_value )\n",
    "        min_value = min(min_value,lst[i])\n",
    "\n",
    "    return res\n",
    "\n",
    "\n",
    "###\n",
    "max_difffence_efficient([2,3,10,6,4,1,11])"
   ]
  },
  {
   "cell_type": "code",
   "execution_count": null,
   "metadata": {},
   "outputs": [],
   "source": []
  }
 ],
 "metadata": {
  "kernelspec": {
   "display_name": "Python 3",
   "language": "python",
   "name": "python3"
  },
  "language_info": {
   "codemirror_mode": {
    "name": "ipython",
    "version": 3
   },
   "file_extension": ".py",
   "mimetype": "text/x-python",
   "name": "python",
   "nbconvert_exporter": "python",
   "pygments_lexer": "ipython3",
   "version": "3.12.5"
  }
 },
 "nbformat": 4,
 "nbformat_minor": 2
}
