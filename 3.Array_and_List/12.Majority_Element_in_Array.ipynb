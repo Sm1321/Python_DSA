{
 "cells": [
  {
   "cell_type": "code",
   "execution_count": null,
   "metadata": {},
   "outputs": [],
   "source": []
  },
  {
   "cell_type": "markdown",
   "metadata": {},
   "source": [
    "##### Majority Element !!!\n",
    "\n",
    "Our Task: \n",
    "- Find the majority element in the array. A majority element in an array A[] of size n is an element that appears more than n/2 times (and hence there is at most one such element). \n",
    "\n",
    "\n",
    "What is a majority element?\n",
    "\n",
    "A majority element in an array A[] of size n is an element that appears more than n/2 times (and hence there is at most one such element). \n",
    "\n",
    "\n",
    " \n",
    "Examples : \n",
    "\n",
    "Input : {3, 3, 4, 2, 4, 4, 2, 4, 4}\n",
    "\n",
    "Output : 4\n",
    "\n",
    "Explanation: The frequency of 4 is 5 which is greater than the half of the size of the array size. \n",
    "\n",
    "Input : {3, 3, 4, 2, 4, 4, 2, 4}\n",
    "\n",
    "Output : No Majority Element\n",
    "\n",
    "Explanation: There is no element whose frequency is greater than the half of the size of the array size.\n",
    "\n",
    " "
   ]
  },
  {
   "cell_type": "code",
   "execution_count": 8,
   "metadata": {},
   "outputs": [
    {
     "name": "stdout",
     "output_type": "stream",
     "text": [
      "None\n",
      "4\n",
      "6\n",
      "8\n"
     ]
    }
   ],
   "source": [
    "def Majority_approch_1(lst):\n",
    "    n = len(lst)\n",
    "    start = 0\n",
    "    end = n - 1\n",
    "    lst.sort() # sorting the lst -> O(nlogn) \n",
    "    target = None\n",
    "    mid = start - end // 2\n",
    "    if((lst[mid] == lst[mid+1]) |( lst[mid]==lst[mid-1])):#if it majority definetly it will be near by mid \n",
    "        target = lst[mid]\n",
    "    if(target):#check if the ,target is there, if yes then we count that elemant and check if that is (n//2) greater\n",
    "        count = 0\n",
    "        for x in lst:\n",
    "            if(x == target):\n",
    "                count+=1\n",
    "    if(count > (n//2)):\n",
    "        return target                \n",
    "    return \"None\"\n",
    "## This Fails,in case of second Example \n",
    "\n",
    "\n",
    "print(Majority_approch_1([3,3,4,2,4,4,2,4]))  \n",
    "print(Majority_approch_1([3, 3, 4, 2, 4, 4, 2, 4, 4])) \n",
    "print(Majority_approch_1([8,8,6,6,6,4,6])) \n",
    "print(Majority_approch_1([6,8,4,8,8]))\n",
    "#This approch will taek nlogn Time ......."
   ]
  },
  {
   "cell_type": "code",
   "execution_count": null,
   "metadata": {},
   "outputs": [],
   "source": []
  },
  {
   "cell_type": "code",
   "execution_count": null,
   "metadata": {},
   "outputs": [],
   "source": []
  },
  {
   "cell_type": "code",
   "execution_count": null,
   "metadata": {},
   "outputs": [],
   "source": []
  },
  {
   "cell_type": "code",
   "execution_count": null,
   "metadata": {},
   "outputs": [],
   "source": []
  }
 ],
 "metadata": {
  "kernelspec": {
   "display_name": "Python 3",
   "language": "python",
   "name": "python3"
  },
  "language_info": {
   "codemirror_mode": {
    "name": "ipython",
    "version": 3
   },
   "file_extension": ".py",
   "mimetype": "text/x-python",
   "name": "python",
   "nbconvert_exporter": "python",
   "pygments_lexer": "ipython3",
   "version": "3.12.5"
  }
 },
 "nbformat": 4,
 "nbformat_minor": 2
}
