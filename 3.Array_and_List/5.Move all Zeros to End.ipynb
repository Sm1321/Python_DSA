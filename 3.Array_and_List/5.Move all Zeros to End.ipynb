{
 "cells": [
  {
   "cell_type": "code",
   "execution_count": null,
   "metadata": {},
   "outputs": [],
   "source": []
  },
  {
   "cell_type": "markdown",
   "metadata": {},
   "source": [
    "#### Move All the Zeros to the End\n",
    "\n",
    "\n",
    "Our Task: \n",
    "- Given a sorted array, the task is to remove the duplicate elements from the array.\n",
    "\n",
    "\n",
    " \n",
    "Examples: \n",
    "\n",
    "Input: arr[]  = {1, 2, 0, 0, 0, 3, 6}\n",
    "\n",
    "Output: 1 2 3 6 0 0 0\n",
    "\n",
    "Input: arr[] = {0, 1, 9, 8, 4, 0, 0, 2, 7, 0, 6, 0, 9}\n",
    "\n",
    "Output: 1 9 8 4 2 7 6 9 0 0 0 0 0\n"
   ]
  },
  {
   "cell_type": "code",
   "execution_count": 12,
   "metadata": {},
   "outputs": [
    {
     "name": "stdout",
     "output_type": "stream",
     "text": [
      "[1, 2, 6, 3, 0, 0, 0]\n"
     ]
    }
   ],
   "source": [
    "####\n",
    "def Move_zeros_naiveapproch(lst):\n",
    "    n = len(lst)\n",
    "    for i in range(0,n):\n",
    "      if(lst[i]== 0):#Check if it is zero\n",
    "        for j in range(i + 1,n):\n",
    "            if(lst[j]!=0):#check again ,to save the swaps\n",
    "              lst[i],lst[j] = lst[j],lst[i]\n",
    "\n",
    "    return lst          \n",
    "\n",
    "\n",
    "print(Move_zeros_naiveapproch([1,2,0,0,0,3,6]))\n"
   ]
  },
  {
   "cell_type": "code",
   "execution_count": null,
   "metadata": {},
   "outputs": [],
   "source": []
  }
 ],
 "metadata": {
  "kernelspec": {
   "display_name": "Python 3",
   "language": "python",
   "name": "python3"
  },
  "language_info": {
   "codemirror_mode": {
    "name": "ipython",
    "version": 3
   },
   "file_extension": ".py",
   "mimetype": "text/x-python",
   "name": "python",
   "nbconvert_exporter": "python",
   "pygments_lexer": "ipython3",
   "version": "3.12.5"
  }
 },
 "nbformat": 4,
 "nbformat_minor": 2
}
