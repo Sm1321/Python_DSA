{
 "cells": [
  {
   "cell_type": "code",
   "execution_count": null,
   "metadata": {},
   "outputs": [],
   "source": []
  },
  {
   "cell_type": "markdown",
   "metadata": {},
   "source": [
    "### Rotate the lsit by one postion\n",
    "\n",
    "ex:-\n",
    "\n",
    " l = [10,20,30,40]\n",
    "\n",
    "\n",
    " o/p:- [20,30,40,10]\n",
    "\n"
   ]
  },
  {
   "cell_type": "code",
   "execution_count": 1,
   "metadata": {},
   "outputs": [
    {
     "name": "stdout",
     "output_type": "stream",
     "text": [
      "[2, 3, 4, 1]\n"
     ]
    }
   ],
   "source": [
    "def rotateByOne(lst):\n",
    "    n  = len(lst)\n",
    "    x = lst[0]\n",
    "    for i in range(1,n):\n",
    "        lst[i-1] = lst[i]\n",
    "    #Now place the first elemenet it into the last postion\n",
    "    lst[n-1] = x \n",
    "    return lst  \n",
    "\n",
    "\n",
    "print(rotateByOne([1,2,3,4]))\n"
   ]
  },
  {
   "cell_type": "code",
   "execution_count": null,
   "metadata": {},
   "outputs": [],
   "source": []
  },
  {
   "cell_type": "markdown",
   "metadata": {},
   "source": [
    "### Rotate the Array by 'D' Positions\n",
    "\n",
    "-> ex:- l = [1,2,3,4,5]\n",
    "       d = 2\n",
    "\n",
    "output:-\n",
    "  l = [3,4,5,1,2]           "
   ]
  },
  {
   "cell_type": "code",
   "execution_count": 3,
   "metadata": {},
   "outputs": [
    {
     "name": "stdout",
     "output_type": "stream",
     "text": [
      "[3, 4, 5, 1, 2]\n"
     ]
    }
   ],
   "source": [
    "###Left Rotate by 'D' Places\n",
    "\n",
    "d = 2\n",
    "lst2 = [1,2,3,4,5]\n",
    "for i in range(0,d):\n",
    "    rotateByOne(lst2)\n",
    "\n",
    "\n",
    "\n",
    "print(lst2)    \n",
    "\n"
   ]
  },
  {
   "cell_type": "code",
   "execution_count": 7,
   "metadata": {},
   "outputs": [
    {
     "name": "stdout",
     "output_type": "stream",
     "text": [
      "[3, 4, 5, 1, 2]\n"
     ]
    }
   ],
   "source": [
    "###Usig append() and pop()---->Method\n",
    "\n",
    "def leftRotate(l,d):\n",
    "    for i in range(0,d):\n",
    "        l.append(l.pop(0))\n",
    "    return l    \n",
    "\n",
    "\n",
    "lst2 = [1,2,3,4,5]\n",
    "print(leftRotate(lst2,2))       \n",
    "\n",
    "### O(n*d)->Time"
   ]
  },
  {
   "cell_type": "code",
   "execution_count": 8,
   "metadata": {},
   "outputs": [
    {
     "name": "stdout",
     "output_type": "stream",
     "text": [
      "[3, 4, 5, 1, 2]\n"
     ]
    }
   ],
   "source": [
    "### Effiecinet Solution\n",
    "def leftRotate_efficient(lst,d):\n",
    "    n = len(lst)\n",
    "    if d==0:\n",
    "        return lst \n",
    "    reverse(lst,0,d-1)\n",
    "    reverse(lst,d,n-1)\n",
    "    reverse(lst,0,n-1)\n",
    "    return lst\n",
    "\n",
    "def reverse(l,b,e):\n",
    "    while b<e:\n",
    "        l[b],l[e] = l[e],l[b]\n",
    "        b = b + 1\n",
    "        e = e - 1\n",
    "\n",
    "\n",
    "print(leftRotate_efficient([1,2,3,4,5],2))            "
   ]
  },
  {
   "cell_type": "code",
   "execution_count": null,
   "metadata": {},
   "outputs": [],
   "source": []
  }
 ],
 "metadata": {
  "kernelspec": {
   "display_name": "Python 3",
   "language": "python",
   "name": "python3"
  },
  "language_info": {
   "codemirror_mode": {
    "name": "ipython",
    "version": 3
   },
   "file_extension": ".py",
   "mimetype": "text/x-python",
   "name": "python",
   "nbconvert_exporter": "python",
   "pygments_lexer": "ipython3",
   "version": "3.12.5"
  }
 },
 "nbformat": 4,
 "nbformat_minor": 2
}
