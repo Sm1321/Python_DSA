{
 "cells": [
  {
   "cell_type": "code",
   "execution_count": null,
   "metadata": {},
   "outputs": [],
   "source": []
  },
  {
   "cell_type": "markdown",
   "metadata": {},
   "source": [
    "\n",
    "'''\n",
    "Plus One in the Number\n",
    "Asked in Companies:\n",
    "\n",
    "Google\n",
    "\n",
    "Amazon\n",
    "\n",
    "Microsoft\n",
    "\n",
    "Facebook\n",
    "\n",
    "\n",
    "\n",
    "Description:\n",
    "You are given a large integer represented as an integer array digits, where each digits[i] is the i-th digit of the integer. The digits are ordered from most significant to least significant in left-to-right order. The large integer does not contain any leading zeroes.\n",
    "\n",
    "Write a function to increment the large integer by one and return the resulting array of digits.\n",
    "\n",
    "\n",
    "\n",
    "Input Parameters:\n",
    "\n",
    "digits (List[int]): A list of integers where each integer represents a digit of a large number.\n",
    "\n",
    "Output:\n",
    "\n",
    "List[int]: The list representing the number after incrementing it by one.\n",
    "\n",
    "\n",
    "\n",
    "Example:\n",
    "\n",
    "Input: digits = [1, 2, 3]\n",
    "Output: [1, 2, 4]\n",
    " \n",
    "Input: digits = [4, 3, 2, 1]\n",
    "Output: [4, 3, 2, 2]\n",
    " \n",
    "Input: digits = [9, 9, 9]\n",
    "Output: [1, 0, 0, 0]\n",
    "'''\n",
    "\n",
    "\n",
    "\n",
    "\n",
    "          \n",
    "          \n",
    "          \n",
    "\n",
    "\n"
   ]
  },
  {
   "cell_type": "code",
   "execution_count": 1,
   "metadata": {},
   "outputs": [
    {
     "ename": "TypeError",
     "evalue": "object of type 'int' has no len()",
     "output_type": "error",
     "traceback": [
      "\u001b[1;31m---------------------------------------------------------------------------\u001b[0m",
      "\u001b[1;31mTypeError\u001b[0m                                 Traceback (most recent call last)",
      "Cell \u001b[1;32mIn[1], line 20\u001b[0m\n\u001b[0;32m     17\u001b[0m         \u001b[38;5;28;01mif\u001b[39;00m(i\u001b[38;5;241m==\u001b[39m \u001b[38;5;241m0\u001b[39m):\u001b[38;5;66;03m#if it raches index 0\u001b[39;00m\n\u001b[0;32m     18\u001b[0m           \u001b[38;5;28;01mreturn\u001b[39;00m [\u001b[38;5;241m1\u001b[39m]\u001b[38;5;241m+\u001b[39mdigits\n\u001b[1;32m---> 20\u001b[0m \u001b[38;5;28mprint\u001b[39m(\u001b[43mplus_one\u001b[49m\u001b[43m(\u001b[49m\u001b[38;5;241;43m123\u001b[39;49m\u001b[43m)\u001b[49m)\n\u001b[0;32m     21\u001b[0m \u001b[38;5;28mprint\u001b[39m(\u001b[38;5;124m'\u001b[39m\u001b[38;5;124m--\u001b[39m\u001b[38;5;124m'\u001b[39m\u001b[38;5;241m*\u001b[39m\u001b[38;5;241m10\u001b[39m)\n\u001b[0;32m     22\u001b[0m \u001b[38;5;28mprint\u001b[39m(plus_one(\u001b[38;5;241m999\u001b[39m))        \n",
      "Cell \u001b[1;32mIn[1], line 8\u001b[0m, in \u001b[0;36mplus_one\u001b[1;34m(digits)\u001b[0m\n\u001b[0;32m      2\u001b[0m \u001b[38;5;250m\u001b[39m\u001b[38;5;124;03m\"\"\"\u001b[39;00m\n\u001b[0;32m      3\u001b[0m \u001b[38;5;124;03mFunction to increment a large integer represented as a list of digits by one.\u001b[39;00m\n\u001b[0;32m      4\u001b[0m \u001b[38;5;124;03m:param digits: List[int] -> List of digits representing the large integer\u001b[39;00m\n\u001b[0;32m      5\u001b[0m \u001b[38;5;124;03m:return: List[int] -> The list representing the integer after incrementing\u001b[39;00m\n\u001b[0;32m      6\u001b[0m \u001b[38;5;124;03m\"\"\"\u001b[39;00m\n\u001b[0;32m      7\u001b[0m \u001b[38;5;66;03m# TODO: Implement this function\u001b[39;00m\n\u001b[1;32m----> 8\u001b[0m n \u001b[38;5;241m=\u001b[39m \u001b[38;5;28;43mlen\u001b[39;49m\u001b[43m(\u001b[49m\u001b[43mdigits\u001b[49m\u001b[43m)\u001b[49m\n\u001b[0;32m      9\u001b[0m \u001b[38;5;28;01mfor\u001b[39;00m i \u001b[38;5;129;01min\u001b[39;00m \u001b[38;5;28mrange\u001b[39m(n\u001b[38;5;241m-\u001b[39m\u001b[38;5;241m1\u001b[39m,\u001b[38;5;241m-\u001b[39m\u001b[38;5;241m1\u001b[39m,\u001b[38;5;241m-\u001b[39m\u001b[38;5;241m1\u001b[39m):\n\u001b[0;32m     10\u001b[0m     \u001b[38;5;28;01mif\u001b[39;00m((digits[i]\u001b[38;5;241m+\u001b[39m\u001b[38;5;241m1\u001b[39m) \u001b[38;5;241m!=\u001b[39m\u001b[38;5;241m10\u001b[39m):\n",
      "\u001b[1;31mTypeError\u001b[0m: object of type 'int' has no len()"
     ]
    }
   ],
   "source": [
    "def plus_one(digits):\n",
    "    \"\"\"\n",
    "    Function to increment a large integer represented as a list of digits by one.\n",
    "    :param digits: List[int] -> List of digits representing the large integer\n",
    "    :return: List[int] -> The list representing the integer after incrementing\n",
    "    \"\"\"\n",
    "    # TODO: Implement this function\n",
    "    n = len(digits)\n",
    "    for i in range(n-1,-1,-1):\n",
    "        if((digits[i]+1) !=10):\n",
    "            digits[i]+=1 \n",
    "            return digits    \n",
    "        #menas the digit is 9\n",
    "        digits[i] = 0\n",
    "        \n",
    "        \n",
    "        if(i== 0):#if it raches index 0\n",
    "          return [1]+digits\n",
    "        \n",
    "print(plus_one([1,2,3]))\n",
    "print('--'*10)\n",
    "print(plus_one([9,9,9]))        "
   ]
  },
  {
   "cell_type": "code",
   "execution_count": null,
   "metadata": {},
   "outputs": [],
   "source": []
  },
  {
   "cell_type": "code",
   "execution_count": null,
   "metadata": {},
   "outputs": [],
   "source": []
  }
 ],
 "metadata": {
  "kernelspec": {
   "display_name": "Python 3",
   "language": "python",
   "name": "python3"
  },
  "language_info": {
   "codemirror_mode": {
    "name": "ipython",
    "version": 3
   },
   "file_extension": ".py",
   "mimetype": "text/x-python",
   "name": "python",
   "nbconvert_exporter": "python",
   "pygments_lexer": "ipython3",
   "version": "3.12.5"
  }
 },
 "nbformat": 4,
 "nbformat_minor": 2
}
