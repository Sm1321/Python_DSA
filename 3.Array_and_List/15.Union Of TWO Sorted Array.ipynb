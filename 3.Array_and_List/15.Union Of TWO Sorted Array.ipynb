{
 "cells": [
  {
   "cell_type": "code",
   "execution_count": null,
   "metadata": {},
   "outputs": [],
   "source": []
  },
  {
   "cell_type": "markdown",
   "metadata": {},
   "source": [
    "#### Union of Two Sorted Arrays\n",
    "\n",
    "Given two sorted arrays of size n and m respectively, find their union. The Union of two arrays can be defined as the common and distinct elements in the two arrays. Return the elements in sorted order.\n",
    "\n",
    "Example 1:\n",
    "\n",
    "Input:\n",
    "\n",
    "n = 5, arr1[] = {1, 2, 3, 4, 5} \n",
    "\n",
    "m = 5, arr2 [] = {1, 2, 3, 6, 7}\n",
    "\n",
    "Output: \n",
    "1 2 3 4 5 6 7\n",
    "\n",
    "\n",
    "\n",
    "Input: \n",
    "\n",
    "n = 5, arr1[] = {2, 2, 3, 4, 5}  \n",
    "\n",
    "m = 5, arr2[] = {1, 1, 2, 3, 4}\n",
    "\n",
    "Output: \n",
    "1 2 3 4 5\n",
    "\n",
    "\n",
    "Input:\n",
    "\n",
    "n = 5, arr1[] = {1, 1, 1, 1, 1}\n",
    "\n",
    "m = 5, arr2[] = {2, 2, 2, 2, 2}\n",
    "Output: \n",
    "1 2\n"
   ]
  },
  {
   "cell_type": "code",
   "execution_count": 1,
   "metadata": {},
   "outputs": [
    {
     "name": "stdout",
     "output_type": "stream",
     "text": [
      "[1, 2, 3, 4, 5, 6]\n"
     ]
    }
   ],
   "source": [
    "class Solution:\n",
    "    \n",
    "    # Function to return a list containing the union of the two arrays.\n",
    "    def findUnion(self, arr1, arr2, n, m):\n",
    "        '''\n",
    "        :param arr1: given sorted array arr1\n",
    "        :param n: size of sorted array arr1\n",
    "        :param arr2: given sorted array arr2\n",
    "        :param m: size of sorted array arr2\n",
    "        :return: The union of both arrays as a list\n",
    "        '''\n",
    "        # Initialize the union array\n",
    "        union_arr = []\n",
    "        \n",
    "        i = 0  # Pointer for arr1\n",
    "        j = 0  # Pointer for arr2\n",
    "        \n",
    "        # Traverse both arrays\n",
    "        while i < n and j < m:\n",
    "            # Add the smaller element and avoid duplicates\n",
    "            if arr1[i] < arr2[j]:\n",
    "                if len(union_arr) == 0 or union_arr[-1] != arr1[i]:\n",
    "                    union_arr.append(arr1[i])\n",
    "                i += 1\n",
    "            elif arr1[i] > arr2[j]:\n",
    "                if len(union_arr) == 0 or union_arr[-1] != arr2[j]:\n",
    "                    union_arr.append(arr2[j])\n",
    "                j += 1\n",
    "            else:  # Both elements are equal\n",
    "                if len(union_arr) == 0 or union_arr[-1] != arr1[i]:\n",
    "                    union_arr.append(arr1[i])\n",
    "                i += 1\n",
    "                j += 1\n",
    "\n",
    "        # Add remaining elements of arr1\n",
    "        while i < n:\n",
    "            if len(union_arr) == 0 or union_arr[-1] != arr1[i]:\n",
    "                union_arr.append(arr1[i])\n",
    "            i += 1\n",
    "\n",
    "        # Add remaining elements of arr2\n",
    "        while j < m:\n",
    "            if len(union_arr) == 0 or union_arr[-1] != arr2[j]:\n",
    "                union_arr.append(arr2[j])\n",
    "            j += 1\n",
    "\n",
    "        return union_arr\n",
    "\n",
    "# Example Usage\n",
    "solution = Solution()\n",
    "arr1 = [1, 2, 3, 4]\n",
    "arr2 = [3, 4, 5, 6]\n",
    "result = solution.findUnion(arr1, arr2, len(arr1), len(arr2))\n",
    "print(result)  # Output: [1, 2, 3, 4, 5, 6]\n"
   ]
  },
  {
   "cell_type": "code",
   "execution_count": null,
   "metadata": {},
   "outputs": [],
   "source": []
  },
  {
   "cell_type": "code",
   "execution_count": null,
   "metadata": {},
   "outputs": [],
   "source": []
  }
 ],
 "metadata": {
  "kernelspec": {
   "display_name": "Python 3",
   "language": "python",
   "name": "python3"
  },
  "language_info": {
   "codemirror_mode": {
    "name": "ipython",
    "version": 3
   },
   "file_extension": ".py",
   "mimetype": "text/x-python",
   "name": "python",
   "nbconvert_exporter": "python",
   "pygments_lexer": "ipython3",
   "version": "3.12.5"
  }
 },
 "nbformat": 4,
 "nbformat_minor": 2
}
