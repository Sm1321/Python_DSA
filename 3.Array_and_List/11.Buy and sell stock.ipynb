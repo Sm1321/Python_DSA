{
 "cells": [
  {
   "cell_type": "code",
   "execution_count": null,
   "metadata": {},
   "outputs": [],
   "source": []
  },
  {
   "cell_type": "markdown",
   "metadata": {},
   "source": [
    "### Stock Buy and Sell Problem !!!\n",
    "\n",
    "Our Task: The cost of a stock on each day is given in an array. Find the maximum profit that you can make by buying and selling on those days. If the given array of prices is sorted in decreasing order, then profit cannot be earned at all.\n",
    "\n",
    "\n",
    " \n",
    "Examples:\n",
    "\n",
    "Input: arr[] = {100, 180, 260, 310, 40, 535, 695}\n",
    "\n",
    "Output: 865\n",
    "\n",
    "Explanation: Buy the stock on day 0 and sell it on day 3 => 310 – 100 = 210\n",
    "                       Buy the stock on day 4 and sell it on day 6 => 695 – 40 = 655\n",
    "                       Maximum Profit  = 210 + 655 = 865\n",
    "\n",
    "\n",
    "\n",
    "\n",
    "Input: arr[] = {4, 2, 2, 2, 4}\n",
    "\n",
    "Output: 2\n",
    "\n",
    "Explanation: Buy the stock on day 1 and sell it on day 4 => 4 – 2 = 2\n",
    "                       Maximum Profit  = 2\n",
    " "
   ]
  },
  {
   "cell_type": "code",
   "execution_count": 2,
   "metadata": {},
   "outputs": [
    {
     "name": "stdout",
     "output_type": "stream",
     "text": [
      "2\n"
     ]
    }
   ],
   "source": [
    "def maxprofit(price):\n",
    "    max_profit = 0\n",
    "    n = len(price)\n",
    "    for i in range(1,n):\n",
    "        if(price[i] > price[i - 1]):\n",
    "            max_profit+= price[i] - price[i - 1]  #Add the diffrence\n",
    "    \n",
    "    return max_profit \n",
    "\n",
    "\n",
    "\n",
    "###Print the max profit\n",
    "print(maxprofit([4,2,2,2,4]))\n"
   ]
  },
  {
   "cell_type": "code",
   "execution_count": null,
   "metadata": {},
   "outputs": [],
   "source": []
  },
  {
   "cell_type": "code",
   "execution_count": null,
   "metadata": {},
   "outputs": [],
   "source": []
  }
 ],
 "metadata": {
  "kernelspec": {
   "display_name": "Python 3",
   "language": "python",
   "name": "python3"
  },
  "language_info": {
   "codemirror_mode": {
    "name": "ipython",
    "version": 3
   },
   "file_extension": ".py",
   "mimetype": "text/x-python",
   "name": "python",
   "nbconvert_exporter": "python",
   "pygments_lexer": "ipython3",
   "version": "3.12.5"
  }
 },
 "nbformat": 4,
 "nbformat_minor": 2
}
