{
 "cells": [
  {
   "cell_type": "code",
   "execution_count": null,
   "metadata": {},
   "outputs": [],
   "source": []
  },
  {
   "cell_type": "markdown",
   "metadata": {},
   "source": [
    "### Frequencies in a Sorted Array\n",
    "Find the Frequencies in a Sorted Array !!!\n",
    "\n",
    "Our Task: Given a sorted array, arr[] consisting of N integers, the task is to find the frequencies of each array element.\n",
    "\n",
    "\n",
    " \n",
    "Examples: \n",
    "\n",
    "\n",
    "Input: arr[] = {1, 1, 1, 2, 3, 3, 5, 5, 8, 8, 8, 9, 9, 10} \n",
    "\n",
    "\n",
    "Output:       Frequency of 1 is: 3\n",
    "              Frequency of 2 is: 1\n",
    "              Frequency of 3 is: 2\n",
    "              Frequency of 5 is: 2\n",
    "              Frequency of 8 is: 3\n",
    "              Frequency of 9 is: 2\n",
    "              Frequency of 10 is: 1\n",
    "\n",
    "\n",
    "\n",
    "\n",
    "Input: arr[] = {2, 2, 6, 6, 7, 7, 7, 11} \n",
    "\n",
    "\n",
    "Output:        Frequency of 2 is: 2\n",
    "               Frequency of 6 is: 2\n",
    "               Frequency of 7 is: 3\n",
    "               Frequency of 11 is: 1\n",
    " \n",
    "\n",
    "\n",
    "\n",
    "To solve this problem, we use the following approach:\n",
    "\n",
    "The idea is to maintain a variable to keep track of the frequency of elements while traversing the array. Follow the steps below to solve the problem:\n",
    "\n",
    "\n",
    "\n",
    "Initialize a variable, say freq as 1 to store the frequency of elements.\n",
    "\n",
    "Iterate in the range [1, N-1] using the variable i and perform the following steps:\n",
    "\n",
    "If the value of arr[i] is equal to arr[i-1], increment freq by 1.\n",
    "\n",
    "Else print value the frequency of arr[i-1] obtained in freq and then update freq to 1.\n",
    "\n",
    "Finally, after the above step, print the frequency of the last distinct element of the array as freq.\n",
    "\n",
    "Time Complexity: O(N)\n",
    "\n",
    "Auxiliary Space: O(1)\n",
    "\n"
   ]
  },
  {
   "cell_type": "code",
   "execution_count": 30,
   "metadata": {},
   "outputs": [
    {
     "name": "stdout",
     "output_type": "stream",
     "text": [
      "10 --- 3\n",
      "25 --- 1\n",
      "30 --- 2\n",
      "\n",
      "----------------------------------------\n",
      "30 ==> 1\n",
      "10 ==> 1\n",
      "\n"
     ]
    }
   ],
   "source": [
    "def printfreq(lst):\n",
    "    n = len(lst)\n",
    "    count = 1\n",
    "    #for the list of size 1\n",
    "    if(n==1 or lst[n-1]!=lst[n-2]):\n",
    "        print(lst[n-1],\"==>\",1)\n",
    "        print(lst[n-2],\"==>\",1)\n",
    "        return ''\n",
    "    for indx in range(1,n):\n",
    "        if(lst[indx]==lst[indx-1]):\n",
    "            count+=1\n",
    "        else:\n",
    "            print(lst[indx -1 ],\"---\",count)\n",
    "            count = 1\n",
    "        #print the frequency for the last element\n",
    "    print(lst[n-1],\"---\",count)    \n",
    "    return ''            #'''I am print else here,so for last index value if satsfies ,so that issue,so i have to habdle that case, so in had print the last element in the separet at the end of loop''' \n",
    "    \n",
    "\n",
    "print(printfreq([10,10,10,25,30,30]))\n",
    "print('----'*10)\n",
    "print(printfreq([10,30]))      "
   ]
  },
  {
   "cell_type": "code",
   "execution_count": 7,
   "metadata": {},
   "outputs": [
    {
     "name": "stdout",
     "output_type": "stream",
     "text": [
      "1\n",
      "2\n",
      "3\n",
      "4\n",
      "5\n"
     ]
    }
   ],
   "source": [
    "for i in range(1,6):\n",
    "    print(i)"
   ]
  },
  {
   "cell_type": "code",
   "execution_count": null,
   "metadata": {},
   "outputs": [],
   "source": []
  }
 ],
 "metadata": {
  "kernelspec": {
   "display_name": "Python 3",
   "language": "python",
   "name": "python3"
  },
  "language_info": {
   "codemirror_mode": {
    "name": "ipython",
    "version": 3
   },
   "file_extension": ".py",
   "mimetype": "text/x-python",
   "name": "python",
   "nbconvert_exporter": "python",
   "pygments_lexer": "ipython3",
   "version": "3.12.5"
  }
 },
 "nbformat": 4,
 "nbformat_minor": 2
}
