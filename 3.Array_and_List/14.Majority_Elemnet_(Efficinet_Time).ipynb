{
 "cells": [
  {
   "cell_type": "code",
   "execution_count": null,
   "metadata": {},
   "outputs": [],
   "source": []
  },
  {
   "cell_type": "markdown",
   "metadata": {},
   "source": [
    "### 169. Majority Element\n",
    "\n",
    "\n",
    "Given an array nums of size n, return the majority element.\n",
    "\n",
    "The majority element is the element that appears more than ⌊n / 2⌋ times. You may assume that the majority element always exists in the array.\n",
    "\n",
    " -----------------------------------------------------\n",
    "\n",
    "Example 1:\n",
    "\n",
    "Input: nums = [3,2,3]\n",
    "\n",
    "Output: 3\n",
    "\n",
    "\n",
    "--------------------------------------------------------\n",
    "\n",
    "Example 2:\n",
    "\n",
    "Input: nums = [2,2,1,1,1,2,2]\n",
    "\n",
    "Output: 2"
   ]
  },
  {
   "cell_type": "code",
   "execution_count": 4,
   "metadata": {},
   "outputs": [
    {
     "name": "stdout",
     "output_type": "stream",
     "text": [
      "3\n"
     ]
    },
    {
     "data": {
      "text/plain": [
       "2"
      ]
     },
     "execution_count": 4,
     "metadata": {},
     "output_type": "execute_result"
    }
   ],
   "source": [
    "\n",
    "from typing import List\n",
    "\n",
    "class Solution:\n",
    "    def majorityElement(self, nums: List[int]) -> int:\n",
    "        ##Boore More's Algo\n",
    "        n = len(nums)              \n",
    "        Majority_ele = None\n",
    "        res = 0\n",
    "        count = 1 #count should start from 1\n",
    "        for i in range(1,n):\n",
    "            if(nums[res] == nums[i]):\n",
    "                count+=1\n",
    "            else:\n",
    "                count-=1\n",
    "            if(count == 0):#if count become Zero\n",
    "                res = i\n",
    "                count = 1 \n",
    "        return nums[res]    #I have returned here bcz , the Majoirty elemnt always present(given in the question)\n",
    "\n",
    "        #Now Check for the whether it is majority or not\n",
    "        count = 0\n",
    "        for i in range(0,n):\n",
    "            if(nums[res]==nums[i]):\n",
    "                count+=1 \n",
    "        if(count >= n//2):\n",
    "            return nums[res]\n",
    "        return None            \n",
    "\n",
    "\n",
    "ans = Solution()\n",
    "print(ans.majorityElement([3,1,3]))\n",
    "ans.majorityElement([2,2,1,1,1,2,2])\n",
    "        "
   ]
  },
  {
   "cell_type": "code",
   "execution_count": null,
   "metadata": {},
   "outputs": [],
   "source": []
  }
 ],
 "metadata": {
  "kernelspec": {
   "display_name": "Python 3",
   "language": "python",
   "name": "python3"
  },
  "language_info": {
   "codemirror_mode": {
    "name": "ipython",
    "version": 3
   },
   "file_extension": ".py",
   "mimetype": "text/x-python",
   "name": "python",
   "nbconvert_exporter": "python",
   "pygments_lexer": "ipython3",
   "version": "3.12.5"
  }
 },
 "nbformat": 4,
 "nbformat_minor": 2
}
