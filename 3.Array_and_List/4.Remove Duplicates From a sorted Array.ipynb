{
 "cells": [
  {
   "cell_type": "code",
   "execution_count": null,
   "metadata": {},
   "outputs": [],
   "source": []
  },
  {
   "cell_type": "markdown",
   "metadata": {},
   "source": [
    "### Remove the Duplicates from the sorted Array\n",
    "\n",
    "\n",
    "\n",
    "\n",
    "\n"
   ]
  },
  {
   "cell_type": "code",
   "execution_count": 1,
   "metadata": {},
   "outputs": [
    {
     "name": "stdout",
     "output_type": "stream",
     "text": [
      "[10, 20, 30, 30, 30, 30]\n"
     ]
    }
   ],
   "source": [
    "def remDupls_from_sorted_array(lst):\n",
    "\n",
    "\n",
    "    if not lst: #Check the list is empty\n",
    "        return []\n",
    "    \n",
    "    res = 1 #Take the pointer\n",
    "    n = len(lst)\n",
    "\n",
    "    for indx in range(1,n):\n",
    "        if(lst[indx] != lst[res-1]):\n",
    "            lst[res] = lst[indx]\n",
    "            res+= 1\n",
    "    return lst[:res] #Return only the unique part of the list \n",
    "\n",
    "\n",
    "\n",
    "print(remDupls_from_sorted_array([10,20,20,30,30,30]))\n",
    "\n",
    "\n"
   ]
  }
 ],
 "metadata": {
  "kernelspec": {
   "display_name": "Python 3",
   "language": "python",
   "name": "python3"
  },
  "language_info": {
   "codemirror_mode": {
    "name": "ipython",
    "version": 3
   },
   "file_extension": ".py",
   "mimetype": "text/x-python",
   "name": "python",
   "nbconvert_exporter": "python",
   "pygments_lexer": "ipython3",
   "version": "3.12.5"
  }
 },
 "nbformat": 4,
 "nbformat_minor": 2
}
