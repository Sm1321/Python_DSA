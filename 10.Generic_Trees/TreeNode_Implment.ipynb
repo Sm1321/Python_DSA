{
 "cells": [
  {
   "cell_type": "markdown",
   "metadata": {},
   "source": [
    "### Tree Node Implemantation"
   ]
  },
  {
   "cell_type": "code",
   "execution_count": 4,
   "metadata": {},
   "outputs": [
    {
     "name": "stdout",
     "output_type": "stream",
     "text": [
      "1\n",
      "2\n",
      "3\n",
      "4\n"
     ]
    }
   ],
   "source": [
    "#\n",
    "class TreeNode:\n",
    "    def __init__(self,data):\n",
    "        self.data = data\n",
    "        self.child = []\n",
    "    ###\n",
    "    \n",
    "#    \n",
    "root = TreeNode(1)\n",
    "child1 = TreeNode(2)  \n",
    "child2 = TreeNode(3)  \n",
    "child3 = TreeNode(4)\n",
    "\n",
    "##Make a Link\n",
    "root.child.append(child1)\n",
    "root.child.append(child2)\n",
    "root.child.append(child3)\n",
    "\n",
    "#Print the nodes\n",
    "# Print the data of each child node\n",
    "# Print the data of each child node\n",
    "print(root.data)\n",
    "print(root.child[0].data)\n",
    "print(root.child[1].data)\n",
    "print(root.child[2].data)\n",
    "\n"
   ]
  },
  {
   "cell_type": "code",
   "execution_count": 7,
   "metadata": {},
   "outputs": [
    {
     "name": "stdout",
     "output_type": "stream",
     "text": [
      "1: 2, 3, 4, \n",
      "2: \n",
      "3: \n",
      "4: \n"
     ]
    }
   ],
   "source": [
    "# Print the Tree \n",
    "def print_tree(node):\n",
    "    print(node.data)\n",
    "    # Print all the children \n",
    "    for eachChild in node.child:  # Change root.child to node.child\n",
    "        print_tree(eachChild)\n",
    "\n",
    "def print_tree_detailed(root):\n",
    "    # If the root is None\n",
    "    if root is None:\n",
    "        return\n",
    "    # Print the data\n",
    "    print(root.data, end=\": \") \n",
    "    # Print all children data\n",
    "    for eachChild in root.child:\n",
    "        print(eachChild.data, end=\", \")\n",
    "\n",
    "    print()  # New line for better readability\n",
    "    \n",
    "    for eachChild in root.child:\n",
    "        print_tree_detailed(eachChild)  # Call the function\n",
    "\n",
    "# Call the function\n",
    "print_tree_detailed(root)\n"
   ]
  },
  {
   "cell_type": "code",
   "execution_count": null,
   "metadata": {},
   "outputs": [],
   "source": []
  }
 ],
 "metadata": {
  "kernelspec": {
   "display_name": "base",
   "language": "python",
   "name": "python3"
  },
  "language_info": {
   "codemirror_mode": {
    "name": "ipython",
    "version": 3
   },
   "file_extension": ".py",
   "mimetype": "text/x-python",
   "name": "python",
   "nbconvert_exporter": "python",
   "pygments_lexer": "ipython3",
   "version": "3.12.3"
  }
 },
 "nbformat": 4,
 "nbformat_minor": 2
}
