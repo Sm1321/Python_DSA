{
 "cells": [
  {
   "cell_type": "markdown",
   "metadata": {},
   "source": [
    "## Delete Node By Value"
   ]
  },
  {
   "cell_type": "code",
   "execution_count": 3,
   "metadata": {},
   "outputs": [
    {
     "name": "stdout",
     "output_type": "stream",
     "text": [
      "<__main__.Node object at 0x000001E8C2C8F8F0>\n",
      "10 -> 20 -> 30 -> 60\n"
     ]
    }
   ],
   "source": [
    "def delete_node_by_value(head, value):\n",
    "    if head is None:\n",
    "        return None  # Empty list case\n",
    "    \n",
    "    # If the head node itself holds the value to be deleted\n",
    "    if head.data == value:\n",
    "        return head.next  # Move head to the next node\n",
    "\n",
    "    temp = head\n",
    "    prev = None\n",
    "\n",
    "    # Traverse the list to find the node to delete\n",
    "    while temp is not None:\n",
    "        if temp.data == value:\n",
    "            prev.next = temp.next  # Remove the node by linking prev to temp's next\n",
    "            break\n",
    "        prev = temp\n",
    "        temp = temp.next\n",
    "\n",
    "    return head\n",
    "\n",
    "# Example usage:\n",
    "class Node:\n",
    "    def __init__(self, data):\n",
    "        self.data = data\n",
    "        self.next = None\n",
    "\n",
    "# Creating a linked list: 10 -> 20 -> 30 -> 40 -> 50 -> 60\n",
    "head = Node(10)\n",
    "head.next = Node(20)\n",
    "head.next.next = Node(30)\n",
    "head.next.next.next = Node(40)\n",
    "head.next.next.next.next = Node(50)\n",
    "head.next.next.next.next.next = Node(60)\n",
    "\n",
    "# Deleting the node with value 40\n",
    "ans = delete_node_by_value(head, 40)\n",
    "\n",
    "# Printing the modified list\n",
    "while ans:\n",
    "    print(ans.data, end=\" -> \" if ans.next else \"\\n\")\n",
    "    ans = ans.next\n"
   ]
  },
  {
   "cell_type": "code",
   "execution_count": 12,
   "metadata": {},
   "outputs": [
    {
     "name": "stdout",
     "output_type": "stream",
     "text": [
      "LL out of bound,value not there \n",
      "10 -> 20 -> 30 -> 40 -> 50 -> 60\n"
     ]
    }
   ],
   "source": [
    "def delete_node_by_value_2(head, value):\n",
    "    if head is None:\n",
    "        return None  # Empty list case\n",
    "    \n",
    "    # If the head node itself holds the value to be deleted\n",
    "    if head.data == value:\n",
    "        return head.next  # Move head to the next node\n",
    "\n",
    "    temp = head\n",
    "\n",
    "\n",
    "    # Traverse the list to find the node to delete\n",
    "    while temp.next is not None and temp.next.data!=value:\n",
    "        temp = temp.next\n",
    "        ##\n",
    "    if(temp.next is None):\n",
    "        print(\"LL out of bound,value not there \")\n",
    "        return head\n",
    "    #Update         \n",
    "    temp.next = temp.next.next    \n",
    "\n",
    "    return head\n",
    "\n",
    "# Example usage:\n",
    "class Node:\n",
    "    def __init__(self, data):\n",
    "        self.data = data\n",
    "        self.next = None\n",
    "\n",
    "# Creating a linked list: 10 -> 20 -> 30 -> 40 -> 50 -> 60\n",
    "head = Node(10)\n",
    "head.next = Node(20)\n",
    "head.next.next = Node(30)\n",
    "head.next.next.next = Node(40)\n",
    "head.next.next.next.next = Node(50)\n",
    "head.next.next.next.next.next = Node(60)\n",
    "\n",
    "# Deleting the node with value 40\n",
    "ans = delete_node_by_value_2(head, 670)\n",
    "\n",
    "# Printing the modified list\n",
    "while ans:\n",
    "    print(ans.data, end=\" -> \" if ans.next else \"\\n\")\n",
    "    ans = ans.next\n"
   ]
  },
  {
   "cell_type": "code",
   "execution_count": 10,
   "metadata": {},
   "outputs": [
    {
     "name": "stdout",
     "output_type": "stream",
     "text": [
      "10 -> 20 -> 30 -> 40 -> 50\n"
     ]
    }
   ],
   "source": [
    "#Delete node by value uisng the REc\n",
    "\n",
    "def delete_node_by_value_rec(head, value):\n",
    "    if head is None:\n",
    "        return None  # Empty list case\n",
    "    \n",
    "    # If the head node itself holds the value to be deleted\n",
    "    if head.data == value:\n",
    "        return head.next  # Move head to the next node\n",
    "\n",
    "    temp = head\n",
    "    prev = None\n",
    "\n",
    "    # Traverse the list to find the node to delete\n",
    "    while temp is not None:\n",
    "        if temp.data == value:\n",
    "            prev.next = temp.next  # Remove the node by linking prev to temp's next\n",
    "            break\n",
    "        prev = temp\n",
    "        temp = temp.next\n",
    "\n",
    "    return head\n",
    "\n",
    "# Example usage:\n",
    "class Node:\n",
    "    def __init__(self, data):\n",
    "        self.data = data\n",
    "        self.next = None\n",
    "\n",
    "# Creating a linked list: 10 -> 20 -> 30 -> 40 -> 50 -> 60\n",
    "head = Node(10)\n",
    "head.next = Node(20)\n",
    "head.next.next = Node(30)\n",
    "head.next.next.next = Node(40)\n",
    "head.next.next.next.next = Node(50)\n",
    "head.next.next.next.next.next = Node(60)\n",
    "\n",
    "# Deleting the node with value 40\n",
    "ans = delete_node_by_value_rec(head, 60)\n",
    "\n",
    "# Printing the modified list\n",
    "while ans:\n",
    "    print(ans.data, end=\" -> \" if ans.next else \"\\n\")\n",
    "    ans = ans.next\n",
    "\n",
    "\n"
   ]
  },
  {
   "cell_type": "code",
   "execution_count": null,
   "metadata": {},
   "outputs": [],
   "source": [
    "### \n",
    "\n"
   ]
  }
 ],
 "metadata": {
  "kernelspec": {
   "display_name": "base",
   "language": "python",
   "name": "python3"
  },
  "language_info": {
   "codemirror_mode": {
    "name": "ipython",
    "version": 3
   },
   "file_extension": ".py",
   "mimetype": "text/x-python",
   "name": "python",
   "nbconvert_exporter": "python",
   "pygments_lexer": "ipython3",
   "version": "3.12.3"
  }
 },
 "nbformat": 4,
 "nbformat_minor": 2
}
