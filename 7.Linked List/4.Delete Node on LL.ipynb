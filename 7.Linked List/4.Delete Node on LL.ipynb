{
 "cells": [
  {
   "cell_type": "markdown",
   "metadata": {},
   "source": [
    "### Delete the Node in LL"
   ]
  },
  {
   "cell_type": "markdown",
   "metadata": {},
   "source": []
  },
  {
   "cell_type": "markdown",
   "metadata": {},
   "source": [
    "- Delete the node at head"
   ]
  },
  {
   "cell_type": "code",
   "execution_count": 42,
   "metadata": {},
   "outputs": [
    {
     "name": "stdout",
     "output_type": "stream",
     "text": [
      "Linked list printed using recursion:\n",
      "1 -> 2 -> 3 -> 4 -> 5 -> 6 -> None\n",
      "---------------\n"
     ]
    }
   ],
   "source": [
    "class Node:\n",
    "    def __init__(self, value):\n",
    "        self.data = value\n",
    "        self.next = None\n",
    "\n",
    "# Function to print the linked list using recursion\n",
    "def PrintUsingRec(head):\n",
    "    if head is None:\n",
    "        return\n",
    "    print(head.data, end=\" -> \")\n",
    "    PrintUsingRec(head.next)\n",
    "\n",
    "# Function to print the linked list in reverse using recursion\n",
    "def PrintUsingRec_Reverse(head):\n",
    "    if head is None:\n",
    "        return\n",
    "    PrintUsingRec_Reverse(head.next)\n",
    "    print(head.data, end=\" -> \")    \n",
    "\n",
    "# Function to take input and create a linked list\n",
    "def take_input():\n",
    "    head = None\n",
    "    tail = None\n",
    "\n",
    "    value = int(input(\"Enter the value of node (-1 to stop): \"))\n",
    "    while value != -1:\n",
    "        new_node = Node(value)\n",
    "        if head is None:\n",
    "            head = new_node\n",
    "            tail = head\n",
    "        else:\n",
    "            tail.next = new_node\n",
    "            tail = new_node\n",
    "        value = int(input(\"Enter the value of next node (-1 to stop): \"))\n",
    "    \n",
    "    return head\n",
    "\n",
    "# Function to insert a new node at the beginning of the linked list\n",
    "def insert_at_begin(head, data):\n",
    "    newNode = Node(data)\n",
    "    newNode.next = head\n",
    "    head = newNode  # Update the head\n",
    "    return head     # Return the new head\n",
    "\n",
    "# Function to insert a new node at the end of the linked list\n",
    "def insert_at_end(head, data):\n",
    "    newNode = Node(data)\n",
    "    if head is None:  # If the list is empty\n",
    "        return newNode\n",
    "    temp = head\n",
    "    while temp.next is not None:\n",
    "        temp = temp.next\n",
    "    temp.next = newNode  # Link the new node at the end of the list\n",
    "    return head\n",
    "\n",
    "# Function to insert a new node in the middle of the linked list (placeholder)\n",
    "def insert_at_index(head, index,data):\n",
    "    if(index == 0):\n",
    "        return insert_at_begin(head,data)\n",
    "    newNode = Node(data)\n",
    "    temp = head\n",
    "    count = 0\n",
    "\n",
    "    if(index == 1):\n",
    "        newNode = Node(data)\n",
    "        newNode.next = head.next #Making to the 1 Node link\n",
    "        head.next = newNode #link with head also\n",
    "        return head\n",
    "    \n",
    "    while temp is not None and count < index - 1:#we have stp one step before\n",
    "        temp = temp.next\n",
    "        count+=1\n",
    "\n",
    "    #link the index\n",
    "    newNode.next = temp.next\n",
    "    temp.next = newNode\n",
    "    return head  \n",
    "\n",
    "\n",
    "#Delete the Node at the Head Location \n",
    "def delete_at_head(head):\n",
    "    if head == None:\n",
    "        return None\n",
    "\n",
    "    new_head = head.next \n",
    "    #Delete the head\n",
    "    head = new_head \n",
    "    return head  \n",
    "\n",
    "#Delete the Node at the tail\n",
    "def delete_at_tail(head):\n",
    "    # If the list is empty or has only one node\n",
    "    if head is None or head.next is None:\n",
    "        return None\n",
    "    \n",
    "    temp = head\n",
    "    prev = None\n",
    "    \n",
    "    # Traverse to the end of the list\n",
    "    while temp.next is not None:\n",
    "        prev = temp  # Keep track of the previous node\n",
    "        temp = temp.next  # Move forward\n",
    "    \n",
    "    # Now, temp is at the last node, and prev is the second-to-last node\n",
    "    prev.next = None  # Remove the last node by setting prev's next to None\n",
    "    \n",
    "    return head\n",
    "\n",
    "def is_tail_node(node):\n",
    "    if(node ==None):\n",
    "        return None\n",
    "\n",
    "    if(node.next == None):\n",
    "        return None \n",
    "    return False \n",
    " \n",
    "\n",
    "\n",
    "def delete_at_tail_1(head):\n",
    "    # If the list is empty or has only one node\n",
    "    if head is None or head.next is None:\n",
    "        return None\n",
    "    temp = head\n",
    "    while(temp.next.next is not None):\n",
    "        temp = temp.next\n",
    "\n",
    "    temp.next = None#Mkae the tmp at the None\n",
    "    return head\n",
    "\n",
    "def delete_at_tail_recursively(head):\n",
    "    if head is None:\n",
    "        return None  # Empty list case\n",
    "    if head.next is None:\n",
    "        return None  # Single node case, removes the last node\n",
    "    \n",
    "    # Recursive call for the next node\n",
    "    head.next = delete_at_tail_recursively(head.next)\n",
    "    \n",
    "    return head\n",
    "\n",
    "def delete_at_given_index_rec(head, index, temp_indx=0):\n",
    "    if head is None:\n",
    "        return None  # Empty list case\n",
    "    \n",
    "    # If the node to delete is the head\n",
    "    if index == 0:\n",
    "        return head.next\n",
    "    \n",
    "    # Reached the node just before the one we want to delete\n",
    "    if temp_indx == index - 1 and head.next is not None:\n",
    "        head.next = head.next.next\n",
    "        return head\n",
    "    \n",
    "    # Recursive call for the next node\n",
    "    head.next = delete_at_given_index_rec(head.next, index, temp_indx + 1)\n",
    "    \n",
    "    return head\n",
    "\n",
    "\n",
    "def delete_at_given_index(head,index):\n",
    "    index_cnt = 0\n",
    "    if index == 0:\n",
    "        print(\"LL is Empty!\")\n",
    "        return head \n",
    "    temp = head\n",
    "    while  temp is not None and index_cnt < index- 1 :\n",
    "        temp = temp.next\n",
    "        index_cnt+=1\n",
    "    if(temp is None):\n",
    "        print(\"The LL  is out of Bond\")\n",
    "        return head \n",
    "       \n",
    "    temp.next = temp.next.next #change the link,deleted node   \n",
    "    return head #        \n",
    "\n",
    "\n",
    "\n",
    "\n",
    "     \n",
    "    \n",
    "\n",
    "\n",
    "  \n",
    "\n",
    "\n",
    "\n",
    "\n",
    "# Main code to test the functions\n",
    "# Create a linked list using user input\n",
    "head = take_input()\n",
    "\n",
    "# Print the linked list using recursion\n",
    "print(\"Linked list printed using recursion:\")\n",
    "PrintUsingRec(head)\n",
    "print(\"None\")  # End of the linked list\n",
    "print('---' * 5)\n",
    "\n"
   ]
  },
  {
   "cell_type": "code",
   "execution_count": 20,
   "metadata": {},
   "outputs": [
    {
     "name": "stdout",
     "output_type": "stream",
     "text": [
      "Before Deleetion:-\n",
      "1 -> 2 -> 3 -> 3 -> 2 -> None\n",
      "After Deleteion of the head\n",
      "2 -> 3 -> 3 -> 2 -> None\n"
     ]
    }
   ],
   "source": [
    "#call the Delete ate Head \n",
    "print(\"Before Deleetion:-\")\n",
    "print(PrintUsingRec(head))\n",
    "ans = delete_at_head(head)\n",
    "print(\"After Deleteion of the head\")\n",
    "print(PrintUsingRec(ans))"
   ]
  },
  {
   "cell_type": "code",
   "execution_count": 21,
   "metadata": {},
   "outputs": [
    {
     "name": "stdout",
     "output_type": "stream",
     "text": [
      "Before Deletion:-\n",
      "1 -> 2 -> 3 -> 3 -> 2 -> None\n",
      "After Deleteion of the tail\n",
      "1 -> 2 -> 3 -> 3 -> None\n"
     ]
    }
   ],
   "source": [
    "#call the Delete at Tail\n",
    "print(\"Before Deletion:-\")\n",
    "print(PrintUsingRec(head))\n",
    "ans = delete_at_tail(head)\n",
    "print(\"After Deleteion of the tail\")\n",
    "print(PrintUsingRec(ans))"
   ]
  },
  {
   "cell_type": "code",
   "execution_count": 22,
   "metadata": {},
   "outputs": [
    {
     "name": "stdout",
     "output_type": "stream",
     "text": [
      "Before Deletion:-\n",
      "1 -> 2 -> 3 -> 3 -> None\n",
      "After Deleteion of the tail\n",
      "1 -> 2 -> 3 -> None\n"
     ]
    }
   ],
   "source": [
    "#call the Delete at Tail\n",
    "print(\"Before Deletion:-\")\n",
    "print(PrintUsingRec(head))\n",
    "ans = delete_at_tail_1(head)\n",
    "print(\"After Deleteion of the tail\")\n",
    "print(PrintUsingRec(ans))"
   ]
  },
  {
   "cell_type": "code",
   "execution_count": 29,
   "metadata": {},
   "outputs": [
    {
     "name": "stdout",
     "output_type": "stream",
     "text": [
      "1 -> 2 -> 3 -> 4 -> 6 -> "
     ]
    }
   ],
   "source": [
    "## Call the delete at the index with recsurion\n",
    "ans = delete_at_given_index_rec(head,4)\n",
    "PrintUsingRec(ans)"
   ]
  },
  {
   "cell_type": "code",
   "execution_count": 43,
   "metadata": {},
   "outputs": [
    {
     "name": "stdout",
     "output_type": "stream",
     "text": [
      "1 -> 2 -> 3 -> 4 -> 6 -> "
     ]
    }
   ],
   "source": [
    "## Call the delete at the index with recsurion\n",
    "ans = delete_at_given_index(head,4)\n",
    "PrintUsingRec(ans)"
   ]
  },
  {
   "cell_type": "code",
   "execution_count": 44,
   "metadata": {},
   "outputs": [
    {
     "name": "stdout",
     "output_type": "stream",
     "text": [
      "1 -> 2 -> 3 -> 6 -> "
     ]
    }
   ],
   "source": [
    "## Call the delete at the index with recsurion\n",
    "ans = delete_at_given_index_rec(head,3)\n",
    "PrintUsingRec(ans)"
   ]
  }
 ],
 "metadata": {
  "kernelspec": {
   "display_name": "base",
   "language": "python",
   "name": "python3"
  },
  "language_info": {
   "codemirror_mode": {
    "name": "ipython",
    "version": 3
   },
   "file_extension": ".py",
   "mimetype": "text/x-python",
   "name": "python",
   "nbconvert_exporter": "python",
   "pygments_lexer": "ipython3",
   "version": "3.12.3"
  }
 },
 "nbformat": 4,
 "nbformat_minor": 2
}
