{
 "cells": [
  {
   "cell_type": "markdown",
   "metadata": {},
   "source": [
    "### Create a Node of LL"
   ]
  },
  {
   "cell_type": "code",
   "execution_count": 1,
   "metadata": {},
   "outputs": [],
   "source": [
    "class Node:\n",
    "    def __init__(self,value):\n",
    "        self.data = value \n",
    "        self.next = None \n",
    "\n",
    "\n",
    "###\n",
    "first = Node(1)\n",
    "second = Node(2)\n",
    "third = Node(3)\n",
    "\n",
    "\n"
   ]
  },
  {
   "cell_type": "code",
   "execution_count": 3,
   "metadata": {},
   "outputs": [
    {
     "name": "stdout",
     "output_type": "stream",
     "text": [
      "2473531852896 2473531859280 2473531853856\n",
      "\n"
     ]
    }
   ],
   "source": [
    "print(id(first),id(second),id(third))\n",
    "print()"
   ]
  },
  {
   "cell_type": "code",
   "execution_count": 4,
   "metadata": {},
   "outputs": [],
   "source": [
    "#Make a link\n",
    "first.next = second\n",
    "second.next = third"
   ]
  },
  {
   "cell_type": "code",
   "execution_count": 8,
   "metadata": {},
   "outputs": [
    {
     "name": "stdout",
     "output_type": "stream",
     "text": [
      "<__main__.Node object at 0x0000023FE9FCE150>\n",
      "2473531859280\n",
      "<__main__.Node object at 0x0000023FE9FCCC20>\n",
      "2473531853856\n"
     ]
    }
   ],
   "source": [
    "print(first.next)\n",
    "print(int(0x0000023FE9FCE150))\n",
    "print(second.next)\n",
    "print(int(0x0000023FE9FCCC20))"
   ]
  },
  {
   "cell_type": "code",
   "execution_count": 9,
   "metadata": {},
   "outputs": [],
   "source": [
    "#crate the head\n",
    "head = first"
   ]
  },
  {
   "cell_type": "code",
   "execution_count": 16,
   "metadata": {},
   "outputs": [
    {
     "name": "stdout",
     "output_type": "stream",
     "text": [
      "1\n",
      "2\n",
      "3\n"
     ]
    }
   ],
   "source": [
    "#Function to Print the LL\n",
    "def printLL(head):\n",
    "    temp = head\n",
    "    while temp!= None:\n",
    "        print(temp.data)\n",
    "        temp = temp.next\n",
    "### \n",
    "printLL(head)       "
   ]
  },
  {
   "cell_type": "code",
   "execution_count": 15,
   "metadata": {},
   "outputs": [
    {
     "name": "stdout",
     "output_type": "stream",
     "text": [
      "1\n",
      "2\n",
      "3\n"
     ]
    }
   ],
   "source": [
    "print(first.data)\n",
    "print(first.next.data)\n",
    "print(first.next.next.data)\n"
   ]
  },
  {
   "cell_type": "markdown",
   "metadata": {},
   "source": [
    "#### To Take the Input From the Linked List"
   ]
  },
  {
   "cell_type": "code",
   "execution_count": 33,
   "metadata": {},
   "outputs": [],
   "source": [
    "class Node:\n",
    "    def __init__(self, value):\n",
    "        self.data = value\n",
    "        self.next = None\n",
    "\n",
    "def take_input():\n",
    "    head = None\n",
    "    tail = None\n",
    "\n",
    "    # Take the input for the first node\n",
    "    value = int(input(\"Enter the value of node (-1 to stop): \"))\n",
    "    \n",
    "    # Keep taking input until the user enters -1\n",
    "    while value != -1:\n",
    "        newNode = Node(value)\n",
    "        if head is None:\n",
    "            head = newNode\n",
    "            tail = head\n",
    "        else:\n",
    "            tail.next = newNode  # Link to the next node\n",
    "            tail = newNode  # Update the tail to the new node\n",
    "        \n",
    "        # Take input for the next node\n",
    "        value = int(input(\"Enter the value of next node (-1 to stop): \"))\n",
    "    \n",
    "    return head  # Return the head of the linked list\n",
    "\n",
    "# Function to print the linked list\n",
    "def print_LL(head):\n",
    "    temp = head\n",
    "    while temp is not None:\n",
    "        print(temp.data, end=\" -> \")\n",
    "        temp = temp.next\n",
    "    print(\"None\")\n",
    "\n",
    "\n"
   ]
  },
  {
   "cell_type": "code",
   "execution_count": 34,
   "metadata": {},
   "outputs": [
    {
     "name": "stdout",
     "output_type": "stream",
     "text": [
      "1 -> 5 -> 7 -> 8 -> 9 -> None\n"
     ]
    }
   ],
   "source": [
    "# Create a linked list using user input\n",
    "head = take_input()\n",
    "\n",
    "# Print the linked list\n",
    "print_LL(head)"
   ]
  },
  {
   "cell_type": "code",
   "execution_count": null,
   "metadata": {},
   "outputs": [],
   "source": []
  },
  {
   "cell_type": "code",
   "execution_count": null,
   "metadata": {},
   "outputs": [],
   "source": []
  }
 ],
 "metadata": {
  "kernelspec": {
   "display_name": "Python 3",
   "language": "python",
   "name": "python3"
  },
  "language_info": {
   "codemirror_mode": {
    "name": "ipython",
    "version": 3
   },
   "file_extension": ".py",
   "mimetype": "text/x-python",
   "name": "python",
   "nbconvert_exporter": "python",
   "pygments_lexer": "ipython3",
   "version": "3.12.5"
  }
 },
 "nbformat": 4,
 "nbformat_minor": 2
}
